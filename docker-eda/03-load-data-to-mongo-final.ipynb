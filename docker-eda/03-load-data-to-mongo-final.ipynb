{
 "cells": [
  {
   "cell_type": "markdown",
   "metadata": {},
   "source": [
    "# Install Packages"
   ]
  },
  {
   "cell_type": "code",
   "execution_count": 1,
   "metadata": {},
   "outputs": [],
   "source": [
    "%matplotlib inline"
   ]
  },
  {
   "cell_type": "code",
   "execution_count": 2,
   "metadata": {},
   "outputs": [],
   "source": [
    "from __future__ import print_function\n",
    "from datetime import datetime\n",
    "import io\n",
    "import json\n",
    "import os\n",
    "import pickle"
   ]
  },
  {
   "cell_type": "markdown",
   "metadata": {},
   "source": [
    "# Reload the Metadata"
   ]
  },
  {
   "cell_type": "markdown",
   "metadata": {},
   "source": [
    "If running from a Docker container, make sure to run `aws configure` manually to configure your credentials, or it won't be able to upload to or download from the bucket."
   ]
  },
  {
   "cell_type": "code",
   "execution_count": 3,
   "metadata": {},
   "outputs": [],
   "source": [
    "s3_bucket = 'mdang.w210'"
   ]
  },
  {
   "cell_type": "code",
   "execution_count": 4,
   "metadata": {},
   "outputs": [],
   "source": [
    "# If we don't have any of the cached data files, download them from S3\n",
    "\n",
    "if not os.path.isdir('iati'):\n",
    "    !aws s3 cp s3://{s3_bucket}/iati.tar.gz .\n",
    "    !tar -zxf iati.tar.gz\n",
    "\n",
    "if not os.path.isfile('activities_metadata.json'):\n",
    "    !aws s3 cp s3://{s3_bucket}/activities_metadata.json.gz .\n",
    "    !gunzip activities_metadata.json.gz\n",
    "\n",
    "if not os.path.isdir('iati-orgs'):\n",
    "    !aws s3 cp s3://{s3_bucket}/iati-orgs.tar.gz .\n",
    "    !tar -zxf iati-orgs.tar.gz\n",
    "\n",
    "if not os.path.isfile('organization_metadata.json'):\n",
    "    !aws s3 cp s3://{s3_bucket}/organization_metadata.json.gz .\n",
    "    !gunzip organization_metadata.json.gz"
   ]
  },
  {
   "cell_type": "markdown",
   "metadata": {},
   "source": [
    "## Activities"
   ]
  },
  {
   "cell_type": "code",
   "execution_count": 5,
   "metadata": {},
   "outputs": [
    {
     "name": "stdout",
     "output_type": "stream",
     "text": [
      "2017-12-30 09:23:42.207777 Processed 0 of 4587 (0 errors)\n",
      "2017-12-30 09:24:00.083647 Processed 100 of 4587 (1 errors)\n",
      "2017-12-30 09:24:13.791458 Processed 200 of 4587 (1 errors)\n",
      "2017-12-30 09:24:40.926808 Processed 300 of 4587 (1 errors)\n",
      "2017-12-30 09:24:58.281917 Processed 400 of 4587 (1 errors)\n",
      "2017-12-30 09:25:21.872715 Processed 500 of 4587 (1 errors)\n",
      "2017-12-30 09:25:45.367334 Processed 600 of 4587 (1 errors)\n",
      "2017-12-30 09:26:00.551300 Processed 700 of 4587 (1 errors)\n",
      "2017-12-30 09:26:14.954294 Processed 800 of 4587 (1 errors)\n",
      "2017-12-30 09:26:35.157452 Processed 900 of 4587 (1 errors)\n",
      "2017-12-30 09:26:53.473205 Processed 1000 of 4587 (2 errors)\n",
      "2017-12-30 09:27:07.228759 Processed 1100 of 4587 (2 errors)\n",
      "2017-12-30 09:27:21.662504 Processed 1200 of 4587 (4 errors)\n",
      "2017-12-30 09:27:40.077492 Processed 1300 of 4587 (6 errors)\n",
      "2017-12-30 09:28:03.293521 Processed 1400 of 4587 (6 errors)\n",
      "2017-12-30 09:28:14.643923 Processed 1500 of 4587 (6 errors)\n",
      "2017-12-30 09:28:38.971616 Processed 1600 of 4587 (6 errors)\n",
      "2017-12-30 09:29:14.398081 Processed 1700 of 4587 (6 errors)\n",
      "2017-12-30 09:29:40.883699 Processed 1800 of 4587 (6 errors)\n",
      "2017-12-30 09:30:02.504147 Processed 1900 of 4587 (6 errors)\n",
      "2017-12-30 09:30:23.713040 Processed 2000 of 4587 (6 errors)\n",
      "2017-12-30 09:30:41.790363 Processed 2100 of 4587 (7 errors)\n",
      "2017-12-30 09:31:04.156773 Processed 2200 of 4587 (8 errors)\n",
      "2017-12-30 09:31:24.767066 Processed 2300 of 4587 (8 errors)\n",
      "2017-12-30 09:31:37.798926 Processed 2400 of 4587 (8 errors)\n",
      "2017-12-30 09:31:51.163989 Processed 2500 of 4587 (8 errors)\n",
      "2017-12-30 09:32:04.948398 Processed 2600 of 4587 (8 errors)\n",
      "2017-12-30 09:32:25.086531 Processed 2700 of 4587 (9 errors)\n",
      "2017-12-30 09:32:43.620653 Processed 2800 of 4587 (9 errors)\n",
      "2017-12-30 09:33:17.451227 Processed 2900 of 4587 (9 errors)\n",
      "2017-12-30 09:33:33.917020 Processed 3000 of 4587 (10 errors)\n",
      "2017-12-30 09:33:49.393771 Processed 3100 of 4587 (10 errors)\n",
      "2017-12-30 09:34:07.338251 Processed 3200 of 4587 (11 errors)\n",
      "2017-12-30 09:34:24.204121 Processed 3300 of 4587 (11 errors)\n",
      "2017-12-30 09:34:40.464215 Processed 3400 of 4587 (11 errors)\n",
      "2017-12-30 09:35:00.593604 Processed 3500 of 4587 (11 errors)\n",
      "2017-12-30 09:35:19.177966 Processed 3600 of 4587 (13 errors)\n",
      "2017-12-30 09:35:31.797425 Processed 3700 of 4587 (13 errors)\n",
      "2017-12-30 09:35:55.000236 Processed 3800 of 4587 (16 errors)\n",
      "2017-12-30 09:36:13.641433 Processed 3900 of 4587 (16 errors)\n",
      "2017-12-30 09:36:23.402035 Processed 4000 of 4587 (16 errors)\n",
      "2017-12-30 09:36:42.262927 Processed 4100 of 4587 (18 errors)\n",
      "2017-12-30 09:37:18.232723 Processed 4200 of 4587 (18 errors)\n",
      "2017-12-30 09:37:33.219698 Processed 4300 of 4587 (18 errors)\n",
      "2017-12-30 09:37:55.052187 Processed 4400 of 4587 (18 errors)\n",
      "2017-12-30 09:38:18.347194 Processed 4500 of 4587 (18 errors)\n",
      "2017-12-30 09:38:37.280383 Processed 4586 of 4587\n"
     ]
    }
   ],
   "source": [
    "from mongodb_iati import activities, activities_metadata, transactions, activity_failures, activity_xml_failures, import_activity_document\n",
    "\n",
    "activity_failures.clear()\n",
    "activity_xml_failures.clear()\n",
    "\n",
    "file_names = [\n",
    "    '%s/%s' % ('iati', file_name)\n",
    "        for file_name in os.listdir('iati')\n",
    "            if file_name.endswith('.xml')\n",
    "]\n",
    "\n",
    "for num_finished, file_name in enumerate(file_names):\n",
    "    if num_finished % 100 == 0:\n",
    "        failure_count = len(activity_failures) + len(activity_xml_failures)\n",
    "        print('%s Processed %d of %d (%d errors)' % (datetime.now(), num_finished, len(file_names), failure_count))\n",
    "\n",
    "    with open(file_name) as f:\n",
    "        import_activity_document(f)\n",
    "\n",
    "print('%s Processed %d of %d' % (datetime.now(), num_finished, len(file_names)))"
   ]
  },
  {
   "cell_type": "code",
   "execution_count": 6,
   "metadata": {},
   "outputs": [
    {
     "name": "stdout",
     "output_type": "stream",
     "text": [
      "764159\n",
      "3602802\n",
      "4542\n"
     ]
    }
   ],
   "source": [
    "print(activities.count())\n",
    "print(transactions.count())\n",
    "print(activities_metadata.count())"
   ]
  },
  {
   "cell_type": "code",
   "execution_count": 7,
   "metadata": {},
   "outputs": [
    {
     "data": {
      "text/plain": [
       "{'@default-currency': 'USD',\n",
       " '@generated-datetime': '2017-11-30T10:00:00Z',\n",
       " '@hierarchy': '1',\n",
       " '@last-updated-datetime': '2017-11-30T10:00:00Z',\n",
       " '@w210-key': 'unitedstates-bh',\n",
       " '@xml:lang': 'en',\n",
       " '_id': ObjectId('5a475b1e6f8487020fc0baae'),\n",
       " 'activity-date': [{'@iso-date': '2013-09-30',\n",
       "   '@type': '2',\n",
       "   'narrative': None},\n",
       "  {'@iso-date': '2016-09-30', '@type': '4', 'narrative': None}],\n",
       " 'activity-scope': {'@code': '4'},\n",
       " 'activity-status': {'@code': '2'},\n",
       " 'collaboration-type': {'@code': '1'},\n",
       " 'conditions': {'@attached': '0'},\n",
       " 'contact-info': {'@type': '1',\n",
       "  'email': None,\n",
       "  'mailing-address': {'narrative': '950 Pennsylvania Avenue, NW Washington, DC 20530-0001'},\n",
       "  'organisation': {'narrative': 'Department of Justice'},\n",
       "  'person-name': {'narrative': None},\n",
       "  'telephone': '800-877-8339',\n",
       "  'website': 'https://www.justice.gov/'},\n",
       " 'default-aid-type': {'@code': 'C01'},\n",
       " 'default-finance-type': {'@code': '110'},\n",
       " 'default-flow-type': {'@code': '10'},\n",
       " 'default-tied-status': {'@code': '3'},\n",
       " 'description': {'narrative': 'Administrative and programmatic support for international law enforcement training and prosecutorial assistance training activities'},\n",
       " 'iati-identifier': 'US-GOV-15-BH-37F111',\n",
       " 'location': {'description': {'narrative': \"The primary goals of U.S. assistance are to strengthen Bahrain's interoperability for regional security and counterterrorism cooperation; boost Bahrain's maritime defenses against smuggling and terrorism; and improve Bahrain's ability to deny terrorist sponsorship, support, and sanctuary, while respecting human rights.  The Government of Bahrain plays a key role in the Gulf's security architecture and is an important member of the U.S.-led anti-Islamic State in Iraq and the Levant (ISIL) coalition.  U.S. assistance will help Bahrain maintain its critical support for and participation in the coalition's airstrikes in Syria, continue its steps to halt the flow of foreign fighters, and help focus the region's attention on countering terrorist financing.  Bahrain is a major non-NATO ally working with the United States to facilitate a broad military alliance, operating across the Near East, and maintaining open shipping lanes.  Without Bahrain's partnership, the United States would require additional deployed military assets to defend against external threats in the Gulf region.  Bahrain provides the United States access to its air bases, allowing for the pre-positioning of strategic materials, and expanding exercises and training opportunities for the Bahrain Defense Force (BDF).  In addition, Bahrain hosts the Fifth Fleet and the U.S. Navy Central Command Headquarters and provides protection for the U.S. military. U.S. assistance will further strengthen the military partnership and coordination while building lasting military-to-military relationships.Domestically, violent extremists continue to target Bahraini government interests, especially Ministry of Interior (MOI) personnel.  U.S. assistance will enable Bahrain to more effectively counter and prevent violent activities, and includes a focus on adhering to international human rights standards when confronting threats.  Ongoing political and social unrest underscores the need for the Bahraini government to address its citizens' demands for reform in order to assure Bahrain's long-term domestic stability and prosperity.  The United States continues to encourage Bahrain's leadership to implement reforms that adhere to human rights standards.\"},\n",
       "  'exactness': {'@code': '1'},\n",
       "  'location-class': {'@code': '4'},\n",
       "  'name': {'narrative': 'Bahrain'}},\n",
       " 'participating-org': [{'@ref': 'US-USAGOV',\n",
       "   '@role': '1',\n",
       "   '@type': '10',\n",
       "   'narrative': 'USA'},\n",
       "  {'@ref': 'US-GOV-15',\n",
       "   '@role': '2',\n",
       "   '@type': '10',\n",
       "   'narrative': 'Department of Justice'},\n",
       "  {'@ref': 'US-GOV-11',\n",
       "   '@role': '3',\n",
       "   '@type': '10',\n",
       "   'narrative': 'U.S. Department of State'},\n",
       "  {'@role': '4',\n",
       "   '@type': '10',\n",
       "   'narrative': 'Department of Justice - Criminal Division - International Criminal Investigative Training Assistance Program (ICITAP)'}],\n",
       " 'recipient-country': {'@code': 'BH', '@percentage': '100'},\n",
       " 'reporting-org': {'@ref': 'US-GOV-15',\n",
       "  '@type': '10',\n",
       "  'narrative': 'Department of Justice'},\n",
       " 'title': {'narrative': 'Bahrain Forensics'},\n",
       " 'transaction': [{'@generated-datetime': '2017-11-30T10:00:00Z',\n",
       "   '@humanitarian': '0',\n",
       "   '@w210-activity': 'US-GOV-15-BH-37F111',\n",
       "   '@w210-key': 'unitedstates-bh',\n",
       "   'description': {'narrative': 'Fiscal Year 2015 total disbursements in support of international training progra'},\n",
       "   'sector': [{'@code': '43010',\n",
       "     '@vocabulary': '1',\n",
       "     'narrative': 'Multisector aid'},\n",
       "    {'@code': '9000',\n",
       "     '@vocabulary': '99',\n",
       "     'narrative': 'Multi-sector - Unspecified'}],\n",
       "   'transaction-date': {'@iso-date': '2015-09-30'},\n",
       "   'transaction-type': {'@code': '3'},\n",
       "   'usg:treasury-account': {'usg:fiscal-funding-year': {'@begin': '2012',\n",
       "     '@end': '2013'},\n",
       "    'usg:main-account': {'#text': 'Nonproliferation, Anti-Terrorism, Demining and Related Programs, International Security Assistance, State',\n",
       "     '@code': '1075'},\n",
       "    'usg:regular-account': {'@code': '11'}},\n",
       "   'value': {'#text': '77575.00', '@value-date': '2015-09-30'}},\n",
       "  {'@generated-datetime': '2017-11-30T10:00:00Z',\n",
       "   '@humanitarian': '0',\n",
       "   '@w210-activity': 'US-GOV-15-BH-37F111',\n",
       "   '@w210-key': 'unitedstates-bh',\n",
       "   'description': {'narrative': 'Fiscal Year 2015 total disbursements in support of international training progra'},\n",
       "   'sector': [{'@code': '43010',\n",
       "     '@vocabulary': '1',\n",
       "     'narrative': 'Multisector aid'},\n",
       "    {'@code': '9000',\n",
       "     '@vocabulary': '99',\n",
       "     'narrative': 'Multi-sector - Unspecified'}],\n",
       "   'transaction-date': {'@iso-date': '2015-09-30'},\n",
       "   'transaction-type': {'@code': '3'},\n",
       "   'usg:treasury-account': {'usg:fiscal-funding-year': {'@begin': '2012',\n",
       "     '@end': '2013'},\n",
       "    'usg:main-account': {'#text': 'Nonproliferation, Anti-Terrorism, Demining and Related Programs, International Security Assistance, State',\n",
       "     '@code': '1075'},\n",
       "    'usg:regular-account': {'@code': '11'}},\n",
       "   'value': {'#text': '173842.00', '@value-date': '2015-09-30'}}],\n",
       " 'usg:mechanism-signing-date': {'@iso-date': '2013-09-30T00:00:00'}}"
      ]
     },
     "execution_count": 7,
     "metadata": {},
     "output_type": "execute_result"
    }
   ],
   "source": [
    "activities.find_one()"
   ]
  },
  {
   "cell_type": "code",
   "execution_count": 8,
   "metadata": {},
   "outputs": [
    {
     "data": {
      "text/plain": [
       "{'@w210-key': 'unitedstates-bh',\n",
       " '_id': ObjectId('5a475b1e6f8487020fc0baad'),\n",
       " 'author': None,\n",
       " 'author_email': 'ForeignAssistanceWeb@state.gov',\n",
       " 'creator_user_id': 'bb22bdb2-6839-4392-9874-3a06de82f318',\n",
       " 'extras': [{'key': 'activity_count', 'value': '9'},\n",
       "  {'key': 'country', 'value': 'BH'},\n",
       "  {'key': 'data_updated', 'value': '2017-11-30 10:00:00'},\n",
       "  {'key': 'filetype', 'value': 'activity'},\n",
       "  {'key': 'iati_version', 'value': '2.02'},\n",
       "  {'key': 'language', 'value': 'en'},\n",
       "  {'key': 'secondary_publisher', 'value': 'NULL'},\n",
       "  {'key': 'publisher_source_type', 'value': 'primary_source'},\n",
       "  {'key': 'publisher_organization_type', 'value': '10'},\n",
       "  {'key': 'publisher_country', 'value': 'US'},\n",
       "  {'key': 'publisher_iati_id', 'value': 'US-USAGOV'}],\n",
       " 'groups': [],\n",
       " 'iati-activities': {'@generated-datetime': '2017-11-30T10:00:00Z',\n",
       "  '@version': '2.02',\n",
       "  '@xmlns:usg': 'http://www.foreignassistance.gov/web/IATI/usg-extension'},\n",
       " 'id': '05b5784e-558f-4c23-8aac-5b04e95ad3e4',\n",
       " 'isopen': True,\n",
       " 'license_id': 'other-pd',\n",
       " 'license_title': 'Other (Public Domain)',\n",
       " 'maintainer': None,\n",
       " 'maintainer_email': None,\n",
       " 'metadata_created': '2014-06-27T20:20:18.773882',\n",
       " 'metadata_modified': '2017-12-02T05:31:49.251863',\n",
       " 'name': 'unitedstates-bh',\n",
       " 'notes': 'The XML file contains activity details of Bahrain',\n",
       " 'num_resources': 1,\n",
       " 'num_tags': 0,\n",
       " 'organization': {'approval_status': 'approved',\n",
       "  'created': '2012-12-20T15:47:43.544226',\n",
       "  'description': '',\n",
       "  'id': 'df9c1218-4ed4-4a7d-b405-8adc365af654',\n",
       "  'image_url': '',\n",
       "  'is_organization': True,\n",
       "  'name': 'unitedstates',\n",
       "  'revision_id': 'dae70a7c-2079-4c3f-844f-48387d11e689',\n",
       "  'state': 'active',\n",
       "  'title': 'United States',\n",
       "  'type': 'organization'},\n",
       " 'owner_org': 'df9c1218-4ed4-4a7d-b405-8adc365af654',\n",
       " 'private': False,\n",
       " 'relationships_as_object': [],\n",
       " 'relationships_as_subject': [],\n",
       " 'resources': [{'cache_last_updated': None,\n",
       "   'cache_url': None,\n",
       "   'created': '2017-12-01T17:11:28.395981',\n",
       "   'description': '',\n",
       "   'format': 'iati-xml',\n",
       "   'hash': '98c0a649221cd1333f7b59cf0c5634c009d952db',\n",
       "   'id': '7f51ee07-89ae-4320-9798-53bfa619ab38',\n",
       "   'last_modified': None,\n",
       "   'mimetype': 'application/xml',\n",
       "   'mimetype_inner': None,\n",
       "   'name': None,\n",
       "   'package_id': '05b5784e-558f-4c23-8aac-5b04e95ad3e4',\n",
       "   'position': 0,\n",
       "   'resource_type': None,\n",
       "   'revision_id': 'dc08e85d-49f6-474c-bc8c-2c2b21227d34',\n",
       "   'size': '47832',\n",
       "   'state': 'active',\n",
       "   'url': 'https://www.foreignassistance.gov/assets/IATI/Bahrain.xml',\n",
       "   'url_type': None}],\n",
       " 'revision_id': '249893ec-b51d-42e5-b145-94440ea6c58b',\n",
       " 'state': 'active',\n",
       " 'tags': [],\n",
       " 'title': 'USA Bahrain',\n",
       " 'type': 'dataset',\n",
       " 'url': None,\n",
       " 'version': None}"
      ]
     },
     "execution_count": 8,
     "metadata": {},
     "output_type": "execute_result"
    }
   ],
   "source": [
    "activities_metadata.find_one()"
   ]
  },
  {
   "cell_type": "code",
   "execution_count": 9,
   "metadata": {},
   "outputs": [
    {
     "data": {
      "text/plain": [
       "{'@generated-datetime': '2017-11-30T10:00:00Z',\n",
       " '@humanitarian': '0',\n",
       " '@w210-activity': 'US-GOV-15-BH-37F111',\n",
       " '@w210-key': 'unitedstates-bh',\n",
       " '_id': ObjectId('5a475b1e6f8487020fc0bab7'),\n",
       " 'description': {'narrative': 'Fiscal Year 2015 total disbursements in support of international training progra'},\n",
       " 'sector': [{'@code': '43010',\n",
       "   '@vocabulary': '1',\n",
       "   'narrative': 'Multisector aid'},\n",
       "  {'@code': '9000',\n",
       "   '@vocabulary': '99',\n",
       "   'narrative': 'Multi-sector - Unspecified'}],\n",
       " 'transaction-date': {'@iso-date': '2015-09-30'},\n",
       " 'transaction-type': {'@code': '3'},\n",
       " 'usg:treasury-account': {'usg:fiscal-funding-year': {'@begin': '2012',\n",
       "   '@end': '2013'},\n",
       "  'usg:main-account': {'#text': 'Nonproliferation, Anti-Terrorism, Demining and Related Programs, International Security Assistance, State',\n",
       "   '@code': '1075'},\n",
       "  'usg:regular-account': {'@code': '11'}},\n",
       " 'value': {'#text': '77575.00', '@value-date': '2015-09-30'}}"
      ]
     },
     "execution_count": 9,
     "metadata": {},
     "output_type": "execute_result"
    }
   ],
   "source": [
    "transactions.find_one()"
   ]
  },
  {
   "cell_type": "markdown",
   "metadata": {},
   "source": [
    "## Organizations"
   ]
  },
  {
   "cell_type": "code",
   "execution_count": 10,
   "metadata": {},
   "outputs": [
    {
     "name": "stdout",
     "output_type": "stream",
     "text": [
      "2017-12-30 09:38:37.332703 Processed 0 of 275\n",
      "2017-12-30 09:38:38.470181 Processed 100 of 275\n",
      "2017-12-30 09:38:38.759892 Processed 200 of 275\n"
     ]
    }
   ],
   "source": [
    "from mongodb_iati import organizations, organizations_metadata, import_organization_document, organization_failures, organization_xml_failures\n",
    "\n",
    "file_names = [\n",
    "    '%s/%s' % ('iati-orgs', file_name)\n",
    "        for file_name in os.listdir('iati-orgs')\n",
    "            if file_name.endswith('.xml')\n",
    "]\n",
    "\n",
    "for num_finished, file_name in enumerate(file_names):\n",
    "    if num_finished % 100 == 0:\n",
    "        failure_count = len(organization_failures) + len(organization_xml_failures)\n",
    "        print('%s Processed %d of %d' % (datetime.now(), num_finished, len(file_names)))\n",
    "\n",
    "    with open(file_name) as f:\n",
    "        import_organization_document(f)"
   ]
  },
  {
   "cell_type": "code",
   "execution_count": 11,
   "metadata": {},
   "outputs": [
    {
     "name": "stdout",
     "output_type": "stream",
     "text": [
      "442\n",
      "275\n",
      "0\n"
     ]
    }
   ],
   "source": [
    "print(organizations.count())\n",
    "print(organizations_metadata.count())\n",
    "print(len(organization_xml_failures))"
   ]
  },
  {
   "cell_type": "code",
   "execution_count": 12,
   "metadata": {},
   "outputs": [
    {
     "data": {
      "text/plain": [
       "{'@default-currency': 'EUR',\n",
       " '@generated-datetime': '2017-05-01T08:17:05+00:00',\n",
       " '@last-updated-datetime': '2017-05-01T08:17:05+00:00',\n",
       " '@w210-key': 'bothends-org',\n",
       " '@xml:lang': 'en',\n",
       " '_id': ObjectId('5a475e9d6f8487020f036ede'),\n",
       " 'name': {'narrative': {'#text': 'Both ENDS', '@xml:lang': 'en'}},\n",
       " 'organisation-identifier': 'NL-KVK-41210098',\n",
       " 'reporting-org': {'@ref': 'NL-KVK-41210098',\n",
       "  '@type': '22',\n",
       "  'narrative': {'#text': 'Both ENDS', '@xml:lang': 'en'}}}"
      ]
     },
     "execution_count": 12,
     "metadata": {},
     "output_type": "execute_result"
    }
   ],
   "source": [
    "organizations.find_one()"
   ]
  },
  {
   "cell_type": "code",
   "execution_count": 13,
   "metadata": {},
   "outputs": [
    {
     "data": {
      "text/plain": [
       "{'@w210-key': 'bothends-org',\n",
       " '_id': ObjectId('5a475e9d6f8487020f036edd'),\n",
       " 'author': None,\n",
       " 'author_email': 'lm@bothends.org',\n",
       " 'creator_user_id': '832a72df-3d28-4175-b6ae-133231394fd2',\n",
       " 'extras': [{'key': 'data_updated', 'value': '2017-05-01 08:17:05'},\n",
       "  {'key': 'filetype', 'value': 'organisation'},\n",
       "  {'key': 'iati_version', 'value': '2.02'},\n",
       "  {'key': 'publisher_source_type', 'value': 'primary_source'},\n",
       "  {'key': 'publisher_organization_type', 'value': '22'},\n",
       "  {'key': 'publisher_country', 'value': 'NL'},\n",
       "  {'key': 'publisher_iati_id', 'value': 'NL-KVK-41210098'}],\n",
       " 'groups': [],\n",
       " 'iati-organisations': {'@generated-datetime': '2017-05-01T08:17:05+00:00',\n",
       "  '@version': '2.02'},\n",
       " 'id': '07f307a3-dad0-45ec-8421-ba0df69b54d6',\n",
       " 'isopen': True,\n",
       " 'license_id': 'cc-by-sa',\n",
       " 'license_title': 'Creative Commons Attribution Share-Alike',\n",
       " 'license_url': 'http://www.opendefinition.org/licenses/cc-by-sa',\n",
       " 'maintainer': None,\n",
       " 'maintainer_email': None,\n",
       " 'metadata_created': '2017-05-01T08:17:05.803383',\n",
       " 'metadata_modified': '2017-10-28T04:36:01.931861',\n",
       " 'name': 'bothends-org',\n",
       " 'notes': None,\n",
       " 'num_resources': 1,\n",
       " 'num_tags': 0,\n",
       " 'organization': {'approval_status': 'approved',\n",
       "  'created': '2014-04-01T09:34:06.816534',\n",
       "  'description': '',\n",
       "  'id': '8fdf53b4-51b0-4401-8d55-4bda834d3ae0',\n",
       "  'image_url': '',\n",
       "  'is_organization': True,\n",
       "  'name': 'bothends',\n",
       "  'revision_id': '48c3472f-d582-4ec8-b195-7ab66e461d02',\n",
       "  'state': 'active',\n",
       "  'title': 'Both ENDS',\n",
       "  'type': 'organization'},\n",
       " 'owner_org': '8fdf53b4-51b0-4401-8d55-4bda834d3ae0',\n",
       " 'private': False,\n",
       " 'relationships_as_object': [],\n",
       " 'relationships_as_subject': [],\n",
       " 'resources': [{'cache_last_updated': None,\n",
       "   'cache_url': None,\n",
       "   'created': '2017-05-01T08:17:14.958617',\n",
       "   'description': '',\n",
       "   'format': 'IATI-XML',\n",
       "   'hash': '89a87c6f118cbf4f6f8a9a8eea24a7e580d7b74e',\n",
       "   'id': '362bf9ae-34e4-443e-8c8e-cf96c7d2307f',\n",
       "   'last_modified': None,\n",
       "   'mimetype': 'text/xml',\n",
       "   'mimetype_inner': None,\n",
       "   'name': None,\n",
       "   'package_id': '07f307a3-dad0-45ec-8421-ba0df69b54d6',\n",
       "   'position': 0,\n",
       "   'resource_type': None,\n",
       "   'revision_id': '703cd154-4e68-408b-be9b-3c046e6c8515',\n",
       "   'size': '549',\n",
       "   'state': 'active',\n",
       "   'url': 'https://aidstream.org/files/xml/bothends-org.xml',\n",
       "   'url_type': None}],\n",
       " 'revision_id': '703cd154-4e68-408b-be9b-3c046e6c8515',\n",
       " 'state': 'active',\n",
       " 'tags': [],\n",
       " 'title': 'Both ENDS Organization File',\n",
       " 'type': 'dataset',\n",
       " 'url': None,\n",
       " 'version': None}"
      ]
     },
     "execution_count": 13,
     "metadata": {},
     "output_type": "execute_result"
    }
   ],
   "source": [
    "organizations_metadata.find_one()"
   ]
  },
  {
   "cell_type": "code",
   "execution_count": 14,
   "metadata": {},
   "outputs": [],
   "source": [
    "with open('activity_xml_failures', 'wb') as f:\n",
    "    pickle.dump(activity_xml_failures, f)"
   ]
  },
  {
   "cell_type": "code",
   "execution_count": 15,
   "metadata": {},
   "outputs": [],
   "source": [
    "with open('activity_failures', 'wb') as f:\n",
    "    pickle.dump(activity_failures, f)"
   ]
  },
  {
   "cell_type": "code",
   "execution_count": 16,
   "metadata": {},
   "outputs": [],
   "source": [
    "with open('organization_xml_failures', 'wb') as f:\n",
    "    pickle.dump(organization_xml_failures, f)"
   ]
  },
  {
   "cell_type": "code",
   "execution_count": 17,
   "metadata": {},
   "outputs": [],
   "source": [
    "with open('organization_failures', 'wb') as f:\n",
    "    pickle.dump(organization_xml_failures, f)"
   ]
  },
  {
   "cell_type": "markdown",
   "metadata": {},
   "source": [
    "# Investigating/Fixing Errors"
   ]
  },
  {
   "cell_type": "code",
   "execution_count": 18,
   "metadata": {},
   "outputs": [],
   "source": [
    "def check_errors(folder, metadata, failures):\n",
    "    metadata_titles = {}\n",
    "    metadata_resources = {}\n",
    "\n",
    "    for metadata_item in metadata:\n",
    "        if 'isopen' not in metadata_item:\n",
    "            continue\n",
    "\n",
    "        if not metadata_item['isopen']:\n",
    "            continue\n",
    "\n",
    "        title = metadata_item['title']\n",
    "        short_name = metadata_item['name']\n",
    "\n",
    "        resources = metadata_item['resources']\n",
    "        resource_urls = [x for x in set([resource_item['url'] for resource_item in resources])]\n",
    "\n",
    "        metadata_titles[short_name] = title\n",
    "        metadata_resources[short_name] = resource_urls\n",
    "\n",
    "    for short_name, resource_urls in metadata_resources.items():\n",
    "        iati_filename = folder + '/' + short_name + '.xml'\n",
    "\n",
    "        if iati_filename not in failures:\n",
    "            continue\n",
    "\n",
    "        print('Processing %s failed: %s' % (short_name, failures[iati_filename]))\n",
    "        print('\\n'.join(resource_urls))"
   ]
  },
  {
   "cell_type": "markdown",
   "metadata": {},
   "source": [
    "## Activities"
   ]
  },
  {
   "cell_type": "code",
   "execution_count": 19,
   "metadata": {},
   "outputs": [],
   "source": [
    "with io.open('activities_metadata.json', 'r', encoding = 'utf8') as f:\n",
    "    activity_metadata_json = json.load(f)"
   ]
  },
  {
   "cell_type": "code",
   "execution_count": 20,
   "metadata": {},
   "outputs": [
    {
     "name": "stdout",
     "output_type": "stream",
     "text": [
      "19\n",
      "Processing ec-near-ba failed: unclosed token: line 24, column 1090057\n",
      "http://ec.europa.eu/europeaid/files/iati/XI-IATI-EC_NEAR_C_BA.xml\n",
      "Processing ec-near-qsa failed: unclosed token: line 62, column 27812\n",
      "http://ec.europa.eu/europeaid/files/iati/XI-IATI-EC_NEAR_C_QSA.xml\n",
      "Processing ec-near-89 failed: unclosed token: line 62, column 27812\n",
      "http://ec.europa.eu/europeaid/files/iati/XI-IATI-EC_NEAR_C_QSA.xml\n",
      "Processing ec-near-rs failed: unclosed token: line 188, column 5342\n",
      "http://ec.europa.eu/europeaid/files/iati/XI-IATI-EC_NEAR_C_RS.xml\n",
      "Processing ec-devco-qna failed: unclosed token: line 2, column 3547600\n",
      "http://ec.europa.eu/europeaid/files/iati/XI-IATI-EC_DEVCO_C_QNA.xml\n",
      "Processing ec-devco-498 failed: unclosed token: line 2, column 3547600\n",
      "http://ec.europa.eu/europeaid/files/iati/XI-IATI-EC_DEVCO_C_QNA.xml\n",
      "Processing ec-devco-td failed: unclosed token: line 745, column 23563\n",
      "http://ec.europa.eu/europeaid/files/iati/XI-IATI-EC_DEVCO_C_TD.xml\n",
      "Processing ec-devco-cd failed: unclosed token: line 177, column 100683\n",
      "http://ec.europa.eu/europeaid/files/iati/XI-IATI-EC_DEVCO_C_CD.xml\n",
      "Processing ec-devco-998 failed: unclosed token: line 80, column 504204\n",
      "http://ec.europa.eu/europeaid/files/iati/XI-IATI-EC_DEVCO_C_QZA.xml\n",
      "Processing ec-devco-qza failed: unclosed token: line 80, column 504204\n",
      "http://ec.europa.eu/europeaid/files/iati/XI-IATI-EC_DEVCO_C_QZA.xml\n",
      "Processing ec-devco-990 failed: unclosed token: line 80, column 504204\n",
      "http://ec.europa.eu/europeaid/files/iati/XI-IATI-EC_DEVCO_C_QZA.xml\n",
      "Processing ec-devco-sn failed: not well-formed (invalid token): line 1779, column 364370\n",
      "http://ec.europa.eu/europeaid/files/iati/XI-IATI-EC_DEVCO_C_SN.xml\n",
      "Processing ec-devco-qne failed: not well-formed (invalid token): line 55, column 1342516\n",
      "http://ec.europa.eu/europeaid/files/iati/XI-IATI-EC_DEVCO_C_QNE.xml\n",
      "Processing ec-devco-489 failed: not well-formed (invalid token): line 55, column 1342516\n",
      "http://ec.europa.eu/europeaid/files/iati/XI-IATI-EC_DEVCO_C_QNE.xml\n",
      "Processing ec-devco-289 failed: no element found: line 149, column 0\n",
      "http://ec.europa.eu/europeaid/files/iati/XI-IATI-EC_DEVCO_C_QME.xml\n",
      "Processing ec-devco-qme failed: no element found: line 149, column 0\n",
      "http://ec.europa.eu/europeaid/files/iati/XI-IATI-EC_DEVCO_C_QME.xml\n",
      "Processing ec-devco-200 failed: no element found: line 149, column 0\n",
      "http://ec.europa.eu/europeaid/files/iati/XI-IATI-EC_DEVCO_C_QME.xml\n",
      "Processing unesco-org failed: html\n",
      "https://opendata.unesco.org/iati/IATI_ORGANISATION_STANDARS-20170629.xml\n",
      "Processing slovakaid-69_1_ac failed: not well-formed (invalid token): line 67089, column 44\n",
      "http://www.slovakdev.sk/xml/iati-activity-sk.xml\n"
     ]
    }
   ],
   "source": [
    "print(len(activity_xml_failures))\n",
    "check_errors('iati', activity_metadata_json, activity_xml_failures)"
   ]
  },
  {
   "cell_type": "code",
   "execution_count": 21,
   "metadata": {},
   "outputs": [
    {
     "name": "stdout",
     "output_type": "stream",
     "text": [
      "0\n"
     ]
    }
   ],
   "source": [
    "print(len(activity_failures))\n",
    "check_errors('iati', activity_metadata_json, activity_failures)"
   ]
  },
  {
   "cell_type": "markdown",
   "metadata": {},
   "source": [
    "## Organizations"
   ]
  },
  {
   "cell_type": "code",
   "execution_count": 22,
   "metadata": {},
   "outputs": [],
   "source": [
    "with io.open('organization_metadata.json', 'r', encoding = 'utf8') as f:\n",
    "    organization_metadata_json = json.load(f)"
   ]
  },
  {
   "cell_type": "code",
   "execution_count": 23,
   "metadata": {},
   "outputs": [
    {
     "name": "stdout",
     "output_type": "stream",
     "text": [
      "0\n"
     ]
    }
   ],
   "source": [
    "print(len(organization_xml_failures))\n",
    "check_errors('iati-orgs', organization_metadata_json, organization_xml_failures)"
   ]
  },
  {
   "cell_type": "code",
   "execution_count": 24,
   "metadata": {},
   "outputs": [
    {
     "name": "stdout",
     "output_type": "stream",
     "text": [
      "0\n"
     ]
    }
   ],
   "source": [
    "print(len(organization_failures))\n",
    "check_errors('iati-orgs', organization_metadata_json, organization_failures)"
   ]
  }
 ],
 "metadata": {
  "kernelspec": {
   "display_name": "Python 3",
   "language": "python",
   "name": "python3"
  },
  "language_info": {
   "codemirror_mode": {
    "name": "ipython",
    "version": 3
   },
   "file_extension": ".py",
   "mimetype": "text/x-python",
   "name": "python",
   "nbconvert_exporter": "python",
   "pygments_lexer": "ipython3",
   "version": "3.6.2"
  }
 },
 "nbformat": 4,
 "nbformat_minor": 1
}
