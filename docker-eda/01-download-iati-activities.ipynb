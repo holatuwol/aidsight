{
 "cells": [
  {
   "cell_type": "code",
   "execution_count": 1,
   "metadata": {},
   "outputs": [],
   "source": [
    "%matplotlib inline"
   ]
  },
  {
   "cell_type": "code",
   "execution_count": 2,
   "metadata": {},
   "outputs": [],
   "source": [
    "from __future__ import print_function\n",
    "import io\n",
    "import ujson as json\n",
    "import numpy as np\n",
    "import os\n",
    "import pandas as pd\n",
    "import requests\n",
    "import xml\n",
    "import xmltodict"
   ]
  },
  {
   "cell_type": "markdown",
   "metadata": {},
   "source": [
    "# Retrieve IATI Metadata"
   ]
  },
  {
   "cell_type": "code",
   "execution_count": 3,
   "metadata": {},
   "outputs": [
    {
     "name": "stdout",
     "output_type": "stream",
     "text": [
      "https://iatiregistry.org/api/3/action/help_show?name=package_search\n"
     ]
    }
   ],
   "source": [
    "# Use the IATI registry API to identify the metadata\n",
    "# http://iatiregistry.org/registry-api\n",
    "\n",
    "base_url = 'http://iatiregistry.org/api/3/action/package_search'\n",
    "\n",
    "# Retrieve the current count by issuing a request that returns zero rows\n",
    "\n",
    "query_data = {\n",
    "    'q': 'extras_filetype:activity',\n",
    "    'start': 0,\n",
    "    'rows': 0\n",
    "}\n",
    "\n",
    "response = requests.get(base_url, params = query_data).json()\n",
    "count = response['result']['count']\n",
    "\n",
    "# Also print out the help text in case it helps us in the future\n",
    "\n",
    "print(response['help'])"
   ]
  },
  {
   "cell_type": "code",
   "execution_count": 4,
   "metadata": {},
   "outputs": [],
   "source": [
    "# Retrieve all the pages of metadata from the cache file (if available)\n",
    "# or from the server (if no cache file is available)\n",
    "\n",
    "if os.path.isfile('activities_metadata.json'):\n",
    "    with io.open('activities_metadata.json', 'r', encoding = 'utf-8') as metadata_file:\n",
    "        metadata = json.load(metadata_file)\n",
    "else:\n",
    "    metadata = []\n",
    "\n",
    "    # Allowed page size is 100\n",
    "\n",
    "    for i in range(0, count, 100):\n",
    "        print('Retrieved', i, 'of', count, 'results')\n",
    "\n",
    "        query_data = {\n",
    "            'q': 'extras_filetype:activity',\n",
    "            'start': i,\n",
    "            'rows': 100\n",
    "        }\n",
    "\n",
    "        response = requests.get(base_url, params = query_data).json()\n",
    "        metadata.extend(response['result']['results'])\n",
    "\n",
    "    print('Retrieved', count, 'of', count, 'results')"
   ]
  },
  {
   "cell_type": "code",
   "execution_count": 5,
   "metadata": {},
   "outputs": [],
   "source": [
    "# Cache the metadata to disk so that we don't have to fetch it\n",
    "\n",
    "with open('activities_metadata.json', 'w') as metadata_file:\n",
    "    json.dump(metadata, metadata_file)"
   ]
  },
  {
   "cell_type": "markdown",
   "metadata": {},
   "source": [
    "# Validate IATI Metadata"
   ]
  },
  {
   "cell_type": "code",
   "execution_count": 6,
   "metadata": {},
   "outputs": [
    {
     "data": {
      "text/plain": [
       "array(['author', 'author_email', 'creator_user_id', 'extras', 'groups',\n",
       "       'id', 'isopen', 'license_id', 'license_title', 'license_url',\n",
       "       'maintainer', 'maintainer_email', 'metadata_created',\n",
       "       'metadata_modified', 'name', 'notes', 'num_resources', 'num_tags',\n",
       "       'organization', 'owner_org', 'private', 'relationships_as_object',\n",
       "       'relationships_as_subject', 'resources', 'revision_id', 'state',\n",
       "       'tags', 'title', 'type', 'url', 'version'], dtype=object)"
      ]
     },
     "execution_count": 6,
     "metadata": {},
     "output_type": "execute_result"
    }
   ],
   "source": [
    "# Take a quick look at the field names and get a feel for the data\n",
    "\n",
    "df = pd.DataFrame(metadata)\n",
    "\n",
    "df.columns.values"
   ]
  },
  {
   "cell_type": "code",
   "execution_count": 7,
   "metadata": {},
   "outputs": [
    {
     "data": {
      "text/plain": [
       "<matplotlib.axes._subplots.AxesSubplot at 0x7fd1fbaf9fd0>"
      ]
     },
     "execution_count": 7,
     "metadata": {},
     "output_type": "execute_result"
    },
    {
     "data": {
      "image/png": "[encoded data removed]",
      "text/plain": [
      ]
     },
     "metadata": {},
     "output_type": "display_data"
    }
   ],
   "source": [
    "# There's an isopen column indicating whether the data set is open\n",
    "# to be used for general purposes. Let's see the distribution.\n",
    "\n",
    "df['isopen'].hist()"
   ]
  },
  {
   "cell_type": "code",
   "execution_count": 8,
   "metadata": {},
   "outputs": [
    {
     "data": {
      "text/plain": [
       "<matplotlib.axes._subplots.AxesSubplot at 0x7fd220157278>"
      ]
     },
     "execution_count": 8,
     "metadata": {},
     "output_type": "execute_result"
    },
    {
     "data": {
      "image/png": "[encoded data removed]",
      "text/plain": [
      ]
     },
     "metadata": {},
     "output_type": "display_data"
    }
   ],
   "source": [
    "# There is a metadata column on the timestamp when a revision was made,\n",
    "# which we can use to see if the data is out of date or not.\n",
    "\n",
    "pd.to_datetime(df['metadata_modified']).hist()"
   ]
  },
  {
   "cell_type": "markdown",
   "metadata": {},
   "source": [
    "# Identify Resources"
   ]
  },
  {
   "cell_type": "code",
   "execution_count": 9,
   "metadata": {},
   "outputs": [],
   "source": [
    "# Grab the URLs associated with our metadata\n",
    "\n",
    "metadata_titles = {}\n",
    "metadata_resources = {}\n",
    "\n",
    "for metadata_item in metadata:\n",
    "    if not metadata_item['isopen']:\n",
    "        continue\n",
    "\n",
    "    title = metadata_item['title']\n",
    "    short_name = metadata_item['name']\n",
    "\n",
    "    resources = metadata_item['resources']\n",
    "    resource_urls = [x for x in set([resource_item['url'] for resource_item in resources])]\n",
    "\n",
    "    metadata_titles[short_name] = title\n",
    "    metadata_resources[short_name] = resource_urls"
   ]
  },
  {
   "cell_type": "markdown",
   "metadata": {},
   "source": [
    "# Download Initial"
   ]
  },
  {
   "cell_type": "code",
   "execution_count": 10,
   "metadata": {},
   "outputs": [],
   "source": [
    "from download_iati import generate_script\n",
    "\n",
    "generate_script('iati', metadata_titles, metadata_resources)"
   ]
  },
  {
   "cell_type": "code",
   "execution_count": 11,
   "metadata": {},
   "outputs": [],
   "source": [
    "!chmod u+x download_iati.sh\n",
    "!./download_iati.sh"
   ]
  },
  {
   "cell_type": "code",
   "execution_count": 12,
   "metadata": {},
   "outputs": [],
   "source": [
    "from download_iati import reencode_all\n",
    "\n",
    "reencode_all('iati', metadata_resources)"
   ]
  },
  {
   "cell_type": "markdown",
   "metadata": {},
   "source": [
    "# Download Missing"
   ]
  },
  {
   "cell_type": "code",
   "execution_count": 13,
   "metadata": {},
   "outputs": [],
   "source": [
    "!find iati -type f | xargs grep -L activities | xargs rm"
   ]
  },
  {
   "cell_type": "code",
   "execution_count": 14,
   "metadata": {},
   "outputs": [],
   "source": [
    "def cleanup_empty():\n",
    "    empty_count = 0\n",
    "    for xml_name in os.listdir('iati'):\n",
    "        iati_filename = 'iati/' + xml_name\n",
    "\n",
    "        if os.path.getsize(iati_filename) == 0:\n",
    "            empty_count += 1\n",
    "            os.remove(iati_filename)\n",
    "\n",
    "    print('Removed %d empty files' % empty_count)"
   ]
  },
  {
   "cell_type": "code",
   "execution_count": 15,
   "metadata": {},
   "outputs": [],
   "source": [
    "from download_iati import download_all\n",
    "\n",
    "cleanup_empty()\n",
    "download_all('iati', metadata_resources)\n",
    "cleanup_empty()"
   ]
  },
  {
   "cell_type": "markdown",
   "metadata": {},
   "source": [
    "# Double-Check Files"
   ]
  },
  {
   "cell_type": "code",
   "execution_count": 16,
   "metadata": {},
   "outputs": [
    {
     "name": "stdout",
     "output_type": "stream",
     "text": [
      "iati/max-foundation-org.xml\n",
      "iati/ciuk-0001.xml\n",
      "iati/utz-org.xml\n",
      "iati/ccdnigeria-1.xml\n",
      "iati/aflatoun-apr2015.xml\n",
      "iati/sida-org.xml\n"
     ]
    }
   ],
   "source": [
    "!find iati -type f | xargs grep -L activities"
   ]
  },
  {
   "cell_type": "code",
   "execution_count": 17,
   "metadata": {},
   "outputs": [
    {
     "name": "stdout",
     "output_type": "stream",
     "text": [
      "Failed to download amnesty-1\n",
      "http://policehumanrightsresources.org/wp-content/uploads/2017/11/IATIactivitystandaard_89-F.txt\n",
      "Failed to download ausgov-389\n",
      "http://dfat.gov.au/data/downloads/Australian_Aid_Regional_File_North_and_Central_America_Unspecified.xml\n",
      "Failed to download ausgov-189\n",
      "http://dfat.gov.au/data/downloads/Australian_Aid_Regional_File_North_of_Sahara.xml\n",
      "Failed to download fco-britishcouncilbc\n",
      "https://www.gov.uk/government/uploads/system/uploads/attachment_data/file/659940/ODA-British-Council-2016-17-and-Q1-17-18.xml\n",
      "Failed to download fco-programme\n",
      "https://www.gov.uk/government/uploads/system/uploads/attachment_data/file/659942/FCO-Programme-Spend-2016-17.xml\n",
      "Failed to download gl-3\n",
      "http://genderlinks.org.za/genderlinks-activities.xml\n",
      "Failed to download globalgiving-activity\n",
      "http://www.globalgiving.org/iati/activities.xml\n",
      "Failed to download magariro-gec\n",
      "https://www.vsointernational.org/sites/default/files/magariro_gec.xml\n",
      "Failed to download fco-pros-2017-18\n",
      "https://www.gov.uk/government/uploads/system/uploads/attachment_data/file/662686/ODA-prosperity-fund-FCO-programme-spend-2016-2017.xml\n",
      "Failed to download sida-agreements\n",
      "http://iati.openaid.se/xml/agreements.xml\n",
      "Failed to download sida-ck\n",
      "http://iati.openaid.se/xml/CK.xml\n",
      "Failed to download theglobalfund-qma\n",
      "http://portfolio.theglobalfund.org/en/IATI/Activities/QMA\n",
      "Failed to download theglobalfund-qmd\n",
      "http://portfolio.theglobalfund.org/en/IATI/Activities/QMD\n",
      "Failed to download theglobalfund-qmn\n",
      "http://portfolio.theglobalfund.org/en/IATI/Activities/QMN\n",
      "Failed to download theglobalfund-qmf\n",
      "http://portfolio.theglobalfund.org/en/IATI/Activities/QMF\n",
      "Failed to download theglobalfund-qmh\n",
      "http://portfolio.theglobalfund.org/en/IATI/Activities/QMH\n",
      "Failed to download theglobalfund-qmi\n",
      "http://portfolio.theglobalfund.org/en/IATI/Activities/QMI\n",
      "Failed to download theglobalfund-qmr\n",
      "http://portfolio.theglobalfund.org/en/IATI/Activities/QMR\n",
      "Failed to download uncdf-org\n",
      "http://uncdf.org/sites/default/files//Documents/uncdf_development_projects_info_0.xml\n",
      "Failed to download unfpa-mu\n",
      "https://raw.githubusercontent.com/unfpa-iati/release/master/UNFPA_MU.xml\n",
      "Failed to download unfpa-mz\n",
      "https://raw.githubusercontent.com/unfpa-iati/release/master/UNFPA_MZ.xml\n",
      "Failed to download unfpa-ao_rt\n",
      "https://raw.githubusercontent.com/unfpa-iati/release/master/UNFPA_RT_AO.xml\n",
      "Failed to download unfpa-by_rt\n",
      "https://raw.githubusercontent.com/unfpa-iati/release/master/UNFPA_RT_BY.xml\n",
      "Failed to download unfpa-bj_rt\n",
      "https://raw.githubusercontent.com/unfpa-iati/release/master/UNFPA_RT_BJ.xml\n",
      "Failed to download unfpa-bo_rt\n",
      "https://raw.githubusercontent.com/unfpa-iati/release/master/UNFPA_RT_BO.xml\n",
      "Failed to download unfpa-bf_rt\n",
      "https://raw.githubusercontent.com/unfpa-iati/release/master/UNFPA_RT_BF.xml\n",
      "Failed to download unfpa-bi_rt\n",
      "https://raw.githubusercontent.com/unfpa-iati/release/master/UNFPA_RT_BI.xml\n",
      "Failed to download unfpa-kh_rt\n",
      "https://raw.githubusercontent.com/unfpa-iati/release/master/UNFPA_RT_KH.xml\n",
      "Failed to download unfpa-cm_rt\n",
      "https://raw.githubusercontent.com/unfpa-iati/release/master/UNFPA_RT_CM.xml\n",
      "Failed to download unfpa-td_rt\n",
      "https://raw.githubusercontent.com/unfpa-iati/release/master/UNFPA_RT_TD.xml\n",
      "Failed to download unfpa-co_rt\n",
      "https://raw.githubusercontent.com/unfpa-iati/release/master/UNFPA_RT_CO.xml\n",
      "Failed to download unfpa-cg_rt\n",
      "https://raw.githubusercontent.com/unfpa-iati/release/master/UNFPA_RT_CG.xml\n",
      "Failed to download unfpa-ci_rt\n",
      "https://raw.githubusercontent.com/unfpa-iati/release/master/UNFPA_RT_CI.xml\n",
      "Failed to download unfpa-ec_rt\n",
      "https://raw.githubusercontent.com/unfpa-iati/release/master/UNFPA_RT_EC.xml\n",
      "Failed to download unfpa-er_rt\n",
      "https://raw.githubusercontent.com/unfpa-iati/release/master/UNFPA_RT_ER.xml\n",
      "Failed to download unfpa-ge_rt\n",
      "https://raw.githubusercontent.com/unfpa-iati/release/master/UNFPA_RT_GE.xml\n",
      "Failed to download unfpa-gw_rt\n",
      "https://raw.githubusercontent.com/unfpa-iati/release/master/UNFPA_RT_GW.xml\n",
      "Failed to download unfpa-ht_rt\n",
      "https://raw.githubusercontent.com/unfpa-iati/release/master/UNFPA_RT_HT.xml\n",
      "Failed to download unfpa-id_rt\n",
      "https://raw.githubusercontent.com/unfpa-iati/release/master/UNFPA_RT_ID.xml\n",
      "Failed to download unfpa-lb_rt\n",
      "https://raw.githubusercontent.com/unfpa-iati/release/master/UNFPA_RT_LB.xml\n",
      "Failed to download unfpa-ls_rt\n",
      "https://raw.githubusercontent.com/unfpa-iati/release/master/UNFPA_RT_LS.xml\n",
      "Failed to download unfpa-lr_rt\n",
      "https://raw.githubusercontent.com/unfpa-iati/release/master/UNFPA_RT_LR.xml\n",
      "Failed to download unfpa-mw_rt\n",
      "https://raw.githubusercontent.com/unfpa-iati/release/master/UNFPA_RT_MW.xml\n",
      "Failed to download unfpa-my_rt\n",
      "https://raw.githubusercontent.com/unfpa-iati/release/master/UNFPA_RT_MY.xml\n",
      "Failed to download unfpa-ml_rt\n",
      "https://raw.githubusercontent.com/unfpa-iati/release/master/UNFPA_RT_ML.xml\n",
      "Failed to download unfpa-ma_rt\n",
      "https://raw.githubusercontent.com/unfpa-iati/release/master/UNFPA_RT_MA.xml\n",
      "Failed to download unfpa-py_rt\n",
      "https://raw.githubusercontent.com/unfpa-iati/release/master/UNFPA_RT_PY.xml\n",
      "Failed to download unfpa-pe_rt\n",
      "https://raw.githubusercontent.com/unfpa-iati/release/master/UNFPA_RT_PE.xml\n",
      "Failed to download unfpa-ph_rt\n",
      "https://raw.githubusercontent.com/unfpa-iati/release/master/UNFPA_RT_PH.xml\n",
      "Failed to download unfpa-sd_rt\n",
      "https://raw.githubusercontent.com/unfpa-iati/release/master/UNFPA_RT_SD.xml\n",
      "Failed to download unfpa-sz_rt\n",
      "https://raw.githubusercontent.com/unfpa-iati/release/master/UNFPA_RT_SZ.xml\n",
      "Failed to download unfpa-tl_rt\n",
      "https://raw.githubusercontent.com/unfpa-iati/release/master/UNFPA_RT_TL.xml\n",
      "Failed to download unfpa-tg_rt\n",
      "https://raw.githubusercontent.com/unfpa-iati/release/master/UNFPA_RT_TG.xml\n",
      "Failed to download unfpa-uy_rt\n",
      "https://raw.githubusercontent.com/unfpa-iati/release/master/UNFPA_RT_UY.xml\n",
      "Failed to download iadb-ar\n",
      "http://www.iadb.org/iati/iadb-ARGENTINA.xml\n",
      "Failed to download iadb-bs\n",
      "http://www.iadb.org/iati/iadb-BAHAMAS.xml\n",
      "Failed to download iadb-bb\n",
      "http://www.iadb.org/iati/iadb-BARBADOS.xml\n",
      "Failed to download iadb-bz\n",
      "http://www.iadb.org/iati/iadb-BELIZE.xml\n",
      "Failed to download iadb-bo\n",
      "http://www.iadb.org/iati/iadb-BOLIVIA.xml\n",
      "Failed to download iadb-br\n",
      "http://www.iadb.org/iati/iadb-BRAZIL.xml\n",
      "Failed to download iadb-cl\n",
      "http://www.iadb.org/iati/iadb-CHILE.xml\n",
      "Failed to download iadb-co\n",
      "http://www.iadb.org/iati/iadb-COLOMBIA.xml\n",
      "Failed to download iadb-cr\n",
      "http://www.iadb.org/iati/iadb-COSTA-RICA.xml\n",
      "Failed to download iadb-do\n",
      "http://www.iadb.org/iati/iadb-DOMINICAN-REPUBLIC.xml\n",
      "Failed to download iadb-ec\n",
      "http://www.iadb.org/iati/iadb-ECUADOR.xml\n",
      "Failed to download iadb-sv\n",
      "http://www.iadb.org/iati/iadb-EL-SALVADOR.xml\n",
      "Failed to download iadb-gt\n",
      "http://www.iadb.org/iati/iadb-GUATEMALA.xml\n",
      "Failed to download iadb-gy\n",
      "http://www.iadb.org/iati/iadb-GUYANA.xml\n",
      "Failed to download iadb-ht\n",
      "http://www.iadb.org/iati/iadb-HAITI.xml\n",
      "Failed to download iadb-ho\n",
      "http://www.iadb.org/iati/iadb-HONDURAS.xml\n",
      "Failed to download iadb-jm\n",
      "http://www.iadb.org/iati/iadb-JAMAICA.xml\n",
      "Failed to download iadb-mx\n",
      "http://www.iadb.org/iati/iadb-MEXICO.xml\n",
      "Failed to download iadb-ni\n",
      "http://www.iadb.org/iati/iadb-NICARAGUA.xml\n",
      "Failed to download iadb-pa\n",
      "http://www.iadb.org/iati/iadb-PANAMA.xml\n",
      "Failed to download iadb-py\n",
      "http://www.iadb.org/iati/iadb-PARAGUAY.xml\n",
      "Failed to download iadb-pe\n",
      "http://www.iadb.org/iati/iadb-PERU.xml\n",
      "Failed to download iadb-rg\n",
      "http://www.iadb.org/iati/iadb-REGIONAL.xml\n",
      "Failed to download iadb-sr\n",
      "http://www.iadb.org/iati/iadb-SURINAME.xml\n",
      "Failed to download iadb-tt\n",
      "http://www.iadb.org/iati/iadb-TRINIDAD-AND-TOBAGO.xml\n",
      "Failed to download iadb-uy\n",
      "http://www.iadb.org/iati/iadb-URUGUAY.xml\n",
      "Failed to download iadb-ve\n",
      "http://www.iadb.org/iati/iadb-VENEZUELA.xml\n"
     ]
    }
   ],
   "source": [
    "# Report the specific resource URLs we tried.\n",
    "\n",
    "for short_name, resource_urls in metadata_resources.items():\n",
    "    iati_filename = 'iati/' + short_name + '.xml'\n",
    "\n",
    "    if os.path.isfile(iati_filename) and os.path.getsize(iati_filename) > 0:\n",
    "        continue\n",
    "\n",
    "    print('Failed to download %s' % short_name)\n",
    "    print('\\n'.join(resource_urls))"
   ]
  },
  {
   "cell_type": "markdown",
   "metadata": {},
   "source": [
    "# Remove Files Without Activities"
   ]
  },
  {
   "cell_type": "code",
   "execution_count": 18,
   "metadata": {},
   "outputs": [],
   "source": [
    "!find iati -type f | xargs grep -L activities | xargs rm"
   ]
  },
  {
   "cell_type": "markdown",
   "metadata": {},
   "source": [
    "# Create Resource Archive"
   ]
  },
  {
   "cell_type": "markdown",
   "metadata": {},
   "source": [
    "If running from a Docker container, make sure to run `aws configure` manually to configure your credentials, or it won't be able to upload to the bucket."
   ]
  },
  {
   "cell_type": "code",
   "execution_count": 19,
   "metadata": {},
   "outputs": [],
   "source": [
    "s3_bucket = 'mdang.w210'"
   ]
  },
  {
   "cell_type": "code",
   "execution_count": 20,
   "metadata": {},
   "outputs": [
    {
     "name": "stdout",
     "output_type": "stream",
     "text": [
      "upload: ./iati.tar.gz to s3://mdang.w210/iati.tar.gz\n"
     ]
    }
   ],
   "source": [
    "!rm -f iati.tar.gz\n",
    "!tar -cf iati.tar iati\n",
    "!gzip iati.tar\n",
    "!aws s3 cp iati.tar.gz s3://{s3_bucket}/"
   ]
  },
  {
   "cell_type": "code",
   "execution_count": 21,
   "metadata": {},
   "outputs": [
    {
     "name": "stdout",
     "output_type": "stream",
     "text": [
      "upload: ./activities_metadata.json.gz to s3://mdang.w210/activities_metadata.json.gz\r\n"
     ]
    }
   ],
   "source": [
    "!gzip activities_metadata.json\n",
    "!aws s3 cp activities_metadata.json.gz s3://{s3_bucket}/\n",
    "!gunzip activities_metadata.json.gz"
   ]
  }
 ],
 "metadata": {
  "kernelspec": {
   "display_name": "Python 3",
   "language": "python",
   "name": "python3"
  },
  "language_info": {
   "codemirror_mode": {
    "name": "ipython",
    "version": 3
   },
   "file_extension": ".py",
   "mimetype": "text/x-python",
   "name": "python",
   "nbconvert_exporter": "python",
   "pygments_lexer": "ipython3",
   "version": "3.6.3"
  }
 },
 "nbformat": 4,
 "nbformat_minor": 1
}
