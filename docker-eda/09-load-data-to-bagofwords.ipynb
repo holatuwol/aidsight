{
 "cells": [
  {
   "cell_type": "markdown",
   "metadata": {},
   "source": [
    "# Install Packages"
   ]
  },
  {
   "cell_type": "code",
   "execution_count": 1,
   "metadata": {},
   "outputs": [],
   "source": [
    "%matplotlib inline"
   ]
  },
  {
   "cell_type": "code",
   "execution_count": 2,
   "metadata": {},
   "outputs": [],
   "source": [
    "from __future__ import print_function\n",
    "from datetime import datetime\n",
    "import io\n",
    "import os\n",
    "import pymongo\n",
    "from six import string_types"
   ]
  },
  {
   "cell_type": "markdown",
   "metadata": {},
   "source": [
    "# Text Extraction"
   ]
  },
  {
   "cell_type": "markdown",
   "metadata": {},
   "source": [
    "## Confirm Import"
   ]
  },
  {
   "cell_type": "code",
   "execution_count": 3,
   "metadata": {},
   "outputs": [
    {
     "data": {
      "text/plain": [
       "['admin', 'iati', 'local']"
      ]
     },
     "execution_count": 3,
     "metadata": {},
     "output_type": "execute_result"
    }
   ],
   "source": [
    "conn=pymongo.MongoClient('mongodb', 27017)\n",
    "\n",
    "# Check database names to test connection and see what's here\n",
    "conn.database_names()"
   ]
  },
  {
   "cell_type": "code",
   "execution_count": 4,
   "metadata": {},
   "outputs": [
    {
     "data": {
      "text/plain": [
       "['cleaned_orgs_full',\n",
       " 'quality',\n",
       " 'transactions',\n",
       " 'organizations_metadata',\n",
       " 'organizations',\n",
       " 'activities',\n",
       " 'scores',\n",
       " 'activities_metadata']"
      ]
     },
     "execution_count": 4,
     "metadata": {},
     "output_type": "execute_result"
    }
   ],
   "source": [
    "# Make iati database\n",
    "db = conn.iati\n",
    "\n",
    "# Create new activities collection and check that manual renaming worked\n",
    "\n",
    "activities=db.activities\n",
    "metadata=db.metadata\n",
    "\n",
    "db.collection_names()"
   ]
  },
  {
   "cell_type": "code",
   "execution_count": 5,
   "metadata": {},
   "outputs": [
    {
     "data": {
      "text/plain": [
       "[('NL-KVK-41210098', 'Both ENDS'),\n",
       " ('MW-NBM-00139', 'Theatre for a Change Malawi'),\n",
       " ('41122', 'UNICEF'),\n",
       " ('41122', 'UNICEF'),\n",
       " ('41122', 'UNICEF'),\n",
       " ('41122', 'UNICEF'),\n",
       " ('41122', 'UNICEF'),\n",
       " ('41122', 'UNICEF'),\n",
       " ('41122', 'UNICEF'),\n",
       " ('41122', 'UNICEF')]"
      ]
     },
     "execution_count": 5,
     "metadata": {},
     "output_type": "execute_result"
    }
   ],
   "source": [
    "def get_en(x):\n",
    "    if type(x) is list:\n",
    "        for y in x:\n",
    "            if isinstance(y,string_types):\n",
    "                return y\n",
    "            if y.get('@xml:lang'=='en'):\n",
    "                return y\n",
    "        return x[0]\n",
    "    return x\n",
    "def get_text(x):\n",
    "    x=get_en(x)\n",
    "    if x is not None:\n",
    "        if isinstance(x, string_types):\n",
    "            return x\n",
    "        txt=x.get('#text')\n",
    "        if isinstance(txt, string_types):\n",
    "            return txt\n",
    "        n=get_en(x.get('narrative'))\n",
    "        if n is not None:\n",
    "            if isinstance(n, string_types):\n",
    "                return n\n",
    "            return n.get('#text')\n",
    "orgs=[]\n",
    "for x in db.organizations.find(projection={'name': True, 'reporting-org': True,  '_id': False}):\n",
    "    if 'reporting-org' not in x:\n",
    "        continue\n",
    "    name=get_text(x.get('name'))\n",
    "    org=get_en(x['reporting-org'])\n",
    "    if '@ref' not in org:\n",
    "        continue\n",
    "\n",
    "    if name is None:\n",
    "        name=get_text(org)\n",
    "    if name is None:\n",
    "        name=\"[unknown]\"\n",
    "    orgs.append((org['@ref'], name))\n",
    "orgs[:10]"
   ]
  },
  {
   "cell_type": "code",
   "execution_count": 6,
   "metadata": {},
   "outputs": [],
   "source": [
    "id2org=dict(orgs)\n",
    "org2id={y:x for x,y in orgs}"
   ]
  },
  {
   "cell_type": "code",
   "execution_count": 7,
   "metadata": {},
   "outputs": [],
   "source": [
    "from collections import Counter, defaultdict\n",
    "collabs=defaultdict(Counter)\n",
    "columns={'name': True, 'reporting-org': True, 'participating-org': True, '_id': False}\n",
    "\n",
    "for x in db.activities.find(projection=columns):\n",
    "    repOrg=get_en(x['reporting-org'])\n",
    "    repId=None\n",
    "    if not isinstance(repOrg, string_types):\n",
    "        repId=repOrg.get('@ref')\n",
    "    if not repId:\n",
    "        name=get_text(repOrg)\n",
    "        repId=org2id.get(name)\n",
    "        if not repId:\n",
    "            #print(\"Reporting org not found: \", name)\n",
    "            continue\n",
    "\n",
    "    collabIds=[]\n",
    "    partOrgs=x.get('participating-org',[])\n",
    "    if isinstance(partOrgs, string_types):\n",
    "        partOrgs={'@ref': partOrgs}\n",
    "    if not isinstance(partOrgs, list):\n",
    "        partOrgs=[partOrgs]\n",
    "    for y in partOrgs:\n",
    "        ref=None\n",
    "        if not isinstance(y, string_types):\n",
    "            ref=y.get('@ref')\n",
    "        if not ref:\n",
    "            name=get_text(y)\n",
    "            ref=org2id.get(name)\n",
    "            if not ref:\n",
    "                #print(\"Participating org not found: \", name)\n",
    "                continue\n",
    "        if ref!=repId:\n",
    "            collabIds.append(ref)\n",
    "    if collabIds:\n",
    "        collabs[repId].update(collabIds)\n"
   ]
  },
  {
   "cell_type": "code",
   "execution_count": 8,
   "metadata": {},
   "outputs": [],
   "source": [
    "import pandas as pd\n",
    "import numpy as np\n",
    "df=pd.DataFrame(collabs, columns=id2org.keys(), dtype=float)"
   ]
  },
  {
   "cell_type": "code",
   "execution_count": 9,
   "metadata": {},
   "outputs": [],
   "source": [
    "# missing is 0, not NA\n",
    "df[df.applymap(np.isnan)]=0"
   ]
  },
  {
   "cell_type": "code",
   "execution_count": 10,
   "metadata": {},
   "outputs": [],
   "source": [
    "# normalize\n",
    "zdf=df.as_matrix()"
   ]
  },
  {
   "cell_type": "code",
   "execution_count": 11,
   "metadata": {},
   "outputs": [],
   "source": [
    "sim=zdf.T.dot(zdf)"
   ]
  },
  {
   "cell_type": "code",
   "execution_count": 12,
   "metadata": {
    "scrolled": false
   },
   "outputs": [
    {
     "data": {
      "text/html": [
       "<div>\n",
       "<style scoped>\n",
       "    .dataframe tbody tr th:only-of-type {\n",
       "        vertical-align: middle;\n",
       "    }\n",
       "\n",
       "    .dataframe tbody tr th {\n",
       "        vertical-align: top;\n",
       "    }\n",
       "\n",
       "    .dataframe thead th {\n",
       "        text-align: right;\n",
       "    }\n",
       "</style>\n",
       "<table border=\"1\" class=\"dataframe\">\n",
       "  <thead>\n",
       "    <tr style=\"text-align: right;\">\n",
       "      <th></th>\n",
       "      <th>0</th>\n",
       "      <th>1</th>\n",
       "      <th>2</th>\n",
       "      <th>3</th>\n",
       "      <th>4</th>\n",
       "      <th>5</th>\n",
       "      <th>6</th>\n",
       "      <th>7</th>\n",
       "      <th>8</th>\n",
       "      <th>9</th>\n",
       "      <th>...</th>\n",
       "      <th>262</th>\n",
       "      <th>263</th>\n",
       "      <th>264</th>\n",
       "      <th>265</th>\n",
       "      <th>266</th>\n",
       "      <th>267</th>\n",
       "      <th>268</th>\n",
       "      <th>269</th>\n",
       "      <th>270</th>\n",
       "      <th>271</th>\n",
       "    </tr>\n",
       "  </thead>\n",
       "  <tbody>\n",
       "    <tr>\n",
       "      <th>count</th>\n",
       "      <td>272.000000</td>\n",
       "      <td>272.000000</td>\n",
       "      <td>272.000000</td>\n",
       "      <td>272.0</td>\n",
       "      <td>272.000000</td>\n",
       "      <td>2.720000e+02</td>\n",
       "      <td>272.0</td>\n",
       "      <td>272.000000</td>\n",
       "      <td>272.000000</td>\n",
       "      <td>272.0</td>\n",
       "      <td>...</td>\n",
       "      <td>272.000000</td>\n",
       "      <td>2.720000e+02</td>\n",
       "      <td>2.720000e+02</td>\n",
       "      <td>272.0</td>\n",
       "      <td>2.720000e+02</td>\n",
       "      <td>2.720000e+02</td>\n",
       "      <td>272.0</td>\n",
       "      <td>272.0</td>\n",
       "      <td>272.000000</td>\n",
       "      <td>272.000000</td>\n",
       "    </tr>\n",
       "    <tr>\n",
       "      <th>mean</th>\n",
       "      <td>5.713235</td>\n",
       "      <td>0.003676</td>\n",
       "      <td>10.808824</td>\n",
       "      <td>0.0</td>\n",
       "      <td>1.051471</td>\n",
       "      <td>5.816488e+05</td>\n",
       "      <td>0.0</td>\n",
       "      <td>1.231618</td>\n",
       "      <td>215.209559</td>\n",
       "      <td>0.0</td>\n",
       "      <td>...</td>\n",
       "      <td>12.014706</td>\n",
       "      <td>1.481067e+05</td>\n",
       "      <td>2.545723e+05</td>\n",
       "      <td>0.0</td>\n",
       "      <td>2.401457e+05</td>\n",
       "      <td>2.381166e+05</td>\n",
       "      <td>0.0</td>\n",
       "      <td>0.0</td>\n",
       "      <td>28.110294</td>\n",
       "      <td>2076.849265</td>\n",
       "    </tr>\n",
       "    <tr>\n",
       "      <th>std</th>\n",
       "      <td>45.879983</td>\n",
       "      <td>0.060634</td>\n",
       "      <td>90.729354</td>\n",
       "      <td>0.0</td>\n",
       "      <td>3.287727</td>\n",
       "      <td>7.176633e+06</td>\n",
       "      <td>0.0</td>\n",
       "      <td>15.481260</td>\n",
       "      <td>2110.762279</td>\n",
       "      <td>0.0</td>\n",
       "      <td>...</td>\n",
       "      <td>85.048585</td>\n",
       "      <td>2.265051e+06</td>\n",
       "      <td>2.979061e+06</td>\n",
       "      <td>0.0</td>\n",
       "      <td>2.681785e+06</td>\n",
       "      <td>2.452487e+06</td>\n",
       "      <td>0.0</td>\n",
       "      <td>0.0</td>\n",
       "      <td>228.343665</td>\n",
       "      <td>19033.117707</td>\n",
       "    </tr>\n",
       "    <tr>\n",
       "      <th>min</th>\n",
       "      <td>0.000000</td>\n",
       "      <td>0.000000</td>\n",
       "      <td>0.000000</td>\n",
       "      <td>0.0</td>\n",
       "      <td>0.000000</td>\n",
       "      <td>0.000000e+00</td>\n",
       "      <td>0.0</td>\n",
       "      <td>0.000000</td>\n",
       "      <td>0.000000</td>\n",
       "      <td>0.0</td>\n",
       "      <td>...</td>\n",
       "      <td>0.000000</td>\n",
       "      <td>0.000000e+00</td>\n",
       "      <td>0.000000e+00</td>\n",
       "      <td>0.0</td>\n",
       "      <td>0.000000e+00</td>\n",
       "      <td>0.000000e+00</td>\n",
       "      <td>0.0</td>\n",
       "      <td>0.0</td>\n",
       "      <td>0.000000</td>\n",
       "      <td>0.000000</td>\n",
       "    </tr>\n",
       "    <tr>\n",
       "      <th>25%</th>\n",
       "      <td>0.000000</td>\n",
       "      <td>0.000000</td>\n",
       "      <td>0.000000</td>\n",
       "      <td>0.0</td>\n",
       "      <td>0.000000</td>\n",
       "      <td>0.000000e+00</td>\n",
       "      <td>0.0</td>\n",
       "      <td>0.000000</td>\n",
       "      <td>0.000000</td>\n",
       "      <td>0.0</td>\n",
       "      <td>...</td>\n",
       "      <td>0.000000</td>\n",
       "      <td>0.000000e+00</td>\n",
       "      <td>0.000000e+00</td>\n",
       "      <td>0.0</td>\n",
       "      <td>0.000000e+00</td>\n",
       "      <td>0.000000e+00</td>\n",
       "      <td>0.0</td>\n",
       "      <td>0.0</td>\n",
       "      <td>0.000000</td>\n",
       "      <td>0.000000</td>\n",
       "    </tr>\n",
       "    <tr>\n",
       "      <th>50%</th>\n",
       "      <td>0.000000</td>\n",
       "      <td>0.000000</td>\n",
       "      <td>0.000000</td>\n",
       "      <td>0.0</td>\n",
       "      <td>0.000000</td>\n",
       "      <td>0.000000e+00</td>\n",
       "      <td>0.0</td>\n",
       "      <td>0.000000</td>\n",
       "      <td>0.000000</td>\n",
       "      <td>0.0</td>\n",
       "      <td>...</td>\n",
       "      <td>0.000000</td>\n",
       "      <td>0.000000e+00</td>\n",
       "      <td>0.000000e+00</td>\n",
       "      <td>0.0</td>\n",
       "      <td>0.000000e+00</td>\n",
       "      <td>0.000000e+00</td>\n",
       "      <td>0.0</td>\n",
       "      <td>0.0</td>\n",
       "      <td>0.000000</td>\n",
       "      <td>0.000000</td>\n",
       "    </tr>\n",
       "    <tr>\n",
       "      <th>75%</th>\n",
       "      <td>0.000000</td>\n",
       "      <td>0.000000</td>\n",
       "      <td>0.000000</td>\n",
       "      <td>0.0</td>\n",
       "      <td>1.000000</td>\n",
       "      <td>0.000000e+00</td>\n",
       "      <td>0.0</td>\n",
       "      <td>0.000000</td>\n",
       "      <td>0.000000</td>\n",
       "      <td>0.0</td>\n",
       "      <td>...</td>\n",
       "      <td>1.000000</td>\n",
       "      <td>0.000000e+00</td>\n",
       "      <td>0.000000e+00</td>\n",
       "      <td>0.0</td>\n",
       "      <td>4.890000e+02</td>\n",
       "      <td>4.200000e+02</td>\n",
       "      <td>0.0</td>\n",
       "      <td>0.0</td>\n",
       "      <td>0.000000</td>\n",
       "      <td>0.000000</td>\n",
       "    </tr>\n",
       "    <tr>\n",
       "      <th>max</th>\n",
       "      <td>489.000000</td>\n",
       "      <td>1.000000</td>\n",
       "      <td>1365.000000</td>\n",
       "      <td>0.0</td>\n",
       "      <td>29.000000</td>\n",
       "      <td>1.162123e+08</td>\n",
       "      <td>0.0</td>\n",
       "      <td>243.000000</td>\n",
       "      <td>28349.000000</td>\n",
       "      <td>0.0</td>\n",
       "      <td>...</td>\n",
       "      <td>978.000000</td>\n",
       "      <td>3.734493e+07</td>\n",
       "      <td>4.546188e+07</td>\n",
       "      <td>0.0</td>\n",
       "      <td>4.327503e+07</td>\n",
       "      <td>3.858469e+07</td>\n",
       "      <td>0.0</td>\n",
       "      <td>0.0</td>\n",
       "      <td>2445.000000</td>\n",
       "      <td>235786.000000</td>\n",
       "    </tr>\n",
       "  </tbody>\n",
       "</table>\n",
       "<p>8 rows × 272 columns</p>\n",
       "</div>"
      ],
      "text/plain": [
       "              0           1            2      3           4             5    \\\n",
       "count  272.000000  272.000000   272.000000  272.0  272.000000  2.720000e+02  \n",
       "mean     5.713235    0.003676    10.808824    0.0    1.051471  5.816488e+05  \n",
       "std     45.879983    0.060634    90.729354    0.0    3.287727  7.176633e+06  \n",
       "min      0.000000    0.000000     0.000000    0.0    0.000000  0.000000e+00  \n",
       "25%      0.000000    0.000000     0.000000    0.0    0.000000  0.000000e+00  \n",
       "50%      0.000000    0.000000     0.000000    0.0    0.000000  0.000000e+00  \n",
       "75%      0.000000    0.000000     0.000000    0.0    1.000000  0.000000e+00  \n",
       "max    489.000000    1.000000  1365.000000    0.0   29.000000  1.162123e+08  \n",
       "\n",
       "         6           7             8      9        ...               262  \\\n",
       "count  272.0  272.000000    272.000000  272.0      ...        272.000000  \n",
       "mean     0.0    1.231618    215.209559    0.0      ...         12.014706  \n",
       "std      0.0   15.481260   2110.762279    0.0      ...         85.048585  \n",
       "min      0.0    0.000000      0.000000    0.0      ...          0.000000  \n",
       "25%      0.0    0.000000      0.000000    0.0      ...          0.000000  \n",
       "50%      0.0    0.000000      0.000000    0.0      ...          0.000000  \n",
       "75%      0.0    0.000000      0.000000    0.0      ...          1.000000  \n",
       "max      0.0  243.000000  28349.000000    0.0      ...        978.000000  \n",
       "\n",
       "                263           264    265           266           267    268  \\\n",
       "count  2.720000e+02  2.720000e+02  272.0  2.720000e+02  2.720000e+02  272.0  \n",
       "mean   1.481067e+05  2.545723e+05    0.0  2.401457e+05  2.381166e+05    0.0  \n",
       "std    2.265051e+06  2.979061e+06    0.0  2.681785e+06  2.452487e+06    0.0  \n",
       "min    0.000000e+00  0.000000e+00    0.0  0.000000e+00  0.000000e+00    0.0  \n",
       "25%    0.000000e+00  0.000000e+00    0.0  0.000000e+00  0.000000e+00    0.0  \n",
       "50%    0.000000e+00  0.000000e+00    0.0  0.000000e+00  0.000000e+00    0.0  \n",
       "75%    0.000000e+00  0.000000e+00    0.0  4.890000e+02  4.200000e+02    0.0  \n",
       "max    3.734493e+07  4.546188e+07    0.0  4.327503e+07  3.858469e+07    0.0  \n",
       "\n",
       "         269          270            271 \n",
       "count  272.0   272.000000     272.000000 \n",
       "mean     0.0    28.110294    2076.849265 \n",
       "std      0.0   228.343665   19033.117707 \n",
       "min      0.0     0.000000       0.000000 \n",
       "25%      0.0     0.000000       0.000000 \n",
       "50%      0.0     0.000000       0.000000 \n",
       "75%      0.0     0.000000       0.000000 \n",
       "max      0.0  2445.000000  235786.000000 \n",
       "\n",
       "[8 rows x 272 columns]"
      ]
     },
     "execution_count": 12,
     "metadata": {},
     "output_type": "execute_result"
    }
   ],
   "source": [
    "pd.DataFrame(sim).describe()"
   ]
  },
  {
   "cell_type": "code",
   "execution_count": 13,
   "metadata": {},
   "outputs": [],
   "source": [
    "import matplotlib.pyplot as plt"
   ]
  },
  {
   "cell_type": "code",
   "execution_count": 14,
   "metadata": {},
   "outputs": [
    {
     "data": {
      "text/plain": [
       "(array([  7.39760000e+04,   5.00000000e+00,   0.00000000e+00,\n",
       "          0.00000000e+00,   1.00000000e+00,   0.00000000e+00,\n",
       "          0.00000000e+00,   1.00000000e+00,   0.00000000e+00,\n",
       "          1.00000000e+00]),\n",
       " array([  0.00000000e+00,   8.01644586e+08,   1.60328917e+09,\n",
       "          2.40493376e+09,   3.20657834e+09,   4.00822293e+09,\n",
       "          4.80986751e+09,   5.61151210e+09,   6.41315669e+09,\n",
       "          7.21480127e+09,   8.01644586e+09]),\n",
       " <a list of 10 Patch objects>)"
      ]
     },
     "execution_count": 14,
     "metadata": {},
     "output_type": "execute_result"
    },
    {
     "data": {
      "image/png": "[encoded data removed]",
      "text/plain": [
      ]
     },
     "metadata": {},
     "output_type": "display_data"
    }
   ],
   "source": [
    "plt.hist(sim.flatten())"
   ]
  },
  {
   "cell_type": "code",
   "execution_count": 15,
   "metadata": {},
   "outputs": [
    {
     "data": {
      "text/plain": [
       "1.2912221812983004e+20"
      ]
     },
     "execution_count": 15,
     "metadata": {},
     "output_type": "execute_result"
    }
   ],
   "source": [
    "from sklearn.decomposition import PCA\n",
    "fact=PCA(n_components=.999999999)\n",
    "sim_txf=fact.fit_transform(sim)\n",
    "((sim-fact.components_[sim_txf.argmax(axis=1)])**2).sum()"
   ]
  },
  {
   "cell_type": "markdown",
   "metadata": {},
   "source": [
    "### len(orgs), len(set(x[0] for x in orgs)),len(set(x[1] for x in orgs))"
   ]
  },
  {
   "cell_type": "code",
   "execution_count": 16,
   "metadata": {},
   "outputs": [
    {
     "name": "stdout",
     "output_type": "stream",
     "text": [
      "Pretty printing has been turned OFF\n"
     ]
    }
   ],
   "source": [
    "pprint(activities.find_one())"
   ]
  },
  {
   "cell_type": "markdown",
   "metadata": {},
   "source": [
    "## Extract Text"
   ]
  },
  {
   "cell_type": "code",
   "execution_count": 17,
   "metadata": {},
   "outputs": [
    {
     "name": "stdout",
     "output_type": "stream",
     "text": [
      "Overwriting text_extraction.py\n"
     ]
    }
   ],
   "source": [
    "%%writefile text_extraction.py\n",
    "\n",
    "import bson\n",
    "from feature_creation import find_reporting_org\n",
    "import re\n",
    "\n",
    "try:\n",
    "    unicode = str\n",
    "except:\n",
    "    pass"
   ]
  },
  {
   "cell_type": "markdown",
   "metadata": {},
   "source": [
    "Text will be extracted as all fields on the `iati-activity` element as will as all fields on the parent `iati-activities` element."
   ]
  },
  {
   "cell_type": "code",
   "execution_count": 18,
   "metadata": {},
   "outputs": [
    {
     "name": "stdout",
     "output_type": "stream",
     "text": [
      "Appending to text_extraction.py\n"
     ]
    }
   ],
   "source": [
    "%%writefile -a text_extraction.py\n",
    "\n",
    "def extract_text(json_object):\n",
    "    if json_object is None:\n",
    "        return ''\n",
    "\n",
    "    text = []\n",
    "\n",
    "    object_type = type(json_object)\n",
    "\n",
    "    # Recursively extract the text based on the data structure until we are at\n",
    "    # the \"no data structure here\" text leaf node.\n",
    "\n",
    "    if object_type is dict:\n",
    "        text = [extract_text(value) for value in json_object.values()]\n",
    "    elif object_type is list:\n",
    "        text = [extract_text(value) for value in json_object]\n",
    "    elif object_type is str or object_type is unicode:\n",
    "        text = [re.sub(r'\\s+', ' ', unicode(json_object)).strip()]\n",
    "    elif object_type is bson.objectid.ObjectId:\n",
    "        text = []\n",
    "    else:\n",
    "        print(object_type)\n",
    "\n",
    "    return ' '.join([item for item in text if len(item) > 0])"
   ]
  },
  {
   "cell_type": "code",
   "execution_count": 19,
   "metadata": {},
   "outputs": [
    {
     "name": "stdout",
     "output_type": "stream",
     "text": [
      "Appending to text_extraction.py\n"
     ]
    }
   ],
   "source": [
    "%%writefile -a text_extraction.py\n",
    "\n",
    "def is_valid_ref_format(ref):\n",
    "    if ref is None:\n",
    "        return False\n",
    "\n",
    "    if ref.find('-') == -1:\n",
    "        return False\n",
    "\n",
    "    if ref.find(' ') != -1:\n",
    "        return False\n",
    "\n",
    "    return True"
   ]
  },
  {
   "cell_type": "code",
   "execution_count": 20,
   "metadata": {},
   "outputs": [
    {
     "name": "stdout",
     "output_type": "stream",
     "text": [
      "Appending to text_extraction.py\n"
     ]
    }
   ],
   "source": [
    "%%writefile -a text_extraction.py\n",
    "\n",
    "def get_iati_text_line(activity):\n",
    "    row_id = find_reporting_org(activity['reporting-org'])\n",
    "   \n",
    "    if not is_valid_ref_format(row_id):\n",
    "        return None\n",
    "   \n",
    "    return '%s\\t%s\\n' % (row_id, extract_text(activity))"
   ]
  },
  {
   "cell_type": "code",
   "execution_count": 21,
   "metadata": {},
   "outputs": [],
   "source": [
    "from text_extraction import get_iati_text_line\n",
    "from multiprocessing import Pool, cpu_count"
   ]
  },
  {
   "cell_type": "code",
   "execution_count": 22,
   "metadata": {},
   "outputs": [],
   "source": [
    "pool = Pool(cpu_count())"
   ]
  },
  {
   "cell_type": "code",
   "execution_count": 23,
   "metadata": {},
   "outputs": [
    {
     "name": "stdout",
     "output_type": "stream",
     "text": [
      "2017-12-31 23:07:00.426547 Started processing\n",
      "2017-12-31 23:07:00.447685 Processed 0 of 764159\n",
      "2017-12-31 23:07:06.916065 Processed 25000 of 764159\n",
      "2017-12-31 23:07:14.060837 Processed 50000 of 764159\n",
      "2017-12-31 23:07:22.267832 Processed 75000 of 764159\n",
      "2017-12-31 23:07:29.736179 Processed 100000 of 764159\n",
      "2017-12-31 23:07:37.797888 Processed 125000 of 764159\n",
      "2017-12-31 23:07:44.677508 Processed 150000 of 764159\n",
      "2017-12-31 23:07:51.632685 Processed 175000 of 764159\n",
      "2017-12-31 23:07:59.679920 Processed 200000 of 764159\n",
      "2017-12-31 23:08:08.184402 Processed 225000 of 764159\n",
      "2017-12-31 23:08:15.057667 Processed 250000 of 764159\n",
      "2017-12-31 23:08:20.280598 Processed 275000 of 764159\n",
      "2017-12-31 23:08:28.440842 Processed 300000 of 764159\n",
      "2017-12-31 23:08:35.408095 Processed 325000 of 764159\n",
      "2017-12-31 23:08:43.217559 Processed 350000 of 764159\n",
      "2017-12-31 23:08:50.464675 Processed 375000 of 764159\n",
      "2017-12-31 23:08:56.953008 Processed 400000 of 764159\n",
      "2017-12-31 23:09:05.215052 Processed 425000 of 764159\n",
      "2017-12-31 23:09:13.081337 Processed 450000 of 764159\n",
      "2017-12-31 23:09:21.880220 Processed 475000 of 764159\n",
      "2017-12-31 23:09:28.894344 Processed 500000 of 764159\n",
      "2017-12-31 23:09:34.023357 Processed 525000 of 764159\n",
      "2017-12-31 23:09:39.979554 Processed 550000 of 764159\n",
      "2017-12-31 23:09:46.987777 Processed 575000 of 764159\n",
      "2017-12-31 23:09:54.646672 Processed 600000 of 764159\n",
      "2017-12-31 23:10:01.786486 Processed 625000 of 764159\n",
      "2017-12-31 23:10:09.115864 Processed 650000 of 764159\n",
      "2017-12-31 23:10:15.808822 Processed 675000 of 764159\n",
      "2017-12-31 23:10:23.617772 Processed 700000 of 764159\n",
      "2017-12-31 23:10:31.544907 Processed 725000 of 764159\n",
      "2017-12-31 23:10:38.671467 Processed 750000 of 764159\n",
      "2017-12-31 23:10:42.624405 Finished processing\n"
     ]
    }
   ],
   "source": [
    "parse_failures = []\n",
    "activities_count = activities.count()\n",
    "\n",
    "print(datetime.now(), 'Started processing')\n",
    "\n",
    "with io.open('iati_text.txt', 'w', encoding='utf-8') as f:\n",
    "    joined_activities = activities.aggregate([{\n",
    "        '$lookup': {\n",
    "            'from': 'metadata',\n",
    "            'localField': '@w210-filename',\n",
    "            'foreignField': '@w210-filename',\n",
    "            'as': 'metadata'\n",
    "        }\n",
    "    }])\n",
    "\n",
    "    num = 0\n",
    "   \n",
    "    for line in pool.imap_unordered(get_iati_text_line, joined_activities):\n",
    "        if num % 25000 == 0:\n",
    "            print(datetime.now(), 'Processed', num, 'of', activities_count)\n",
    "       \n",
    "        num += 1\n",
    "\n",
    "        if line is not None:\n",
    "            f.write(line)\n",
    "\n",
    "print(datetime.now(), 'Finished processing')"
   ]
  },
  {
   "cell_type": "markdown",
   "metadata": {
    "collapsed": true
   },
   "source": [
    "# Upload to S3"
   ]
  },
  {
   "cell_type": "code",
   "execution_count": 24,
   "metadata": {},
   "outputs": [],
   "source": [
    "s3_bucket = 'mdang.w210'"
   ]
  },
  {
   "cell_type": "code",
   "execution_count": 25,
   "metadata": {},
   "outputs": [
    {
     "name": "stdout",
     "output_type": "stream",
     "text": [
      "upload: ./iati_text.txt.gz to s3://mdang.w210/iati_text.txt.gz\n"
     ]
    }
   ],
   "source": [
    "!gzip iati_text.txt\n",
    "!aws s3 cp iati_text.txt.gz s3://{s3_bucket}/ --acl public-read\n",
    "!gunzip iati_text.txt.gz"
   ]
  }
 ],
 "metadata": {
  "kernelspec": {
   "display_name": "Python 3",
   "language": "python",
   "name": "python3"
  },
  "language_info": {
   "codemirror_mode": {
    "name": "ipython",
    "version": 3
   },
   "file_extension": ".py",
   "mimetype": "text/x-python",
   "name": "python",
   "nbconvert_exporter": "python",
   "pygments_lexer": "ipython3",
   "version": "3.6.2"
  }
 },
 "nbformat": 4,
 "nbformat_minor": 1
}
