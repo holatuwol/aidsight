{
 "cells": [
  {
   "cell_type": "markdown",
   "metadata": {},
   "source": [
    "# Install Packages"
   ]
  },
  {
   "cell_type": "code",
   "execution_count": 1,
   "metadata": {},
   "outputs": [],
   "source": [
    "%matplotlib inline"
   ]
  },
  {
   "cell_type": "code",
   "execution_count": 2,
   "metadata": {},
   "outputs": [],
   "source": [
    "from __future__ import print_function\n",
    "from datetime import datetime\n",
    "import pickle\n",
    "import pymongo\n",
    "import six"
   ]
  },
  {
   "cell_type": "markdown",
   "metadata": {},
   "source": [
    "# Data Check"
   ]
  },
  {
   "cell_type": "markdown",
   "metadata": {},
   "source": [
    "If running from a Docker container, make sure to run `aws configure` manually to configure your credentials, or it won't be able to upload to or download from the bucket."
   ]
  },
  {
   "cell_type": "code",
   "execution_count": 3,
   "metadata": {},
   "outputs": [],
   "source": [
    "s3_bucket = 'mdang.w210'"
   ]
  },
  {
   "cell_type": "code",
   "execution_count": 4,
   "metadata": {},
   "outputs": [
    {
     "data": {
      "text/plain": [
       "['admin', 'iati', 'local']"
      ]
     },
     "execution_count": 4,
     "metadata": {},
     "output_type": "execute_result"
    }
   ],
   "source": [
    "conn=pymongo.MongoClient('mongodb', 27017)\n",
    "\n",
    "conn.database_names()"
   ]
  },
  {
   "cell_type": "code",
   "execution_count": 5,
   "metadata": {},
   "outputs": [
    {
     "data": {
      "text/plain": [
       "['organizations',\n",
       " 'activities',\n",
       " 'activities_metadata',\n",
       " 'transactions',\n",
       " 'organizations_metadata']"
      ]
     },
     "execution_count": 5,
     "metadata": {},
     "output_type": "execute_result"
    }
   ],
   "source": [
    "db = conn.iati\n",
    "\n",
    "activities=db.activities\n",
    "activities_metadata=db.activities_metadata\n",
    "transactions=db.transactions\n",
    "organizations=db.organizations\n",
    "organizations_metadata=db.organizations_metadata\n",
    "\n",
    "db.collection_names()"
   ]
  },
  {
   "cell_type": "code",
   "execution_count": 6,
   "metadata": {},
   "outputs": [
    {
     "name": "stdout",
     "output_type": "stream",
     "text": [
      "4542 764159\n"
     ]
    }
   ],
   "source": [
    "print(activities_metadata.count(), activities.count())"
   ]
  },
  {
   "cell_type": "code",
   "execution_count": 7,
   "metadata": {},
   "outputs": [
    {
     "name": "stdout",
     "output_type": "stream",
     "text": [
      "3602802\n"
     ]
    }
   ],
   "source": [
    "print(transactions.count())"
   ]
  },
  {
   "cell_type": "code",
   "execution_count": 8,
   "metadata": {},
   "outputs": [
    {
     "name": "stdout",
     "output_type": "stream",
     "text": [
      "275 442\n"
     ]
    }
   ],
   "source": [
    "print(organizations_metadata.count(), organizations.count())"
   ]
  },
  {
   "cell_type": "markdown",
   "metadata": {},
   "source": [
    "# Add Activities"
   ]
  },
  {
   "cell_type": "code",
   "execution_count": 9,
   "metadata": {},
   "outputs": [],
   "source": [
    "from parse_activity import add_activity_node, publisher_nodes, organization_nodes, activity_nodes, activity_relationships"
   ]
  },
  {
   "cell_type": "markdown",
   "metadata": {},
   "source": [
    "## Load Activities and Organizations"
   ]
  },
  {
   "cell_type": "code",
   "execution_count": 10,
   "metadata": {
    "scrolled": true
   },
   "outputs": [
    {
     "name": "stdout",
     "output_type": "stream",
     "text": [
      "2017-12-31 03:42:38.353372 Processed 0 of 764159\n",
      "2017-12-31 03:43:52.586585 Processed 10000 of 764159\n",
      "2017-12-31 03:44:06.791817 Processed 20000 of 764159\n",
      "2017-12-31 03:44:56.346781 Processed 30000 of 764159\n",
      "2017-12-31 03:45:08.113786 Processed 40000 of 764159\n",
      "2017-12-31 03:45:30.769070 Processed 50000 of 764159\n",
      "2017-12-31 03:46:17.180293 Processed 60000 of 764159\n",
      "2017-12-31 03:48:18.252265 Processed 70000 of 764159\n",
      "2017-12-31 03:48:46.165216 Processed 80000 of 764159\n",
      "2017-12-31 03:49:55.098177 Processed 90000 of 764159\n",
      "2017-12-31 03:50:38.598963 Processed 100000 of 764159\n",
      "2017-12-31 03:54:10.129745 Processed 110000 of 764159\n",
      "2017-12-31 03:56:48.849281 Processed 120000 of 764159\n",
      "2017-12-31 03:59:15.853565 Processed 130000 of 764159\n",
      "2017-12-31 04:00:07.113563 Processed 140000 of 764159\n",
      "2017-12-31 04:01:42.543901 Processed 150000 of 764159\n",
      "2017-12-31 04:02:33.202726 Processed 160000 of 764159\n",
      "2017-12-31 04:03:56.811284 Processed 170000 of 764159\n",
      "2017-12-31 04:05:02.101482 Processed 180000 of 764159\n",
      "2017-12-31 04:06:17.512742 Processed 190000 of 764159\n",
      "2017-12-31 04:07:23.487179 Processed 200000 of 764159\n",
      "2017-12-31 04:09:51.960720 Processed 210000 of 764159\n",
      "2017-12-31 04:12:35.842227 Processed 220000 of 764159\n",
      "2017-12-31 04:13:09.313755 Processed 230000 of 764159\n",
      "2017-12-31 04:13:34.009194 Processed 240000 of 764159\n",
      "2017-12-31 04:14:29.136669 Processed 250000 of 764159\n",
      "2017-12-31 04:15:40.458971 Processed 260000 of 764159\n",
      "2017-12-31 04:15:41.161148 Processed 270000 of 764159\n",
      "2017-12-31 04:16:12.441165 Processed 280000 of 764159\n",
      "2017-12-31 04:16:58.744381 Processed 290000 of 764159\n",
      "2017-12-31 04:18:17.819769 Processed 300000 of 764159\n",
      "2017-12-31 04:18:28.953412 Processed 310000 of 764159\n",
      "2017-12-31 04:19:44.484820 Processed 320000 of 764159\n",
      "2017-12-31 04:20:35.736142 Processed 330000 of 764159\n",
      "2017-12-31 04:22:18.244761 Processed 340000 of 764159\n",
      "2017-12-31 04:23:06.800492 Processed 350000 of 764159\n",
      "2017-12-31 04:24:34.356301 Processed 360000 of 764159\n",
      "2017-12-31 04:26:56.677912 Processed 370000 of 764159\n",
      "2017-12-31 04:28:21.847652 Processed 380000 of 764159\n",
      "2017-12-31 04:29:18.560062 Processed 390000 of 764159\n",
      "2017-12-31 04:29:54.603883 Processed 400000 of 764159\n",
      "2017-12-31 04:30:24.583538 Processed 410000 of 764159\n",
      "2017-12-31 04:31:49.994311 Processed 420000 of 764159\n",
      "2017-12-31 04:32:49.835255 Processed 430000 of 764159\n",
      "2017-12-31 04:33:22.045764 Processed 440000 of 764159\n",
      "2017-12-31 04:34:53.395582 Processed 450000 of 764159\n",
      "2017-12-31 04:36:12.663838 Processed 460000 of 764159\n",
      "2017-12-31 04:36:52.571483 Processed 470000 of 764159\n",
      "2017-12-31 04:39:07.502855 Processed 480000 of 764159\n",
      "2017-12-31 04:39:49.876060 Processed 490000 of 764159\n",
      "2017-12-31 04:39:54.355071 Processed 500000 of 764159\n",
      "2017-12-31 04:40:03.533595 Processed 510000 of 764159\n",
      "2017-12-31 04:40:06.728392 Processed 520000 of 764159\n",
      "2017-12-31 04:40:32.919182 Processed 530000 of 764159\n",
      "2017-12-31 04:42:18.329531 Processed 540000 of 764159\n",
      "2017-12-31 04:43:13.665921 Processed 550000 of 764159\n",
      "2017-12-31 04:43:39.377125 Processed 560000 of 764159\n",
      "2017-12-31 04:44:04.897763 Processed 570000 of 764159\n",
      "2017-12-31 04:45:19.628171 Processed 580000 of 764159\n",
      "2017-12-31 04:46:54.500822 Processed 590000 of 764159\n",
      "2017-12-31 04:48:08.842647 Processed 600000 of 764159\n",
      "2017-12-31 04:48:26.815747 Processed 610000 of 764159\n",
      "2017-12-31 04:49:38.538361 Processed 620000 of 764159\n",
      "2017-12-31 04:50:47.382367 Processed 630000 of 764159\n",
      "2017-12-31 04:51:11.641961 Processed 640000 of 764159\n",
      "2017-12-31 04:52:35.564104 Processed 650000 of 764159\n",
      "2017-12-31 04:53:39.635500 Processed 660000 of 764159\n",
      "2017-12-31 04:54:02.803459 Processed 670000 of 764159\n",
      "2017-12-31 04:54:15.435434 Processed 680000 of 764159\n",
      "2017-12-31 04:54:44.563941 Processed 690000 of 764159\n",
      "2017-12-31 04:55:14.001060 Processed 700000 of 764159\n",
      "2017-12-31 04:56:48.843445 Processed 710000 of 764159\n",
      "2017-12-31 04:58:27.993598 Processed 720000 of 764159\n",
      "2017-12-31 04:59:57.818343 Processed 730000 of 764159\n",
      "2017-12-31 05:02:07.436819 Processed 740000 of 764159\n",
      "2017-12-31 05:02:59.278457 Processed 750000 of 764159\n",
      "2017-12-31 05:03:29.559992 Processed 760000 of 764159\n",
      "2017-12-31 05:03:34.304769 Processed 764159 of 764159\n"
     ]
    }
   ],
   "source": [
    "activities_count = activities.count()\n",
    "\n",
    "for num_finished, activity in enumerate(activities.find()):\n",
    "    if num_finished % 10000 == 0:\n",
    "        print('%s Processed %d of %d' % (datetime.now(), num_finished, activities_count))\n",
    "\n",
    "    add_activity_node(activity)\n",
    "\n",
    "print('%s Processed %d of %d' % (datetime.now(), activities_count, activities_count))"
   ]
  },
  {
   "cell_type": "markdown",
   "metadata": {},
   "source": [
    "## Check Results"
   ]
  },
  {
   "cell_type": "code",
   "execution_count": 11,
   "metadata": {},
   "outputs": [
    {
     "data": {
      "text/plain": [
       "378"
      ]
     },
     "execution_count": 11,
     "metadata": {},
     "output_type": "execute_result"
    }
   ],
   "source": [
    "len(publisher_nodes)"
   ]
  },
  {
   "cell_type": "code",
   "execution_count": 12,
   "metadata": {},
   "outputs": [
    {
     "data": {
      "text/plain": [
       "5796"
      ]
     },
     "execution_count": 12,
     "metadata": {},
     "output_type": "execute_result"
    }
   ],
   "source": [
    "len(organization_nodes)"
   ]
  },
  {
   "cell_type": "code",
   "execution_count": 13,
   "metadata": {},
   "outputs": [
    {
     "data": {
      "text/plain": [
       "725963"
      ]
     },
     "execution_count": 13,
     "metadata": {},
     "output_type": "execute_result"
    }
   ],
   "source": [
    "len(activity_nodes)"
   ]
  },
  {
   "cell_type": "code",
   "execution_count": 14,
   "metadata": {},
   "outputs": [
    {
     "data": {
      "text/plain": [
       "725963"
      ]
     },
     "execution_count": 14,
     "metadata": {},
     "output_type": "execute_result"
    }
   ],
   "source": [
    "len(activity_relationships)"
   ]
  },
  {
   "cell_type": "markdown",
   "metadata": {},
   "source": [
    "## Confirm the Keys in Our Nodes"
   ]
  },
  {
   "cell_type": "code",
   "execution_count": 15,
   "metadata": {},
   "outputs": [],
   "source": [
    "node_keys = set()\n",
    "\n",
    "for key, node in activity_nodes.items():\n",
    "    try:\n",
    "        node_keys |= set(node.keys())\n",
    "    except:\n",
    "        break"
   ]
  },
  {
   "cell_type": "code",
   "execution_count": 16,
   "metadata": {},
   "outputs": [
    {
     "data": {
      "text/plain": [
       "{'description',\n",
       " 'description_raw',\n",
       " 'iati-identifier',\n",
       " 'location',\n",
       " 'policy-marker',\n",
       " 'recipient-country',\n",
       " 'sector'}"
      ]
     },
     "execution_count": 16,
     "metadata": {},
     "output_type": "execute_result"
    }
   ],
   "source": [
    "node_keys"
   ]
  },
  {
   "cell_type": "markdown",
   "metadata": {},
   "source": [
    "## Store as Pickled Files"
   ]
  },
  {
   "cell_type": "code",
   "execution_count": 17,
   "metadata": {},
   "outputs": [],
   "source": [
    "with open('graph_publisher_nodes.pickle', 'wb') as f:\n",
    "    pickle.dump(publisher_nodes, f)"
   ]
  },
  {
   "cell_type": "code",
   "execution_count": 18,
   "metadata": {},
   "outputs": [],
   "source": [
    "with open('graph_organization_nodes.pickle', 'wb') as f:\n",
    "    pickle.dump(organization_nodes, f)"
   ]
  },
  {
   "cell_type": "code",
   "execution_count": 19,
   "metadata": {},
   "outputs": [],
   "source": [
    "with open('graph_activity_nodes.pickle', 'wb') as f:\n",
    "    pickle.dump(activity_nodes, f)"
   ]
  },
  {
   "cell_type": "code",
   "execution_count": 20,
   "metadata": {},
   "outputs": [],
   "source": [
    "with open('graph_activity_relationships.pickle', 'wb') as f:\n",
    "    pickle.dump(activity_relationships, f)"
   ]
  },
  {
   "cell_type": "markdown",
   "metadata": {},
   "source": [
    "# Backup Files"
   ]
  },
  {
   "cell_type": "markdown",
   "metadata": {},
   "source": [
    "Because commands starting with `!` create a forked process, it's possible that the commands below might fail. To work around that possibility, you may want to restart the kernel to free up memory and only run the subsequent commands after that."
   ]
  },
  {
   "cell_type": "code",
   "execution_count": 21,
   "metadata": {},
   "outputs": [],
   "source": [
    "!rm -f graph_pickle.tar.gz\n",
    "!tar -cf graph_pickle.tar graph_*.pickle\n",
    "!gzip graph_pickle.tar"
   ]
  },
  {
   "cell_type": "code",
   "execution_count": 22,
   "metadata": {},
   "outputs": [],
   "source": [
    "s3_bucket = 'mdang.w210'"
   ]
  },
  {
   "cell_type": "code",
   "execution_count": 23,
   "metadata": {},
   "outputs": [
    {
     "name": "stdout",
     "output_type": "stream",
     "text": [
      "upload: ./graph_pickle.tar.gz to s3://mdang.w210/graph_pickle.tar.gz\n"
     ]
    }
   ],
   "source": [
    "!aws s3 cp graph_pickle.tar.gz s3://{s3_bucket}/ --acl public-read"
   ]
  }
 ],
 "metadata": {
  "kernelspec": {
   "display_name": "Python 3",
   "language": "python",
   "name": "python3"
  },
  "language_info": {
   "codemirror_mode": {
    "name": "ipython",
    "version": 3
   },
   "file_extension": ".py",
   "mimetype": "text/x-python",
   "name": "python",
   "nbconvert_exporter": "python",
   "pygments_lexer": "ipython3",
   "version": "3.6.2"
  }
 },
 "nbformat": 4,
 "nbformat_minor": 1
}
