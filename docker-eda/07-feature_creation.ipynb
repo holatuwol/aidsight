{
 "cells": [
  {
   "cell_type": "markdown",
   "metadata": {},
   "source": [
    "# Feature creation pipeline to operationalize data quality\n",
    "\n",
    "# Aspirational TODO list\n",
    "- How many different versions of the standard are we using\n",
    "- Build a flag for invalid reporting-org indications, add to features dict\n",
    "- Are there any other description contents to calculate (\"Wow, there's a lot of txn info here!\") - Do this on server side\n",
    "\n",
    "### Initial Setup"
   ]
  },
  {
   "cell_type": "code",
   "execution_count": 1,
   "metadata": {},
   "outputs": [],
   "source": [
    "from __future__ import division,print_function\n",
    "\n",
    "from multiprocessing import Pool, cpu_count\n",
    "import numpy as np\n",
    "import os\n",
    "import sys\n",
    "import json\n",
    "import re\n",
    "import time\n",
    "import pickle\n",
    "import requests\n",
    "import six\n",
    "from datetime import datetime\n",
    "from collections import Counter\n",
    "from operator import add\n",
    "\n",
    "import pandas as pd\n",
    "import pymongo\n",
    "\n",
    "from pprint import PrettyPrinter\n",
    "p=PrettyPrinter()"
   ]
  },
  {
   "cell_type": "code",
   "execution_count": 2,
   "metadata": {},
   "outputs": [],
   "source": [
    "pool = Pool(cpu_count())"
   ]
  },
  {
   "cell_type": "code",
   "execution_count": 3,
   "metadata": {},
   "outputs": [
    {
     "data": {
      "text/plain": [
       "['admin', 'iati', 'local']"
      ]
     },
     "execution_count": 3,
     "metadata": {},
     "output_type": "execute_result"
    }
   ],
   "source": [
    "conn=pymongo.MongoClient('mongodb', 27017)\n",
    "\n",
    "conn.database_names()"
   ]
  },
  {
   "cell_type": "code",
   "execution_count": 4,
   "metadata": {},
   "outputs": [
    {
     "data": {
      "text/plain": [
       "['cleaned_orgs_full',\n",
       " 'transactions',\n",
       " 'quality',\n",
       " 'organizations_metadata',\n",
       " 'organizations',\n",
       " 'activities',\n",
       " 'activities_metadata']"
      ]
     },
     "execution_count": 4,
     "metadata": {},
     "output_type": "execute_result"
    }
   ],
   "source": [
    "db = conn.iati\n",
    "\n",
    "activities=db.activities\n",
    "metadata=db.metadata\n",
    "\n",
    "db.collection_names()"
   ]
  },
  {
   "cell_type": "code",
   "execution_count": 5,
   "metadata": {},
   "outputs": [
    {
     "name": "stdout",
     "output_type": "stream",
     "text": [
      "764159\n"
     ]
    }
   ],
   "source": [
    "print(activities.count())"
   ]
  },
  {
   "cell_type": "code",
   "execution_count": 6,
   "metadata": {},
   "outputs": [],
   "source": [
    "#Load a test record into memory so we have it on hand for later\n",
    "activity=activities.find_one({'iati-identifier':'XM-DAC-41114-PROJECT-00047321'})"
   ]
  },
  {
   "cell_type": "code",
   "execution_count": 7,
   "metadata": {},
   "outputs": [
    {
     "data": {
      "text/plain": [
       "{'@ref': 'XM-DAC-41114',\n",
       " '@type': '40',\n",
       " 'narrative': 'United Nations Development Programme'}"
      ]
     },
     "execution_count": 7,
     "metadata": {},
     "output_type": "execute_result"
    }
   ],
   "source": [
    "activity['reporting-org']"
   ]
  },
  {
   "cell_type": "markdown",
   "metadata": {},
   "source": [
    "## Define activity-level feature creation functions\n",
    "\n",
    "We're going to establish three different types of features\n",
    "- Completeness (does the activity have the data needed to be useful)\n",
    "- Compliance (does the numeric data in activity appear to be naturally generated)\n",
    "- Utility (is the activity likely to be practically useful to a human reader)\n",
    "\n",
    "### Completeness features"
   ]
  },
  {
   "cell_type": "code",
   "execution_count": 8,
   "metadata": {},
   "outputs": [
    {
     "name": "stdout",
     "output_type": "stream",
     "text": [
      "Overwriting feature_creation.py\n"
     ]
    }
   ],
   "source": [
    "%%writefile feature_creation.py\n",
    "\n",
    "import pickle\n",
    "import six\n",
    "import sys\n",
    "\n",
    "from sklearn.feature_extraction.text import TfidfVectorizer\n",
    "from sklearn.feature_extraction.text import CountVectorizer\n",
    "from sklearn.metrics.pairwise import cosine_similarity"
   ]
  },
  {
   "cell_type": "code",
   "execution_count": 9,
   "metadata": {},
   "outputs": [
    {
     "name": "stdout",
     "output_type": "stream",
     "text": [
      "Appending to feature_creation.py\n"
     ]
    }
   ],
   "source": [
    "%%writefile -a feature_creation.py\n",
    "\n",
    "#Simple check for missing data\n",
    "\n",
    "def check_missing_fields(activity,field,features):\n",
    "    \"\"\"Generic function for checking whether or not a given field has data\"\"\"\n",
    "    try:\n",
    "        if activity[field]:\n",
    "            features['missing_'+field]=0\n",
    "        else:\n",
    "            features['missing_'+field]=1\n",
    "    except KeyError:\n",
    "        features['missing_'+field]=1"
   ]
  },
  {
   "cell_type": "code",
   "execution_count": 10,
   "metadata": {},
   "outputs": [
    {
     "name": "stdout",
     "output_type": "stream",
     "text": [
      "Appending to feature_creation.py\n"
     ]
    }
   ],
   "source": [
    "%%writefile -a feature_creation.py\n",
    "\n",
    "def get_val(val):\n",
    "    \"\"\"\n",
    "    Many IATI schema complex types are simple content (no embedded tags) with attributes.\n",
    "    xmltodict represents these as string values if no attributes are present, or as dicts with\n",
    "    the content as the '#text' member otherwise.\n",
    "    \"\"\"\n",
    "    if isinstance(val, dict):\n",
    "        return val.get('#text')\n",
    "    return val"
   ]
  },
  {
   "cell_type": "markdown",
   "metadata": {},
   "source": [
    "### Compliance features\n",
    "These are based on [Benford's law](https://en.wikipedia.org/wiki/Benford%27s_law), which defines certain patterns for the frequency of digits appearing in naturally generated data.  Datasets that don't comply with Benford's law are more likely to be made up (for example, by an analyst guessing at an approximate value rather than calculating it) or even fraudulent.  We aren't making any claims about the veracity of any activities, but rather simply trying to enable the user to get a sense for which numbers have a higher likelihood of a real-world meaning, since this is what's ultimately going to make a dataset useful for understanding an aid intervention"
   ]
  },
  {
   "cell_type": "code",
   "execution_count": 11,
   "metadata": {},
   "outputs": [
    {
     "name": "stdout",
     "output_type": "stream",
     "text": [
      "Appending to feature_creation.py\n"
     ]
    }
   ],
   "source": [
    "%%writefile -a feature_creation.py\n",
    "\n",
    "#Benford's Law Analysis\n",
    "\n",
    "def calculate_digit_distribution(list_of_numbers):\n",
    "    \"\"\"Returns a distribution of digits given a list of numbers (type agnostic)\"\"\"\n",
    "    counts=[0]*10\n",
    "    for num in list_of_numbers:\n",
    "        try:\n",
    "            num=filter(six.text_type.isdigit, six.text_type(num))\n",
    "            digit=int(next(iter(num)))\n",
    "            counts[digit]+=1\n",
    "        except StopIteration:\n",
    "            pass\n",
    "    total=sum(counts)\n",
    "    if total:\n",
    "        return [round(i/total,4) for i in counts]\n",
    "    return counts\n",
    "\n",
    "def benfords_law(activity,field,features):\n",
    "    \"\"\"\n",
    "    Tests whether or not a given field on an activity obeys Benford's law\n",
    "\n",
    "    For our purposes, a distribution complies with Benford's law if the 1\n",
    "    represents at least 30% of the data.  This is a simplistic definition,\n",
    "    but it'll work for the prototype and we can make it more nuanced later\n",
    "\n",
    "    \"\"\"\n",
    "    distribution=None\n",
    "    compliance=None\n",
    "    values=activity.get(field)\n",
    "    if values:\n",
    "        #Make sure types are consistent\n",
    "        if type(values)!=list:\n",
    "            values=[values]\n",
    "        raw_vals=[]\n",
    "        for value in values:\n",
    "            contents=get_val(value.get('value'))\n",
    "            if contents:\n",
    "                raw_vals.append(contents)\n",
    "        if raw_vals:\n",
    "            distribution=calculate_digit_distribution(raw_vals)\n",
    "            if distribution[1]>0.3:\n",
    "                compliance=1\n",
    "            else:\n",
    "                compliance=0\n",
    "    features['benford_distribution_'+field]=distribution\n",
    "    features['benford_compliance_'+field]=compliance"
   ]
  },
  {
   "cell_type": "markdown",
   "metadata": {},
   "source": [
    "### Utility Features\n",
    "\n",
    "Here, we're trying to understand how practically useful a record is likely to be to a lay user.  Useful records are likely to be managable in size and contain a diverse mix of information.  If a record consists entirely of one type of data (usually long lists of transactions or budget items), it's liable to obscure important content about its programs in the same way that meaningful data is overwhelmed by useless packets sent during a DDOS attack.\n",
    "\n",
    "We also examine the similarity of the title and description of each activity, since these are typically among the easiest fields for end-users to understand and they're among the most complete.  When these fields are too similar, it may indicate lazy data entry (copy/pasting from one field to the other).  When they're too dissimilar, it may indicate a lack of programmatic alignment."
   ]
  },
  {
   "cell_type": "code",
   "execution_count": 12,
   "metadata": {},
   "outputs": [
    {
     "name": "stdout",
     "output_type": "stream",
     "text": [
      "Appending to feature_creation.py\n"
     ]
    }
   ],
   "source": [
    "%%writefile -a feature_creation.py\n",
    "\n",
    "#Extract and compare similarity of title and description\n",
    "\n",
    "def find_text_in_dict(field):\n",
    "    \"\"\"Structure of certain fields varies, so we need to unwrap the nested dicts when this happens\"\"\"\n",
    "    if type(field)==dict:\n",
    "        try:\n",
    "            field=field['narrative']\n",
    "            if type(field)==dict:\n",
    "                field=field['text']\n",
    "        except KeyError:\n",
    "            field=field['#text']\n",
    "            if type(field)==dict:\n",
    "                field=field['text']\n",
    "    return field\n",
    "\n",
    "def find_text(field):\n",
    "    \"\"\"\n",
    "    If there are more than one dict in a list, extract and concat all text content together\n",
    "    \"\"\"\n",
    "    if type(field)==list:\n",
    "        output=''\n",
    "        for i in field:\n",
    "            try:\n",
    "                output+=find_text_in_dict(i)\n",
    "            except TypeError:\n",
    "                pass\n",
    "    else:\n",
    "        output=find_text_in_dict(field)\n",
    "    return output\n",
    "\n",
    "def field_similarity(field1,field2):\n",
    "    \"\"\"Calculate cosine similarity between two TFIDF vectorized strings\"\"\"\n",
    "    tfidf_vectorizer=TfidfVectorizer(min_df=0)\n",
    "    tfidf_matrix=tfidf_vectorizer.fit_transform([field1,field2])\n",
    "    cs=cosine_similarity(tfidf_matrix[0],tfidf_matrix[1])\n",
    "    return cs[0][0]\n",
    "\n",
    "def compare_title_description(activity,features):\n",
    "    \"\"\"\n",
    "    Cosine similarity between title and description\n",
    "\n",
    "    Very high values (close to 1) indicate that title and description are redundant\n",
    "    Very low value (close to 0) indicate that title and description have nothing to do with each other\n",
    "    \"\"\"\n",
    "    try:\n",
    "        title=find_text(activity['title'])\n",
    "        description=find_text(activity['description'])\n",
    "        cs=field_similarity(title,description)\n",
    "        features['title_description_similarity']=cs\n",
    "    #KeyError - fields don't exist\n",
    "    #ValueError - fields only contain stopwords\n",
    "    #AttributeError - don't remember\n",
    "    except (KeyError,AttributeError,ValueError):\n",
    "        features['title_description_similarity']=None"
   ]
  },
  {
   "cell_type": "code",
   "execution_count": 13,
   "metadata": {},
   "outputs": [
    {
     "name": "stdout",
     "output_type": "stream",
     "text": [
      "Appending to feature_creation.py\n"
     ]
    }
   ],
   "source": [
    "%%writefile -a feature_creation.py\n",
    "\n",
    "def get_relative_sizes(activity,exist_fields,features):\n",
    "    \"\"\"\n",
    "    Use the serialized storage space for different fields as a proxy for their relative size within a given activity\n",
    "    \"\"\"\n",
    "    sizes={ field:0 for field in exist_fields}\n",
    "    #Included in here is the features themselves, but those will be small relative to everything else\n",
    "    total=sys.getsizeof(pickle.dumps(activity))\n",
    "    for field in sizes:\n",
    "        try:\n",
    "            field_size=sys.getsizeof(pickle.dumps(activity[field]))\n",
    "            sizes[field]=field_size/total\n",
    "        except KeyError:\n",
    "            pass\n",
    "    features[u'total_size']=total\n",
    "    features[u'relative_sizes']=sizes\n"
   ]
  },
  {
   "cell_type": "markdown",
   "metadata": {},
   "source": [
    "### Other features\n",
    "\n",
    "There are certain features, like the IATI organization ID, that we'll want to have easily accessible later on, so we'll pull them out and add them to our feature vector.  Other incomplete feature implementations are included below as well"
   ]
  },
  {
   "cell_type": "code",
   "execution_count": 14,
   "metadata": {},
   "outputs": [
    {
     "name": "stdout",
     "output_type": "stream",
     "text": [
      "Appending to feature_creation.py\n"
     ]
    }
   ],
   "source": [
    "%%writefile -a feature_creation.py\n",
    "\n",
    "def find_reporting_org(field):\n",
    "    \"\"\"\n",
    "    Extract IATI ID of reporting org\n",
    "\n",
    "    If there are more than one dict in a list, extract and concat all text content together\n",
    "\n",
    "    This methodology is NOT perfect, but it gets about 210 distinct orgs in the dataset\n",
    "    We'll need to make it more responsive to the varying IATI versions, but it's close enough\n",
    "    for now.\n",
    "    \"\"\"\n",
    "    output = None\n",
    "    if type(field)==list:\n",
    "        if '@ref' in field[1]:\n",
    "            output=field[1]['@ref']\n",
    "    elif type(field)==dict:\n",
    "        if '@ref' in field:\n",
    "            output=field['@ref']\n",
    "    else:\n",
    "        output=None\n",
    "    return output"
   ]
  },
  {
   "cell_type": "code",
   "execution_count": 15,
   "metadata": {},
   "outputs": [
    {
     "name": "stdout",
     "output_type": "stream",
     "text": [
      "Appending to feature_creation.py\n"
     ]
    }
   ],
   "source": [
    "%%writefile -a feature_creation.py\n",
    "\n",
    "#Testing whether URLS are valid - not currently in pipeline\n",
    "\n",
    "def test_links(list_of_links):\n",
    "    \"\"\"\n",
    "    Find percentage of links in a list that seem to work\n",
    "\n",
    "    The process of checking these can be tedious, and requires a lot of bandwidth,\n",
    "    so it's probably best to implement this in the cloud if we want to scale across all activities\n",
    "    \"\"\"\n",
    "    valid_links=0\n",
    "    for link in activity[list_of_links]:\n",
    "        url=link['@url']\n",
    "        response=requests.get(url)\n",
    "        if response.status_code==200:\n",
    "            valid_links+=1\n",
    "    ratio=valid_links/len(list_of_links)\n",
    "    return ratio\n"
   ]
  },
  {
   "cell_type": "code",
   "execution_count": 16,
   "metadata": {},
   "outputs": [],
   "source": [
    "# Initial implementation of activity date validation - INCOMPLETE\n",
    "from collections import OrderedDict\n",
    "date_dict=OrderedDict({'start-planned':None,'start-actual':None,'end-actual':None,'end-actual':None})\n",
    "dates=activity['activity-date']\n",
    "for date in dates:\n",
    "    try:\n",
    "        date_dict[date['@type']]=date['@iso-date']\n",
    "    except KeyError:\n",
    "        pass"
   ]
  },
  {
   "cell_type": "markdown",
   "metadata": {},
   "source": [
    "### Generate Features\n",
    "\n",
    "Having defined the functions needed to generate each feature, we can combine them to create a master pipeline function that we can run iteratively on the whole dataset. "
   ]
  },
  {
   "cell_type": "code",
   "execution_count": 17,
   "metadata": {},
   "outputs": [
    {
     "name": "stdout",
     "output_type": "stream",
     "text": [
      "Appending to feature_creation.py\n"
     ]
    }
   ],
   "source": [
    "%%writefile -a feature_creation.py\n",
    "\n",
    "#Define master feature pipeline function\n",
    "\n",
    "#lists of fields to check for existence\n",
    "exist_fields=['description','budget','title','result','transaction','document-link','participating-org','activity-date','@default-currency','@xml:lang']\n",
    "benford_fields=['budget','transaction']\n",
    "\n",
    "def generate_features(activity):\n",
    "    \"\"\"Generate all features\"\"\"\n",
    "\n",
    "    #Clear old features/make space if it doesn't already exist\n",
    "    features={\n",
    "        '_id': activity['_id']\n",
    "    }\n",
    "\n",
    "    #Find sizes of stuff\n",
    "    get_relative_sizes(activity,exist_fields, features) #do this early on so it's less affected by the creation of other data\n",
    "\n",
    "    #Look for missing data\n",
    "    for field in exist_fields:\n",
    "        check_missing_fields(activity,field, features)\n",
    "\n",
    "    #Data quality validations\n",
    "    compare_title_description(activity, features)\n",
    "\n",
    "    #Benford's Law\n",
    "    for field in benford_fields:\n",
    "        benfords_law(activity,field, features)\n",
    "\n",
    "    #Extract certain pieces of text to make it easier to parse later\n",
    "    features['organization']=find_reporting_org(activity['reporting-org'])\n",
    "    return features"
   ]
  },
  {
   "cell_type": "code",
   "execution_count": 18,
   "metadata": {},
   "outputs": [],
   "source": [
    "from feature_creation import generate_features"
   ]
  },
  {
   "cell_type": "code",
   "execution_count": 19,
   "metadata": {
    "scrolled": false
   },
   "outputs": [
    {
     "name": "stdout",
     "output_type": "stream",
     "text": [
      "{'_id': ObjectId('5a475d066f8487020fe4c488'),\n",
      " 'benford_compliance_budget': None,\n",
      " 'benford_compliance_transaction': None,\n",
      " 'benford_distribution_budget': None,\n",
      " 'benford_distribution_transaction': None,\n",
      " 'missing_@default-currency': 0,\n",
      " 'missing_@xml:lang': 0,\n",
      " 'missing_activity-date': 0,\n",
      " 'missing_budget': 1,\n",
      " 'missing_description': 0,\n",
      " 'missing_document-link': 0,\n",
      " 'missing_participating-org': 0,\n",
      " 'missing_result': 0,\n",
      " 'missing_title': 0,\n",
      " 'missing_transaction': 1,\n",
      " 'organization': 'XM-DAC-41114',\n",
      " 'relative_sizes': {'@default-currency': 0.0025742906709944596,\n",
      "                    '@xml:lang': 0.002518327830320667,\n",
      "                    'activity-date': 0.01203201074486541,\n",
      "                    'budget': 0,\n",
      "                    'description': 0.011360456656779898,\n",
      "                    'document-link': 0.7812972186468186,\n",
      "                    'participating-org': 0.038222620180200347,\n",
      "                    'result': 0.05848116850411327,\n",
      "                    'title': 0.006435726677486149,\n",
      "                    'transaction': 0},\n",
      " 'title_description_similarity': 0.24235771956792368,\n",
      " 'total_size': 17869}\n"
     ]
    }
   ],
   "source": [
    "#Test feature generation on one record\n",
    "features=generate_features(activity)\n",
    "p.pprint(features)"
   ]
  },
  {
   "cell_type": "code",
   "execution_count": 20,
   "metadata": {},
   "outputs": [
    {
     "name": "stdout",
     "output_type": "stream",
     "text": [
      "2017-12-31 20:57:18.307344 Started processing\n",
      "2017-12-31 20:57:30.159424 Processed 25000 of 764159\n",
      "2017-12-31 20:57:42.124127 Processed 50000 of 764159\n",
      "2017-12-31 20:57:55.413257 Processed 75000 of 764159\n",
      "2017-12-31 20:58:05.719675 Processed 100000 of 764159\n",
      "2017-12-31 20:58:18.005187 Processed 125000 of 764159\n",
      "2017-12-31 20:58:29.841263 Processed 150000 of 764159\n",
      "2017-12-31 20:58:40.415187 Processed 175000 of 764159\n",
      "2017-12-31 20:58:51.978640 Processed 200000 of 764159\n",
      "2017-12-31 20:59:05.232527 Processed 225000 of 764159\n",
      "2017-12-31 20:59:16.283863 Processed 250000 of 764159\n",
      "2017-12-31 20:59:26.932167 Processed 275000 of 764159\n",
      "2017-12-31 20:59:40.795594 Processed 300000 of 764159\n",
      "2017-12-31 20:59:51.690017 Processed 325000 of 764159\n",
      "2017-12-31 21:00:02.105478 Processed 350000 of 764159\n",
      "2017-12-31 21:00:14.123345 Processed 375000 of 764159\n",
      "2017-12-31 21:00:25.766887 Processed 400000 of 764159\n",
      "2017-12-31 21:00:38.807642 Processed 425000 of 764159\n",
      "2017-12-31 21:00:50.504149 Processed 450000 of 764159\n",
      "2017-12-31 21:01:04.643719 Processed 475000 of 764159\n",
      "2017-12-31 21:01:17.123347 Processed 500000 of 764159\n",
      "2017-12-31 21:01:27.356382 Processed 525000 of 764159\n",
      "2017-12-31 21:01:37.873464 Processed 550000 of 764159\n",
      "2017-12-31 21:01:50.124681 Processed 575000 of 764159\n",
      "2017-12-31 21:02:01.923514 Processed 600000 of 764159\n",
      "2017-12-31 21:02:14.323354 Processed 625000 of 764159\n",
      "2017-12-31 21:02:25.217727 Processed 650000 of 764159\n",
      "2017-12-31 21:02:36.019070 Processed 675000 of 764159\n",
      "2017-12-31 21:02:48.032818 Processed 700000 of 764159\n",
      "2017-12-31 21:03:01.380680 Processed 725000 of 764159\n",
      "2017-12-31 21:03:13.822983 Processed 750000 of 764159\n",
      "2017-12-31 21:03:20.963755 Finished processing\n"
     ]
    }
   ],
   "source": [
    "#GENERATE ALL FEATURES for all activities!\n",
    "db.drop_collection('quality')\n",
    "activities_count=activities.count()\n",
    "print(datetime.now(), 'Started processing')\n",
    "\n",
    "qual_recs=[]\n",
    "num_finished = 0\n",
    "\n",
    "for qual_rec in pool.imap_unordered(generate_features, activities.find()):\n",
    "    num_finished += 1\n",
    "    qual_recs.append(qual_rec)\n",
    "\n",
    "    if num_finished % 25000 == 0:\n",
    "        print(datetime.now(), 'Processed', num_finished, 'of', activities_count)\n",
    "        db.quality.insert_many(qual_recs)\n",
    "        qual_recs=[]\n",
    "\n",
    "if len(qual_recs) > 0:\n",
    "    db.quality.insert_many(qual_recs)\n",
    "    qual_recs = []\n",
    "\n",
    "print(datetime.now(), 'Finished processing')"
   ]
  },
  {
   "cell_type": "code",
   "execution_count": 21,
   "metadata": {},
   "outputs": [
    {
     "data": {
      "text/plain": [
       "571058"
      ]
     },
     "execution_count": 21,
     "metadata": {},
     "output_type": "execute_result"
    }
   ],
   "source": [
    "#Sanity check - how many results have non-null results for the title-description similarity\n",
    "db.quality.find({ 'title_description_similarity' : {'$ne' : None} }).count()"
   ]
  },
  {
   "cell_type": "code",
   "execution_count": 22,
   "metadata": {},
   "outputs": [
    {
     "data": {
      "text/plain": [
       "'organization_1'"
      ]
     },
     "execution_count": 22,
     "metadata": {},
     "output_type": "execute_result"
    }
   ],
   "source": [
    "db.quality.create_index('organization')"
   ]
  },
  {
   "cell_type": "markdown",
   "metadata": {},
   "source": [
    "### Exploration of activity-level results"
   ]
  },
  {
   "cell_type": "code",
   "execution_count": 23,
   "metadata": {},
   "outputs": [],
   "source": [
    "from feature_creation import exist_fields, benford_fields"
   ]
  },
  {
   "cell_type": "code",
   "execution_count": 24,
   "metadata": {},
   "outputs": [
    {
     "name": "stdout",
     "output_type": "stream",
     "text": [
      "MISSING DATA\n",
      "{'missing_@default-currency': 58679,\n",
      " 'missing_@xml:lang': 59805,\n",
      " 'missing_activity-date': 8661,\n",
      " 'missing_budget': 453185,\n",
      " 'missing_description': 43550,\n",
      " 'missing_document-link': 604302,\n",
      " 'missing_participating-org': 1627,\n",
      " 'missing_result': 711899,\n",
      " 'missing_title': 2771,\n",
      " 'missing_transaction': 34192}\n",
      "\n",
      "RELATIVE SIZES OF KEY FIELDS\n",
      "{'average_@default-currency': 0.008136710128163815,\n",
      " 'average_@xml:lang': 0.008078909761280085,\n",
      " 'average_activity-date': 0.042858221831122534,\n",
      " 'average_budget': 0.0308277609843497,\n",
      " 'average_description': 0.06799742091908322,\n",
      " 'average_document-link': 0.02518787885247538,\n",
      " 'average_participating-org': 0.0800301649129149,\n",
      " 'average_result': 0.01177915102503437,\n",
      " 'average_title': 0.024315709276819773,\n",
      " 'average_transaction': 0.30208155163699385}\n",
      "\n",
      "BENFORD COMPLIANCE (AMONG ACTIVITIES WITH DATA)\n",
      "{'benford_budget': 74449, 'benford_transaction': 277481}\n",
      "\n",
      "TOTAL ACTIVITIES\n",
      "764159\n"
     ]
    }
   ],
   "source": [
    "#EDA to figure out how much data is missing\n",
    "grp={'_id': None}\n",
    "for field in exist_fields:\n",
    "    grp['missing_'+field]={'$sum': '$missing_'+field}\n",
    "    grp['average_'+field]={'$avg': '$relative_sizes.'+field}\n",
    "for field in benford_fields:\n",
    "    grp['benford_'+field]={'$sum': '$benford_compliance_'+field}\n",
    "grp['total']={'$sum': 1}\n",
    "\n",
    "# Run the agg pipeline\n",
    "results=next(db.quality.aggregate([{'$group': grp}]))\n",
    "\n",
    "# Print the results\n",
    "print('MISSING DATA')\n",
    "p.pprint({k:v for k,v in results.items() if k.startswith('missing_')})\n",
    "print(\"\")\n",
    "print(\"RELATIVE SIZES OF KEY FIELDS\")\n",
    "p.pprint({k:v for k,v in results.items() if k.startswith('average_')})\n",
    "print(\"\")\n",
    "print(\"BENFORD COMPLIANCE (AMONG ACTIVITIES WITH DATA)\")\n",
    "p.pprint({k:v for k,v in results.items() if k.startswith('benford_')})\n",
    "print(\"\")\n",
    "print(\"TOTAL ACTIVITIES\")\n",
    "print(results['total'])"
   ]
  },
  {
   "cell_type": "code",
   "execution_count": 25,
   "metadata": {},
   "outputs": [
    {
     "data": {
      "text/plain": [
       "[{'_id': '', 'count': 54},\n",
       " {'_id': 'es', 'count': 1912},\n",
       " {'_id': 'fr', 'count': 1862},\n",
       " {'_id': 'FR', 'count': 14702},\n",
       " {'_id': None, 'count': 59751},\n",
       " {'_id': 'en', 'count': 671725},\n",
       " {'_id': 'EN', 'count': 943},\n",
       " {'_id': 'nl', 'count': 7103},\n",
       " {'_id': 'NL', 'count': 1},\n",
       " {'_id': 'pt', 'count': 174},\n",
       " {'_id': 'de', 'count': 5932}]"
      ]
     },
     "execution_count": 25,
     "metadata": {},
     "output_type": "execute_result"
    }
   ],
   "source": [
    "#Number of records by language\n",
    "pipeline=[{\"$group\": {\"_id\": \"$@xml:lang\", \"count\": {\"$sum\": 1}}}]\n",
    "list(activities.aggregate(pipeline))"
   ]
  },
  {
   "cell_type": "code",
   "execution_count": 26,
   "metadata": {},
   "outputs": [
    {
     "data": {
      "text/plain": [
       "403"
      ]
     },
     "execution_count": 26,
     "metadata": {},
     "output_type": "execute_result"
    }
   ],
   "source": [
    "#Number of unique organizations\n",
    "len(list(db.quality.aggregate([{\"$group\": {\"_id\": \"$organization\", \"count\": {\"$sum\": 1}}}])))"
   ]
  },
  {
   "cell_type": "code",
   "execution_count": 27,
   "metadata": {},
   "outputs": [
    {
     "data": {
      "text/plain": [
       "[None,\n",
       " '',\n",
       " '21-PK-WWF',\n",
       " '21020',\n",
       " '21032',\n",
       " '21033',\n",
       " '21033-1.0744',\n",
       " '21033-1.0792',\n",
       " '21033-1.0931-2',\n",
       " '21033-1.0931-3',\n",
       " '21033-1.0941',\n",
       " '21033-1.1053',\n",
       " '21033-1.2001',\n",
       " '21033-1.2008',\n",
       " '41111',\n",
       " '41119',\n",
       " '41120',\n",
       " '41122',\n",
       " '41AAA',\n",
       " '44000',\n",
       " '46002',\n",
       " '46004',\n",
       " '47045',\n",
       " '47122',\n",
       " '47134',\n",
       " '47135',\n",
       " 'AF-MOE-1212',\n",
       " 'AU-5',\n",
       " 'BD-NAB-1301',\n",
       " 'BE-BCE_KBO-0264814354',\n",
       " 'BE-GTCF-630789842',\n",
       " 'BJ-IFU-32000700033415',\n",
       " 'CA-3',\n",
       " 'CA-CRA-89980-1815-RR0001',\n",
       " 'CA-CRA_ARC-119304848',\n",
       " 'CH-4',\n",
       " 'CH-FDJP-106064950',\n",
       " 'DAC-1601',\n",
       " 'DE-1',\n",
       " 'DE-AG-VR7795',\n",
       " 'DK-1',\n",
       " 'DK-CVR-88136411',\n",
       " 'ES-DIR3-E04585801',\n",
       " 'FI-3',\n",
       " 'FI-PRO-1498487-2',\n",
       " 'GB-10',\n",
       " 'GB-3',\n",
       " 'GB-6',\n",
       " 'GB-7',\n",
       " 'GB-9',\n",
       " 'GB-CC-1098893',\n",
       " 'GB-CHC-000391',\n",
       " 'GB-CHC-1000717',\n",
       " 'GB-CHC-1001349',\n",
       " 'GB-CHC-1001698',\n",
       " 'GB-CHC-1017255',\n",
       " 'GB-CHC-1029161',\n",
       " 'GB-CHC-1038785',\n",
       " 'GB-CHC-1038860',\n",
       " 'GB-CHC-1043843',\n",
       " 'GB-CHC-1045348',\n",
       " 'GB-CHC-1046001',\n",
       " 'GB-CHC-1047501',\n",
       " 'GB-CHC-1050327',\n",
       " 'GB-CHC-1053389',\n",
       " 'GB-CHC-1055436',\n",
       " 'GB-CHC-1059996',\n",
       " 'GB-CHC-1061352',\n",
       " 'GB-CHC-1065705',\n",
       " 'GB-CHC-1065972',\n",
       " 'GB-CHC-1067406',\n",
       " 'GB-CHC-1068839',\n",
       " 'GB-CHC-1069208',\n",
       " 'GB-CHC-1070684',\n",
       " 'GB-CHC-1071659',\n",
       " 'GB-CHC-1071660',\n",
       " 'GB-CHC-1071886',\n",
       " 'GB-CHC-1074937',\n",
       " 'GB-CHC-1075920',\n",
       " 'GB-CHC-1076497',\n",
       " 'GB-CHC-1076822',\n",
       " 'GB-CHC-1077889',\n",
       " 'GB-CHC-1078768',\n",
       " 'GB-CHC-1078803',\n",
       " 'GB-CHC-1079358',\n",
       " 'GB-CHC-1081247',\n",
       " 'GB-CHC-1084729',\n",
       " 'GB-CHC-1085096',\n",
       " 'GB-CHC-1086159',\n",
       " 'GB-CHC-1087997',\n",
       " 'GB-CHC-1089879',\n",
       " 'GB-CHC-1090745',\n",
       " 'GB-CHC-1092236',\n",
       " 'GB-CHC-1093861',\n",
       " 'GB-CHC-1094272',\n",
       " 'GB-CHC-1096908',\n",
       " 'GB-CHC-1098106',\n",
       " 'GB-CHC-1098752',\n",
       " 'GB-CHC-1099776',\n",
       " 'GB-CHC-1101217',\n",
       " 'GB-CHC-1104458',\n",
       " 'GB-CHC-1105489',\n",
       " 'GB-CHC-1107403',\n",
       " 'GB-CHC-1109789',\n",
       " 'GB-CHC-1110434',\n",
       " 'GB-CHC-1112734',\n",
       " 'GB-CHC-1114944',\n",
       " 'GB-CHC-1115109',\n",
       " 'GB-CHC-1120413',\n",
       " 'GB-CHC-1120932',\n",
       " 'GB-CHC-1122299',\n",
       " 'GB-CHC-1122924',\n",
       " 'GB-CHC-1125948',\n",
       " 'GB-CHC-1126550',\n",
       " 'GB-CHC-1126727',\n",
       " 'GB-CHC-1127488',\n",
       " 'GB-CHC-1128267-8',\n",
       " 'GB-CHC-1128536',\n",
       " 'GB-CHC-1133342',\n",
       " 'GB-CHC-1138287',\n",
       " 'GB-CHC-1140123',\n",
       " 'GB-CHC-1141028',\n",
       " 'GB-CHC-1142516',\n",
       " 'GB-CHC-1145119',\n",
       " 'GB-CHC-1150214',\n",
       " 'GB-CHC-1151615',\n",
       " 'GB-CHC-1154085',\n",
       " 'GB-CHC-1157009',\n",
       " 'GB-CHC-1158206',\n",
       " 'GB-CHC-1837621',\n",
       " 'GB-CHC-202615',\n",
       " 'GB-CHC-202918',\n",
       " 'GB-CHC-207544',\n",
       " 'GB-CHC-208724',\n",
       " 'GB-CHC-213251',\n",
       " 'GB-CHC-218186',\n",
       " 'GB-CHC-220949',\n",
       " 'GB-CHC-228248',\n",
       " 'GB-CHC-250456',\n",
       " 'GB-CHC-254781',\n",
       " 'GB-CHC-261488',\n",
       " 'GB-CHC-265464',\n",
       " 'GB-CHC-272465',\n",
       " 'GB-CHC-274467',\n",
       " 'GB-CHC-27446721',\n",
       " 'GB-CHC-281681',\n",
       " 'GB-CHC-283302',\n",
       " 'GB-CHC-285776',\n",
       " 'GB-CHC-285908',\n",
       " 'GB-CHC-287287',\n",
       " 'GB-CHC-288701',\n",
       " 'GB-CHC-289036',\n",
       " 'GB-CHC-290836',\n",
       " 'GB-CHC-291167',\n",
       " 'GB-CHC-291333',\n",
       " 'GB-CHC-291691',\n",
       " 'GB-CHC-291824',\n",
       " 'GB-CHC-293734',\n",
       " 'GB-CHC-294329',\n",
       " 'GB-CHC-298316',\n",
       " 'GB-CHC-299717',\n",
       " 'GB-CHC-313139',\n",
       " 'GB-CHC-313757',\n",
       " 'GB-CHC-326859',\n",
       " 'GB-CHC-327421',\n",
       " 'GB-CHC-327461',\n",
       " 'GB-CHC-327519',\n",
       " 'GB-CHC-328158',\n",
       " 'GB-CHC-328206',\n",
       " 'GB-CHC-328273',\n",
       " 'GB-CHC-328434',\n",
       " 'GB-COH-00637978',\n",
       " 'GB-COH-00986729',\n",
       " 'GB-COH-01245534',\n",
       " 'GB-COH-01926828',\n",
       " 'GB-COH-02394229',\n",
       " 'GB-COH-0277068',\n",
       " 'GB-COH-03788027',\n",
       " 'GB-COH-03877777',\n",
       " 'GB-COH-04154075',\n",
       " 'GB-COH-04276635',\n",
       " 'GB-COH-04589451',\n",
       " 'GB-COH-05543952',\n",
       " 'GB-COH-06368740',\n",
       " 'GB-COH-07629751',\n",
       " 'GB-COH-07669775',\n",
       " 'GB-COH-07676886',\n",
       " 'GB-COH-1081247    ',\n",
       " 'GB-COH-1102208',\n",
       " 'GB-COH-1364201',\n",
       " 'GB-COH-1574821',\n",
       " 'GB-COH-1762840',\n",
       " 'GB-COH-1858644',\n",
       " 'GB-COH-2082273',\n",
       " 'GB-COH-2100867',\n",
       " 'GB-COH-213890',\n",
       " 'GB-COH-2153193',\n",
       " 'GB-COH-21531930',\n",
       " 'GB-COH-2732176',\n",
       " 'GB-COH-294860',\n",
       " 'GB-COH-3031674',\n",
       " 'GB-COH-4016725',\n",
       " 'GB-COH-4075590',\n",
       " 'GB-COH-4887855',\n",
       " 'GB-COH-4905100',\n",
       " 'GB-COH-5419428',\n",
       " 'GB-COH-7557881',\n",
       " 'GB-COH-871954',\n",
       " 'GB-COH-8835431',\n",
       " 'GB-COH-GB-COH-01846493',\n",
       " 'GB-COH-NI21482',\n",
       " 'GB-COH-NI630024',\n",
       " 'GB-COH-OC301540',\n",
       " 'GB-COH-RC000346',\n",
       " 'GB-GOV-1',\n",
       " 'GB-GOV-21',\n",
       " 'GB-GOV-3',\n",
       " 'GB-GOV-8',\n",
       " 'GB-SC-035314',\n",
       " 'GB-SC-037597',\n",
       " 'GB-SC-044007',\n",
       " 'GB-SC-SC012302',\n",
       " 'GB-SC-SC030289',\n",
       " 'GB-SC-SC032327',\n",
       " 'GB-SC-SC037959',\n",
       " 'GH-DSW-258',\n",
       " 'IE-CHY-6663',\n",
       " 'IM-CR-024714B',\n",
       " 'IN-AR-775',\n",
       " 'KE-KROS-270901',\n",
       " 'KE-NCB-93175',\n",
       " 'KE-NCB-9381',\n",
       " 'KE-NCB-OP/218/051/915/65',\n",
       " 'KE-NGC-3372',\n",
       " 'KE-NGC-9381',\n",
       " 'KE-NGCB-149',\n",
       " 'KE-RCO-CPR-2009-5689',\n",
       " 'KR-GOV-021',\n",
       " 'LR-MPEA-NGO-AC-0298',\n",
       " 'MW-CNM-21',\n",
       " 'MW-NBM-00139',\n",
       " 'MZ-MOJ-F30G1No89',\n",
       " 'NG-CAC-495140',\n",
       " 'NG-CAC-5938',\n",
       " 'NI-MIGOB-3602',\n",
       " 'NL-CCI-20081098',\n",
       " 'NL-KVK-27102631',\n",
       " 'NL-KVK-27108436',\n",
       " 'NL-KVK-27251823',\n",
       " 'NL-KVK-27264198',\n",
       " 'NL-KVK-27284008',\n",
       " 'NL-KVK-27290536',\n",
       " 'NL-KVK-27302841',\n",
       " 'NL-KVK-27327087',\n",
       " 'NL-KVK-27378529',\n",
       " 'NL-KVK-30204842',\n",
       " 'NL-KVK-32037590',\n",
       " 'NL-KVK-32108345',\n",
       " 'NL-KVK-34141098',\n",
       " 'NL-KVK-34159275',\n",
       " 'NL-KVK-34200988',\n",
       " 'NL-KVK-34214586',\n",
       " 'NL-KVK-34219433',\n",
       " 'NL-KVK-34308169',\n",
       " 'NL-KVK-40535338',\n",
       " 'NL-KVK-40594571',\n",
       " 'NL-KVK-41022454',\n",
       " 'NL-KVK-41048542',\n",
       " 'NL-KVK-41118168',\n",
       " 'NL-KVK-41149287',\n",
       " 'NL-KVK-41149486',\n",
       " 'NL-KVK-41149831',\n",
       " 'NL-KVK-41150939',\n",
       " 'NL-KVK-41158230',\n",
       " 'NL-KVK-41160054',\n",
       " 'NL-KVK-41160229',\n",
       " 'NL-KVK-41167934',\n",
       " 'NL-KVK-41169161',\n",
       " 'NL-KVK-41177385',\n",
       " 'NL-KVK-41177385-2015083-NIJR2',\n",
       " 'NL-KVK-41177385-2016013-CARJR2',\n",
       " 'NL-KVK-41177385-2016021-NJR2',\n",
       " 'NL-KVK-41177385-2016046-EJR2',\n",
       " 'NL-KVK-41177385-2016054-SSJR2',\n",
       " 'NL-KVK-41177385-2016060-SJR2',\n",
       " 'NL-KVK-41177385-2016061-SSPJR',\n",
       " 'NL-KVK-41177385-2017013-IRQJR3',\n",
       " 'NL-KVK-41177385-2017021-NJR3',\n",
       " 'NL-KVK-41177385-2017054-SSJR3',\n",
       " 'NL-KVK-41177385-2017060-SJR3',\n",
       " 'NL-KVK-41177385-2017061-SSPJR2',\n",
       " 'NL-KVK-41177385-2017065-CARJR3',\n",
       " 'NL-KVK-41177588',\n",
       " 'NL-KVK-41180885',\n",
       " 'NL-KVK-41197411',\n",
       " 'NL-KVK-41198677',\n",
       " 'NL-KVK-41198890',\n",
       " 'NL-KVK-41201198',\n",
       " 'NL-KVK-41202535',\n",
       " 'NL-KVK-41207989',\n",
       " 'NL-KVK-41210098',\n",
       " 'NL-KVK-41210820',\n",
       " 'NL-KVK-41223308',\n",
       " 'NL-KVK-41236410',\n",
       " 'NL-KVK-51018586',\n",
       " 'NL-KVK-51756811',\n",
       " 'NL-KVK-52957535',\n",
       " 'NL-KVK-53744993',\n",
       " 'NL-KVK-56484038',\n",
       " 'NL-KVK-67143555',\n",
       " 'NL-KVK-855689493',\n",
       " 'NL-KvK-30214009',\n",
       " 'NO-BRC-971277882',\n",
       " 'NO-BRC-977538319',\n",
       " 'NP-CRO-45995/063/064',\n",
       " 'NP-DAO-27-127/062/063',\n",
       " 'NP-DAO-27-689/063/064',\n",
       " 'NZ-1',\n",
       " 'PK-MSW-633-1965',\n",
       " 'PK-VSWA-511-2007',\n",
       " 'SE-0',\n",
       " 'SL-NRA-1001562-8 ',\n",
       " 'TN-TIN-102123727',\n",
       " 'TZ-BRE-63966',\n",
       " 'TZ-BRLA-36057',\n",
       " 'TZ-BRLA-36057-ACT2',\n",
       " 'UG-NGB-63360',\n",
       " 'US-18',\n",
       " 'US-501c3-522318905',\n",
       " 'US-AGO-941191246',\n",
       " 'US-EIN-13-2702768',\n",
       " 'US-EIN-13-3287064',\n",
       " 'US-EIN-13-3287064NAM',\n",
       " 'US-EIN-20-1173866',\n",
       " 'US-EIN-46-3668128',\n",
       " 'US-EIN-47-4128047',\n",
       " 'US-EIN-58-2368165',\n",
       " 'US-EIN-84-1166148',\n",
       " 'US-EIN-941191246',\n",
       " 'US-EIN-941655673',\n",
       " 'US-EIN-943287156',\n",
       " 'US-EIN-US-IRS-95-3202116',\n",
       " 'US-GOV-1',\n",
       " 'US-GOV-10',\n",
       " 'US-GOV-11',\n",
       " 'US-GOV-13',\n",
       " 'US-GOV-14',\n",
       " 'US-GOV-15',\n",
       " 'US-GOV-17',\n",
       " 'US-GOV-19',\n",
       " 'US-GOV-2',\n",
       " 'US-GOV-20',\n",
       " 'US-GOV-21',\n",
       " 'US-GOV-22',\n",
       " 'US-GOV-26',\n",
       " 'US-GOV-6',\n",
       " 'US-GOV-7',\n",
       " 'US-GOV-9',\n",
       " 'US-IRS-13-5661832',\n",
       " 'US-IRS-95-3202116',\n",
       " 'US-USAGOV',\n",
       " 'XI-IATI-035026724',\n",
       " 'XI-IATI-1001',\n",
       " 'XI-IATI-1002',\n",
       " 'XI-IATI-21032',\n",
       " 'XI-IATI-5914-1107',\n",
       " 'XI-IATI-CABI',\n",
       " 'XI-IATI-CHFDJPCHE105834763',\n",
       " 'XI-IATI-EBRD',\n",
       " 'XI-IATI-EC_DEVCO',\n",
       " 'XI-IATI-EC_ECHO',\n",
       " 'XI-IATI-EC_FPI',\n",
       " 'XI-IATI-EC_NEAR',\n",
       " 'XI-IATI-IN-MCA-U74140DL1998PLC097579',\n",
       " 'XI-IATI-VSWA-511-2007',\n",
       " 'XI-IATI-ec0fa982-ec2f-4462-99ba-a7a7d2cb9395',\n",
       " 'XM-DAC-2-10',\n",
       " 'XM-DAC-21033',\n",
       " 'XM-DAC-236',\n",
       " 'XM-DAC-301-2',\n",
       " 'XM-DAC-41108',\n",
       " 'XM-DAC-41110',\n",
       " 'XM-DAC-411124',\n",
       " 'XM-DAC-41114',\n",
       " 'XM-DAC-41140',\n",
       " 'XM-DAC-41301',\n",
       " 'XM-DAC-41304',\n",
       " 'XM-DAC-7',\n",
       " 'XM-DAC-701-8',\n",
       " 'XM-DAC-903',\n",
       " 'XM-DAC-918-3',\n",
       " 'XM-DAC-928',\n",
       " 'XM-OCHA-CERF',\n",
       " 'XM-OCHA-FTS',\n",
       " 'ZA-CIPC-2001/005850/08',\n",
       " 'ZA-NPO-061-870',\n",
       " 'ZA-ROC-1999/05072/08',\n",
       " 'ZW-PVO-15/2003',\n",
       " 'ZW-PVO-26/79',\n",
       " 'ZW-PVO-WO1789',\n",
       " 'ciks',\n",
       " 'dm',\n",
       " 'sacu']"
      ]
     },
     "execution_count": 27,
     "metadata": {},
     "output_type": "execute_result"
    }
   ],
   "source": [
    "db.quality.distinct('organization')"
   ]
  },
  {
   "cell_type": "code",
   "execution_count": 28,
   "metadata": {},
   "outputs": [
    {
     "name": "stdout",
     "output_type": "stream",
     "text": [
      "{'@ref': 'XM-DAC-41114', '@type': '40', 'narrative': 'United Nations Development Programme'}\n"
     ]
    }
   ],
   "source": [
    "#Use this to lookup how a particular org shows up\n",
    "test_name='XM-DAC-41114'\n",
    "test_q=db.quality.find_one({'organization':test_name})\n",
    "\n",
    "if test_q is not None:\n",
    "    test=activities.find_one({'_id': test_q['_id']})\n",
    "    print(test['reporting-org'])\n",
    "else:\n",
    "    print('Failed to find', test_name)"
   ]
  },
  {
   "cell_type": "markdown",
   "metadata": {},
   "source": [
    "## Aggregating activity features to the organization level\n",
    "\n",
    "Now that we've generated features for each activity, we need to aggregate them together to display them to the end user.  We'll focus on aggregating results at the organization level, but leave the option open to recalculate the aggregation for any of the other fields (country, theme, etc.)"
   ]
  },
  {
   "cell_type": "code",
   "execution_count": 29,
   "metadata": {},
   "outputs": [],
   "source": [
    "#Load pickles into memory for quickly lookups later\n",
    "with open(\"lookup_by_ref.pickle\",'rb') as f:\n",
    "    lookup=pickle.load(f)\n",
    "\n",
    "with open(\"lookup_by_name.pickle\",'rb') as f:\n",
    "    lookup_name=pickle.load(f)"
   ]
  },
  {
   "cell_type": "code",
   "execution_count": 30,
   "metadata": {},
   "outputs": [],
   "source": [
    "def get_benford_distribution(orgid, field):\n",
    "    \"\"\"Calculate Benford distribution for an organization across all its activity records\"\"\"\n",
    "    qdata=db.quality.find({'organization':orgid})\n",
    "    count=0\n",
    "    running_distribution=[0,0,0,0,0,0,0,0,0,0]\n",
    "    for qrec in qdata:\n",
    "        dist_field_name = 'benford_distribution_'+field\n",
    "       \n",
    "        if dist_field_name not in qrec:\n",
    "            continue\n",
    "\n",
    "        dist_field = qrec[dist_field_name]\n",
    "       \n",
    "        if type(dist_field) != list:\n",
    "            continue\n",
    "\n",
    "        try:\n",
    "            running_distribution=np.add(running_distribution, dist_field)\n",
    "            count+=1\n",
    "        except TypeError:\n",
    "            #print i['features']['benford_distribution_'+field]\n",
    "            continue\n",
    "    if count>0:\n",
    "        final_distribution=[100*i/count for i in running_distribution]\n",
    "    else:\n",
    "        final_distribution=running_distribution\n",
    "    final_dict={str(i):final_distribution[i] for i in range(0,10)}\n",
    "    return final_dict"
   ]
  },
  {
   "cell_type": "code",
   "execution_count": 31,
   "metadata": {},
   "outputs": [],
   "source": [
    "#Extract aggregated results for a given grouping (we'll start at the org level for now)\n",
    "\n",
    "exist_fields=['description','budget','title','result','transaction','document-link','participating-org','activity-date','@default-currency','@xml:lang']\n",
    "size_exclude_fields=['activity-date','@default-currency','@xml:lang']\n",
    "benford_fields=['budget','transaction']\n",
    "\n",
    "def query_orgs(group_field, group_val=None):\n",
    "    \"\"\"\n",
    "    Collect aggregated results across our feature space for a given field.\n",
    "    Note that most of these aggregations are simple averages across all activities\n",
    "    for this prototype.\n",
    "\n",
    "    This implementation isn't particularly fast because it makes repeated calls to the mongo collection.\n",
    "    There are certainly opportunities for optimization by gathering a subset of results\n",
    "    into memory and aggregating from there.\n",
    "\n",
    "    \"\"\"\n",
    "    pipeline=[]\n",
    "    # Do we have a single org filter?\n",
    "    if group_val:\n",
    "        pipeline.append({\"$match\": {group_field: group_val}}) #Filter for a given subset of records\n",
    "    # get the fields, grouping by org ID (or whatever is passed in)\n",
    "    pipeline.append({'$group': {'_id': '$'+group_field,\n",
    "                                    #CONTACT INFO\n",
    "                                    'contact-info': {'$first': '$contact-info'},\n",
    "                                    #TOTAL\n",
    "                                    'total': {'$sum': 1},\n",
    "                                    #SIMILARITY\n",
    "                                    'title_description_similarity': {'$avg': '$title_description_similarity'},\n",
    "                                    #DOC SIZE\n",
    "                                    'avg': {'$avg': '$total_size'},\n",
    "                                    'min': {'$min': '$total_size'},\n",
    "                                    'max': {'$max': '$total_size'},\n",
    "                                    #Doesn't exist in Mongo 3.0.4 (which is what I'm using)\n",
    "                                    #'sd': {'$stdDevPop': '$total_size'},\n",
    "                                   }})\n",
    "    #MISSING DATA\n",
    "    for field in exist_fields:\n",
    "        pipeline[-1]['$group']['missing_'+field]={'$avg': '$missing_'+field}\n",
    "\n",
    "        #FIELD SIZE DATA\n",
    "        if field not in size_exclude_fields:\n",
    "            pipeline[-1]['$group']['size_'+field]={'$avg': '$relative_sizes.'+field}\n",
    "\n",
    "    #BENFORD COMPLIANCE (AMONG ACTIVITIES WITH DATA)\n",
    "    for field in benford_fields:\n",
    "        pipeline[-1]['$group']['benford_'+field]={'$avg': '$benford_compliance_'+field}\n",
    "\n",
    "    # Run the pipeline and yield results as they are available\n",
    "    for results in db.quality.aggregate(pipeline):\n",
    "        orgid=results['_id']\n",
    "        if not orgid: # discard blank and null\n",
    "            continue\n",
    "        # figure out the name\n",
    "        orgnames=lookup[orgid]\n",
    "        if orgnames and isinstance(orgnames, set):\n",
    "            orgname=next(iter(orgnames))\n",
    "        elif orgnames and isinstance(orgnames, six.string_types):\n",
    "            orgname=orgnames\n",
    "        else:\n",
    "            continue\n",
    "        # Collect Missing Data\n",
    "        exist_results={}\n",
    "        size_results={}\n",
    "        for field in exist_fields:\n",
    "            exist_results[field]=results['missing_'+field]\n",
    "            #FIELD SIZE DATA\n",
    "            if field not in size_exclude_fields:\n",
    "                size_results[field]=results['size_'+field]\n",
    "        # Collect Benford Fields\n",
    "        benford_results={}\n",
    "        for field in benford_fields:\n",
    "            benford_results[field]=results['benford_'+field]\n",
    "            benford_results[field+'_distribution']=get_benford_distribution(orgid,field)\n",
    "\n",
    "        #Output result as JSON for easy parsing/storing in Mongo\n",
    "        yield {'organization_id': orgid,\n",
    "                'organization_name': orgname,\n",
    "                'contact_info': results['contact-info'] or {},\n",
    "                'doc_size': {\n",
    "                    'avg': results['avg'],\n",
    "                    'min': results['min'],\n",
    "                    'max': results['max']\n",
    "                },\n",
    "                'records': results['total'],\n",
    "                'missing_data':exist_results,\n",
    "                'title_description_similarity':results['title_description_similarity'],\n",
    "                'relative_size':size_results,\n",
    "                'benford_compliance':benford_results\n",
    "               }"
   ]
  },
  {
   "cell_type": "code",
   "execution_count": 32,
   "metadata": {},
   "outputs": [
    {
     "data": {
      "text/plain": [
       "403"
      ]
     },
     "execution_count": 32,
     "metadata": {},
     "output_type": "execute_result"
    }
   ],
   "source": [
    "len(list(db.quality.aggregate([{'$group': {'_id': '$organization'}}])))"
   ]
  },
  {
   "cell_type": "code",
   "execution_count": 33,
   "metadata": {},
   "outputs": [
    {
     "name": "stdout",
     "output_type": "stream",
     "text": [
      "{'benford_compliance': {'budget': 0.2,\n",
      "                        'budget_distribution': {'0': 0.0,\n",
      "                                                '1': 16.666,\n",
      "                                                '2': 10.0,\n",
      "                                                '3': 10.0,\n",
      "                                                '4': 10.0,\n",
      "                                                '5': 10.0,\n",
      "                                                '6': 20.0,\n",
      "                                                '7': 10.0,\n",
      "                                                '8': 13.334,\n",
      "                                                '9': 0.0},\n",
      "                        'transaction': 0.3333333333333333,\n",
      "                        'transaction_distribution': {'0': 0.0,\n",
      "                                                     '1': 25.505000000000006,\n",
      "                                                     '2': 31.183333333333334,\n",
      "                                                     '3': 7.2516666666666678,\n",
      "                                                     '4': 5.3900000000000006,\n",
      "                                                     '5': 5.5916666666666677,\n",
      "                                                     '6': 8.0583333333333336,\n",
      "                                                     '7': 11.206666666666665,\n",
      "                                                     '8': 3.2099999999999995,\n",
      "                                                     '9': 2.605}},\n",
      " 'contact_info': {},\n",
      " 'doc_size': {'avg': 42872.833333333336, 'max': 145432, 'min': 3043},\n",
      " 'missing_data': {'@default-currency': 0.0,\n",
      "                  '@xml:lang': 0.0,\n",
      "                  'activity-date': 0.0,\n",
      "                  'budget': 0.16666666666666666,\n",
      "                  'description': 0.0,\n",
      "                  'document-link': 0.8333333333333334,\n",
      "                  'participating-org': 0.0,\n",
      "                  'result': 1.0,\n",
      "                  'title': 0.0,\n",
      "                  'transaction': 0.0},\n",
      " 'organization_id': 'GB-COH-04154075',\n",
      " 'organization_name': 'PRI',\n",
      " 'records': 6,\n",
      " 'relative_size': {'budget': 0.0143408157007064,\n",
      "                   'description': 0.031411824214828125,\n",
      "                   'document-link': 0.0010944404716064324,\n",
      "                   'participating-org': 0.04930798090209568,\n",
      "                   'result': 0.0,\n",
      "                   'title': 0.012231169440279854,\n",
      "                   'transaction': 0.7858344340661164},\n",
      " 'title_description_similarity': 0.26930314599226685}\n"
     ]
    }
   ],
   "source": [
    "#Test aggregation function\n",
    "output=query_orgs('organization', 'GB-COH-04154075')\n",
    "p.pprint(next(iter(output)))"
   ]
  },
  {
   "cell_type": "code",
   "execution_count": 34,
   "metadata": {},
   "outputs": [
    {
     "name": "stdout",
     "output_type": "stream",
     "text": [
      "2017-12-31 21:03:30.347651 - inserting 100 orgs\n",
      "successful insert\n",
      "2017-12-31 21:03:37.836134 - inserting 100 orgs\n",
      "successful insert\n",
      "2017-12-31 21:03:42.607544 - inserting 100 orgs\n",
      "successful insert\n",
      "2017-12-31 21:03:48.040927 - inserting 70 orgs\n"
     ]
    }
   ],
   "source": [
    "db.drop_collection('cleaned_orgs_full')\n",
    "orgs=db.cleaned_orgs_full\n",
    "\n",
    "batch=[]\n",
    "for num, results in enumerate(query_orgs('organization')):\n",
    "    batch.append(results)\n",
    "    if(len(batch)==100):\n",
    "        print(datetime.now(), \"- inserting {} orgs\".format(len(batch)))\n",
    "        orgs.insert_many(batch)\n",
    "        print('successful insert')\n",
    "        batch=[]\n",
    "if batch:\n",
    "    print(datetime.now(), \"- inserting {} orgs\".format(len(batch)))\n",
    "    orgs.insert_many(batch)"
   ]
  },
  {
   "cell_type": "code",
   "execution_count": 35,
   "metadata": {},
   "outputs": [
    {
     "data": {
      "text/plain": [
       "'organization_id_1'"
      ]
     },
     "execution_count": 35,
     "metadata": {},
     "output_type": "execute_result"
    }
   ],
   "source": [
    "orgs.create_index('organization_id')"
   ]
  },
  {
   "cell_type": "code",
   "execution_count": 36,
   "metadata": {},
   "outputs": [
    {
     "name": "stdout",
     "output_type": "stream",
     "text": [
      "{'_id': ObjectId('5a4950ae6f8487050240e1e1'),\n",
      " 'benford_compliance': {'budget': 0.2,\n",
      "                        'budget_distribution': {'0': 0.0,\n",
      "                                                '1': 16.666,\n",
      "                                                '2': 10.0,\n",
      "                                                '3': 10.0,\n",
      "                                                '4': 10.0,\n",
      "                                                '5': 10.0,\n",
      "                                                '6': 20.0,\n",
      "                                                '7': 10.0,\n",
      "                                                '8': 13.334,\n",
      "                                                '9': 0.0},\n",
      "                        'transaction': 0.3333333333333333,\n",
      "                        'transaction_distribution': {'0': 0.0,\n",
      "                                                     '1': 25.505000000000006,\n",
      "                                                     '2': 31.183333333333334,\n",
      "                                                     '3': 7.251666666666668,\n",
      "                                                     '4': 5.390000000000001,\n",
      "                                                     '5': 5.591666666666668,\n",
      "                                                     '6': 8.058333333333334,\n",
      "                                                     '7': 11.206666666666665,\n",
      "                                                     '8': 3.2099999999999995,\n",
      "                                                     '9': 2.605}},\n",
      " 'contact_info': {},\n",
      " 'doc_size': {'avg': 42872.833333333336, 'max': 145432, 'min': 3043},\n",
      " 'missing_data': {'@default-currency': 0.0,\n",
      "                  '@xml:lang': 0.0,\n",
      "                  'activity-date': 0.0,\n",
      "                  'budget': 0.16666666666666666,\n",
      "                  'description': 0.0,\n",
      "                  'document-link': 0.8333333333333334,\n",
      "                  'participating-org': 0.0,\n",
      "                  'result': 1.0,\n",
      "                  'title': 0.0,\n",
      "                  'transaction': 0.0},\n",
      " 'organization_id': 'GB-COH-04154075',\n",
      " 'organization_name': 'PRI',\n",
      " 'records': 6,\n",
      " 'relative_size': {'budget': 0.0143408157007064,\n",
      "                   'description': 0.031411824214828125,\n",
      "                   'document-link': 0.0010944404716064324,\n",
      "                   'participating-org': 0.04930798090209568,\n",
      "                   'result': 0.0,\n",
      "                   'title': 0.012231169440279854,\n",
      "                   'transaction': 0.7858344340661164},\n",
      " 'title_description_similarity': 0.26930314599226685}\n"
     ]
    },
    {
     "data": {
      "text/plain": [
       "370"
      ]
     },
     "execution_count": 36,
     "metadata": {},
     "output_type": "execute_result"
    }
   ],
   "source": [
    "#Verify that this matches the manual test from above\n",
    "p.pprint(orgs.find_one({'organization_id':'GB-COH-04154075'}))\n",
    "orgs.count()"
   ]
  }
 ],
 "metadata": {
  "anaconda-cloud": {},
  "kernelspec": {
   "display_name": "Python 3",
   "language": "python",
   "name": "python3"
  },
  "language_info": {
   "codemirror_mode": {
    "name": "ipython",
    "version": 3
   },
   "file_extension": ".py",
   "mimetype": "text/x-python",
   "name": "python",
   "nbconvert_exporter": "python",
   "pygments_lexer": "ipython3",
   "version": "3.6.2"
  }
 },
 "nbformat": 4,
 "nbformat_minor": 1
}
