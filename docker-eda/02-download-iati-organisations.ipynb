{
 "cells": [
  {
   "cell_type": "code",
   "execution_count": 1,
   "metadata": {},
   "outputs": [],
   "source": [
    "%matplotlib inline"
   ]
  },
  {
   "cell_type": "code",
   "execution_count": 2,
   "metadata": {},
   "outputs": [],
   "source": [
    "from __future__ import print_function\n",
    "from datetime import datetime\n",
    "import io\n",
    "import ujson as json\n",
    "import numpy as np\n",
    "import os\n",
    "import pandas as pd\n",
    "import requests\n",
    "import xml\n",
    "import xmltodict"
   ]
  },
  {
   "cell_type": "markdown",
   "metadata": {},
   "source": [
    "# Retrieve IATI Metadata"
   ]
  },
  {
   "cell_type": "code",
   "execution_count": 3,
   "metadata": {},
   "outputs": [
    {
     "name": "stdout",
     "output_type": "stream",
     "text": [
      "https://iatiregistry.org/api/3/action/help_show?name=package_search\n"
     ]
    }
   ],
   "source": [
    "# Use the IATI registry API to identify the metadata\n",
    "# http://iatiregistry.org/registry-api\n",
    "\n",
    "base_url = 'http://iatiregistry.org/api/3/action/package_search'\n",
    "\n",
    "# Retrieve the current count by issuing a request that returns zero rows\n",
    "\n",
    "query_data = {\n",
    "    'q': 'extras_filetype:organisation',\n",
    "    'start': 0,\n",
    "    'rows': 0\n",
    "}\n",
    "\n",
    "response = requests.get(base_url, params = query_data).json()\n",
    "count = response['result']['count']\n",
    "\n",
    "# Also print out the help text in case it helps us in the future\n",
    "\n",
    "print(response['help'])"
   ]
  },
  {
   "cell_type": "code",
   "execution_count": 4,
   "metadata": {},
   "outputs": [],
   "source": [
    "# Retrieve all the pages of metadata from the cache file (if available)\n",
    "# or from the server (if no cache file is available)\n",
    "\n",
    "if os.path.isfile('organization_metadata.json'):\n",
    "    with io.open('organization_metadata.json', 'r', encoding = 'utf-8') as metadata_file:\n",
    "        metadata = json.load(metadata_file)\n",
    "else:\n",
    "    metadata = []\n",
    "\n",
    "    # Allowed page size is 100\n",
    "\n",
    "    for i in range(0, count, 100):\n",
    "        print('Retrieved', i, 'of', count, 'results')\n",
    "\n",
    "        query_data = {\n",
    "            'q': 'extras_filetype:organisation',\n",
    "            'start': i,\n",
    "            'rows': 100\n",
    "        }\n",
    "\n",
    "        response = requests.get(base_url, params = query_data).json()\n",
    "        metadata.extend(response['result']['results'])\n",
    "\n",
    "    print('Retrieved', count, 'of', count, 'results')"
   ]
  },
  {
   "cell_type": "code",
   "execution_count": 5,
   "metadata": {},
   "outputs": [],
   "source": [
    "# Cache the metadata to disk so that we don't have to fetch it\n",
    "\n",
    "with open('organization_metadata.json', 'w') as metadata_file:\n",
    "    json.dump(metadata, metadata_file)"
   ]
  },
  {
   "cell_type": "markdown",
   "metadata": {},
   "source": [
    "# Validate IATI Metadata"
   ]
  },
  {
   "cell_type": "code",
   "execution_count": 6,
   "metadata": {},
   "outputs": [
    {
     "data": {
      "text/plain": [
       "array(['author', 'author_email', 'creator_user_id', 'extras', 'groups',\n",
       "       'id', 'isopen', 'license_id', 'license_title', 'license_url',\n",
       "       'maintainer', 'maintainer_email', 'metadata_created',\n",
       "       'metadata_modified', 'name', 'notes', 'num_resources', 'num_tags',\n",
       "       'organization', 'owner_org', 'private', 'relationships_as_object',\n",
       "       'relationships_as_subject', 'resources', 'revision_id', 'state',\n",
       "       'tags', 'title', 'type', 'url', 'version'], dtype=object)"
      ]
     },
     "execution_count": 6,
     "metadata": {},
     "output_type": "execute_result"
    }
   ],
   "source": [
    "# Take a quick look at the field names and get a feel for the data\n",
    "\n",
    "df = pd.DataFrame(metadata)\n",
    "\n",
    "df.columns.values"
   ]
  },
  {
   "cell_type": "code",
   "execution_count": 7,
   "metadata": {},
   "outputs": [
    {
     "data": {
      "text/plain": [
       "<matplotlib.axes._subplots.AxesSubplot at 0x7f6191198fd0>"
      ]
     },
     "execution_count": 7,
     "metadata": {},
     "output_type": "execute_result"
    },
    {
     "data": {
      "image/png": "[encoded data removed]",
      "text/plain": []
     },
     "metadata": {},
     "output_type": "display_data"
    }
   ],
   "source": [
    "# There's an isopen column indicating whether the data set is open\n",
    "# to be used for general purposes. Let's see the distribution.\n",
    "\n",
    "df['isopen'].hist()"
   ]
  },
  {
   "cell_type": "code",
   "execution_count": 8,
   "metadata": {},
   "outputs": [
    {
     "data": {
      "text/plain": [
       "<matplotlib.axes._subplots.AxesSubplot at 0x7f6196f26780>"
      ]
     },
     "execution_count": 8,
     "metadata": {},
     "output_type": "execute_result"
    },
    {
     "data": {
      "image/png": "[encoded data removed]",
      "text/plain": []
     },
     "metadata": {},
     "output_type": "display_data"
    }
   ],
   "source": [
    "# There is a metadata column on the timestamp when a revision was made,\n",
    "# which we can use to see if the data is out of date or not.\n",
    "\n",
    "pd.to_datetime(df['metadata_modified']).hist()"
   ]
  },
  {
   "cell_type": "markdown",
   "metadata": {},
   "source": [
    "# Identify Resources"
   ]
  },
  {
   "cell_type": "code",
   "execution_count": 9,
   "metadata": {},
   "outputs": [],
   "source": [
    "# Grab the URLs associated with our metadata\n",
    "\n",
    "metadata_titles = {}\n",
    "metadata_resources = {}\n",
    "\n",
    "for metadata_item in metadata:\n",
    "    if not metadata_item['isopen']:\n",
    "        continue\n",
    "\n",
    "    title = metadata_item['title']\n",
    "    short_name = metadata_item['name']\n",
    "\n",
    "    resources = metadata_item['resources']\n",
    "    resource_urls = [x for x in set([resource_item['url'] for resource_item in resources])]\n",
    "\n",
    "    metadata_titles[short_name] = title\n",
    "    metadata_resources[short_name] = resource_urls"
   ]
  },
  {
   "cell_type": "markdown",
   "metadata": {},
   "source": [
    "# Sequential Download"
   ]
  },
  {
   "cell_type": "code",
   "execution_count": 10,
   "metadata": {},
   "outputs": [],
   "source": [
    "!mkdir -p iati-orgs"
   ]
  },
  {
   "cell_type": "code",
   "execution_count": 11,
   "metadata": {},
   "outputs": [],
   "source": [
    "from download_iati import download_all\n",
    "\n",
    "download_all('iati-orgs', metadata_resources)"
   ]
  },
  {
   "cell_type": "code",
   "execution_count": 12,
   "metadata": {},
   "outputs": [],
   "source": [
    "# Clean up anything that wound up with a file size of zero\n",
    "\n",
    "for xml_name in os.listdir('iati-orgs'):\n",
    "    iati_filename = 'iati-orgs/' + xml_name\n",
    "\n",
    "    if os.path.getsize(iati_filename) == 0:\n",
    "        os.remove(iati_filename)"
   ]
  },
  {
   "cell_type": "markdown",
   "metadata": {},
   "source": [
    "# Double-Check Files"
   ]
  },
  {
   "cell_type": "code",
   "execution_count": 13,
   "metadata": {},
   "outputs": [
    {
     "name": "stdout",
     "output_type": "stream",
     "text": [
      "iati-orgs/kpmgea-org.xml\r\n",
      "iati-orgs/af-14.xml\r\n",
      "iati-orgs/be-dgd-org.xml\r\n"
     ]
    }
   ],
   "source": [
    "!find iati-orgs -type f | xargs grep -L organisations"
   ]
  },
  {
   "cell_type": "code",
   "execution_count": 14,
   "metadata": {},
   "outputs": [
    {
     "name": "stdout",
     "output_type": "stream",
     "text": [
      "Failed to download amnesty-2\n",
      "http://policehumanrightsresources.org/wp-content/uploads/2017/11/IATIactivityorganisation_90_F.txt\n",
      "Failed to download alcrer-1-org\n",
      "https://rsr.akvo.org/organisation/4538/iati-org/.\n",
      "Failed to download globalgiving-org\n",
      "http://www.globalgiving.org/iati/organisations.xml\n",
      "Failed to download iadb-org\n",
      "http://www.iadb.org/iati/IATI_Organizations_Standard.xml\n",
      "Failed to download yipl-org\n",
      "http://localhost:8000/files/xml/yipl-org.xml\n"
     ]
    }
   ],
   "source": [
    "# Download anything we missed via Python, and report the specific\n",
    "# errors we get.\n",
    "\n",
    "for short_name, resource_urls in metadata_resources.items():\n",
    "    iati_filename = 'iati-orgs/' + short_name + '.xml'\n",
    "\n",
    "    if os.path.isfile(iati_filename) and os.path.getsize(iati_filename) > 0:\n",
    "        continue\n",
    "\n",
    "    print('Failed to download %s' % short_name)\n",
    "    print('\\n'.join(resource_urls))"
   ]
  },
  {
   "cell_type": "markdown",
   "metadata": {},
   "source": [
    "# Remove Files Without Organizations"
   ]
  },
  {
   "cell_type": "code",
   "execution_count": 15,
   "metadata": {},
   "outputs": [],
   "source": [
    "!find iati-orgs -type f | xargs grep -L organisations | xargs rm"
   ]
  },
  {
   "cell_type": "markdown",
   "metadata": {},
   "source": [
    "# Create Resource Archive"
   ]
  },
  {
   "cell_type": "markdown",
   "metadata": {},
   "source": [
    "If running from a Docker container, make sure to run `aws configure` manually to configure your credentials, or it won't be able to upload to the bucket."
   ]
  },
  {
   "cell_type": "code",
   "execution_count": 16,
   "metadata": {},
   "outputs": [],
   "source": [
    "s3_bucket = 'mdang.w210'"
   ]
  },
  {
   "cell_type": "code",
   "execution_count": 17,
   "metadata": {},
   "outputs": [
    {
     "name": "stdout",
     "output_type": "stream",
     "text": [
      "upload: ./iati-orgs.tar.gz to s3://mdang.w210/iati-orgs.tar.gz\r\n"
     ]
    }
   ],
   "source": [
    "!rm -f iati-orgs.tar.gz\n",
    "!tar -cf iati-orgs.tar iati-orgs\n",
    "!gzip iati-orgs.tar\n",
    "!aws s3 cp iati-orgs.tar.gz s3://{s3_bucket}/"
   ]
  },
  {
   "cell_type": "code",
   "execution_count": 18,
   "metadata": {},
   "outputs": [
    {
     "name": "stdout",
     "output_type": "stream",
     "text": [
      "upload: ./organization_metadata.json.gz to s3://mdang.w210/organization_metadata.json.gz\r\n"
     ]
    }
   ],
   "source": [
    "!gzip organization_metadata.json\n",
    "!aws s3 cp organization_metadata.json.gz s3://{s3_bucket}/\n",
    "!gunzip organization_metadata.json.gz"
   ]
  }
 ],
 "metadata": {
  "kernelspec": {
   "display_name": "Python 3",
   "language": "python",
   "name": "python3"
  },
  "language_info": {
   "codemirror_mode": {
    "name": "ipython",
    "version": 3
   },
   "file_extension": ".py",
   "mimetype": "text/x-python",
   "name": "python",
   "nbconvert_exporter": "python",
   "pygments_lexer": "ipython3",
   "version": "3.6.3"
  }
 },
 "nbformat": 4,
 "nbformat_minor": 1
}
