{
 "cells": [
  {
   "cell_type": "markdown",
   "metadata": {},
   "source": [
    "# Install Packages"
   ]
  },
  {
   "cell_type": "code",
   "execution_count": 1,
   "metadata": {},
   "outputs": [],
   "source": [
    "%matplotlib inline"
   ]
  },
  {
   "cell_type": "code",
   "execution_count": 2,
   "metadata": {},
   "outputs": [],
   "source": [
    "from __future__ import print_function\n",
    "from collections import defaultdict\n",
    "from datetime import datetime\n",
    "import pandas\n",
    "import pickle\n",
    "from pprint import PrettyPrinter\n",
    "import pymongo"
   ]
  },
  {
   "cell_type": "code",
   "execution_count": 3,
   "metadata": {},
   "outputs": [],
   "source": [
    "printer = PrettyPrinter()"
   ]
  },
  {
   "cell_type": "markdown",
   "metadata": {},
   "source": [
    "# Data Check"
   ]
  },
  {
   "cell_type": "code",
   "execution_count": 4,
   "metadata": {},
   "outputs": [
    {
     "data": {
      "text/plain": [
       "['admin', 'iati', 'local']"
      ]
     },
     "execution_count": 4,
     "metadata": {},
     "output_type": "execute_result"
    }
   ],
   "source": [
    "conn=pymongo.MongoClient('mongodb', 27017)\n",
    "\n",
    "conn.database_names()"
   ]
  },
  {
   "cell_type": "code",
   "execution_count": 5,
   "metadata": {},
   "outputs": [
    {
     "data": {
      "text/plain": [
       "['organizations',\n",
       " 'activities',\n",
       " 'activities_metadata',\n",
       " 'transactions',\n",
       " 'organizations_metadata']"
      ]
     },
     "execution_count": 5,
     "metadata": {},
     "output_type": "execute_result"
    }
   ],
   "source": [
    "db = conn.iati\n",
    "\n",
    "activities=db.activities\n",
    "activities_metadata=db.activities_metadata\n",
    "organizations = db.organizations\n",
    "\n",
    "db.collection_names()"
   ]
  },
  {
   "cell_type": "code",
   "execution_count": 6,
   "metadata": {},
   "outputs": [
    {
     "name": "stdout",
     "output_type": "stream",
     "text": [
      "4542 764159\n"
     ]
    }
   ],
   "source": [
    "print(activities_metadata.count(), activities.count())"
   ]
  },
  {
   "cell_type": "markdown",
   "metadata": {},
   "source": [
    "# Cache in Memory"
   ]
  },
  {
   "cell_type": "code",
   "execution_count": 7,
   "metadata": {},
   "outputs": [
    {
     "name": "stdout",
     "output_type": "stream",
     "text": [
      "2017-12-31 19:09:08.843641 Started processing\n",
      "2017-12-31 19:09:08.974730 Finished processing\n"
     ]
    }
   ],
   "source": [
    "all_metadata = {}\n",
    "metadata_count = activities_metadata.count()\n",
    "\n",
    "print(datetime.now(), 'Started processing')\n",
    "\n",
    "for num, metadata_item in enumerate(activities_metadata.find()):\n",
    "    all_metadata[metadata_item['@w210-key']] = metadata_item\n",
    "\n",
    "print(datetime.now(), 'Finished processing')"
   ]
  },
  {
   "cell_type": "code",
   "execution_count": 8,
   "metadata": {},
   "outputs": [
    {
     "data": {
      "text/plain": [
       "4542"
      ]
     },
     "execution_count": 8,
     "metadata": {},
     "output_type": "execute_result"
    }
   ],
   "source": [
    "len(all_metadata)"
   ]
  },
  {
   "cell_type": "markdown",
   "metadata": {},
   "source": [
    "# Store URLs from Metadata"
   ]
  },
  {
   "cell_type": "code",
   "execution_count": 9,
   "metadata": {},
   "outputs": [],
   "source": [
    "iati_urls = {}"
   ]
  },
  {
   "cell_type": "code",
   "execution_count": 10,
   "metadata": {},
   "outputs": [],
   "source": [
    "def add_from_activity_metadata(filename, metadata):\n",
    "    if 'organization' not in metadata:\n",
    "        return\n",
    "\n",
    "    organization = metadata['organization']\n",
    "\n",
    "    if organization is None:\n",
    "        return\n",
    "\n",
    "    urlname = organization['name']\n",
    "    title = organization['title']\n",
    "\n",
    "    iati_urls[filename] = (urlname, title)"
   ]
  },
  {
   "cell_type": "code",
   "execution_count": 11,
   "metadata": {},
   "outputs": [],
   "source": [
    "iati_urls.clear()\n",
    "\n",
    "for filename, metadata in all_metadata.items():\n",
    "    add_from_activity_metadata(filename, metadata)"
   ]
  },
  {
   "cell_type": "code",
   "execution_count": 12,
   "metadata": {},
   "outputs": [
    {
     "data": {
      "text/plain": [
       "4541"
      ]
     },
     "execution_count": 12,
     "metadata": {},
     "output_type": "execute_result"
    }
   ],
   "source": [
    "len(iati_urls)"
   ]
  },
  {
   "cell_type": "markdown",
   "metadata": {},
   "source": [
    "So we see that about 1 organization doesn't have a clean URL we can easily derive. We'll attempt to add it from the activity."
   ]
  },
  {
   "cell_type": "code",
   "execution_count": 13,
   "metadata": {},
   "outputs": [],
   "source": [
    "def add_from_activity(filename, activity):\n",
    "    if 'participating-org' not in activity:\n",
    "        return\n",
    "\n",
    "    organization = activity['participating-org']\n",
    "\n",
    "    if organization is None:\n",
    "        return\n",
    "\n",
    "    if type(organization) == list:\n",
    "        for organization_item in organization:\n",
    "            if '@role' in organization_item and organization_item['@role'] == 'Implementing':\n",
    "                organization = organization_item\n",
    "                break\n",
    "   \n",
    "    if '@ref' not in organization:\n",
    "        return\n",
    "\n",
    "    organization_ref = organization['@ref']\n",
    "    title = organization['#text']\n",
    "\n",
    "    if title is not None:\n",
    "        iati_urls[filename] = (organization_ref, title)"
   ]
  },
  {
   "cell_type": "markdown",
   "metadata": {},
   "source": [
    "Let's take a look at what's missing and see how we fill it in."
   ]
  },
  {
   "cell_type": "code",
   "execution_count": 14,
   "metadata": {},
   "outputs": [
    {
     "name": "stdout",
     "output_type": "stream",
     "text": [
      "dapp-mw-activities ('dapp mw', 'Development Aid from People to People (DAPP) Malawi')\n"
     ]
    }
   ],
   "source": [
    "for filename in (set(all_metadata.keys()) - set(iati_urls.keys())):\n",
    "    for activity in activities.find({'@w210-key': filename}):\n",
    "        add_from_activity(filename, activity)\n",
    "\n",
    "        if filename in iati_urls:\n",
    "            print(filename, iati_urls[filename])\n",
    "        else:\n",
    "            print(filename, None)"
   ]
  },
  {
   "cell_type": "code",
   "execution_count": 15,
   "metadata": {},
   "outputs": [
    {
     "data": {
      "text/plain": [
       "4542"
      ]
     },
     "execution_count": 15,
     "metadata": {},
     "output_type": "execute_result"
    }
   ],
   "source": [
    "len(iati_urls)"
   ]
  },
  {
   "cell_type": "markdown",
   "metadata": {},
   "source": [
    "It looks like we were able to drive some additional metadata for that missing organization. Let's go ahead and pickle this file."
   ]
  },
  {
   "cell_type": "code",
   "execution_count": 16,
   "metadata": {},
   "outputs": [],
   "source": [
    "with open('iati_urls.pickle', 'wb') as f:\n",
    "    pickle.dump(iati_urls, f)"
   ]
  },
  {
   "cell_type": "markdown",
   "metadata": {},
   "source": [
    "## Cache Activities"
   ]
  },
  {
   "cell_type": "markdown",
   "metadata": {},
   "source": [
    "Bring all the activities out of MongoDB and into memory so that we can process them much faster. Iterating over the MongoDB collection takes minutes. Iterating over an in-memory version containing only the fields we're interested in takes seconds.\n",
    "\n",
    "However, we need a lot of memory to fit everything, so we'll only include a few of the fields which might be useful when constructing the graph.\n",
    "\n",
    "* http://iatistandard.org/202/activity-standard/elements/"
   ]
  },
  {
   "cell_type": "code",
   "execution_count": 17,
   "metadata": {},
   "outputs": [],
   "source": [
    "iati_urls_by_ref = {}"
   ]
  },
  {
   "cell_type": "code",
   "execution_count": 18,
   "metadata": {},
   "outputs": [],
   "source": [
    "def add_from_activity(item):\n",
    "    if 'reporting-org' not in activity:\n",
    "        return\n",
    "\n",
    "    filename = activity['@w210-key']\n",
    "\n",
    "    if filename in iati_urls:\n",
    "        iati_name = iati_urls[filename][0]\n",
    "    else:\n",
    "        iati_name = filename[0:filename.find('-')]\n",
    "\n",
    "    iati_url = 'https://www.iatiregistry.org/publisher/%s' % iati_name\n",
    "\n",
    "    organization = activity['reporting-org']\n",
    "\n",
    "    if '@ref' not in organization:\n",
    "        return\n",
    "\n",
    "    organization_ref = organization['@ref']\n",
    "\n",
    "    if organization_ref not in iati_urls_by_ref:\n",
    "        iati_urls_by_ref[organization_ref] = set([iati_url])\n",
    "    else:\n",
    "        iati_urls_by_ref[organization_ref].add(iati_url)"
   ]
  },
  {
   "cell_type": "code",
   "execution_count": 19,
   "metadata": {},
   "outputs": [
    {
     "name": "stdout",
     "output_type": "stream",
     "text": [
      "2017-12-31 19:09:16.554226 Started processing\n",
      "2017-12-31 19:10:34.123317 Finished processing\n"
     ]
    }
   ],
   "source": [
    "iati_urls_by_ref = {}\n",
    "\n",
    "print(datetime.now(), 'Started processing')\n",
    "\n",
    "for activity in activities.find():\n",
    "    add_from_activity(activity)\n",
    "\n",
    "print(datetime.now(), 'Finished processing')"
   ]
  },
  {
   "cell_type": "markdown",
   "metadata": {},
   "source": [
    "Let's pickle the file."
   ]
  },
  {
   "cell_type": "code",
   "execution_count": 20,
   "metadata": {},
   "outputs": [],
   "source": [
    "with open('iati_urls_by_ref.pickle', 'wb') as f:\n",
    "    pickle.dump(iati_urls_by_ref, f)"
   ]
  },
  {
   "cell_type": "markdown",
   "metadata": {},
   "source": [
    "# Check Fields (Summary)"
   ]
  },
  {
   "cell_type": "markdown",
   "metadata": {},
   "source": [
    "Let's get a sense of how populated each field is in the data."
   ]
  },
  {
   "cell_type": "code",
   "execution_count": 21,
   "metadata": {},
   "outputs": [],
   "source": [
    "fields = set([\n",
    "    '@w210-key',\n",
    "    'iati-identifier',\n",
    "    'other-identifier',\n",
    "    'reporting-org',\n",
    "    'participating-org',\n",
    "    'activity-status',\n",
    "    'recipient-country',\n",
    "    'recipient-region',\n",
    "    'location',\n",
    "    'sector',\n",
    "    'transaction'\n",
    "])"
   ]
  },
  {
   "cell_type": "code",
   "execution_count": 22,
   "metadata": {},
   "outputs": [
    {
     "name": "stdout",
     "output_type": "stream",
     "text": [
      "2017-12-31 19:10:34.164410 Started processing\n",
      "2017-12-31 19:11:50.248107 Finished processing\n"
     ]
    },
    {
     "data": {
      "text/plain": [
       "{'@w210-key': 764159,\n",
       " 'activity-status': 746821,\n",
       " 'iati-identifier': 764094,\n",
       " 'location': 317755,\n",
       " 'other-identifier': 186305,\n",
       " 'participating-org': 762532,\n",
       " 'recipient-country': 591713,\n",
       " 'recipient-region': 327262,\n",
       " 'reporting-org': 764159,\n",
       " 'sector': 500755,\n",
       " 'transaction': 729967}"
      ]
     },
     "execution_count": 22,
     "metadata": {},
     "output_type": "execute_result"
    }
   ],
   "source": [
    "# Count how many times each of the keys of interest appears\n",
    "# in our activity data set.\n",
    "\n",
    "field_counts = { key: 0 for key in fields }\n",
    "field_keys = field_counts.keys()\n",
    "\n",
    "print(datetime.now(), 'Started processing')\n",
    "\n",
    "for activity in activities.find():\n",
    "    for key in field_keys:\n",
    "        if key in activity:\n",
    "            field_counts[key] += 1\n",
    "\n",
    "print(datetime.now(), 'Finished processing')\n",
    "\n",
    "field_counts"
   ]
  },
  {
   "cell_type": "markdown",
   "metadata": {},
   "source": [
    "Based on these counts, we'll prefer anything where we can:\n",
    "\n",
    "* Include the file name\n",
    "* Include the participating organization\n",
    "* Include the reporting organization\n",
    "* Include the transaction information"
   ]
  },
  {
   "cell_type": "markdown",
   "metadata": {},
   "source": [
    "# Check Fields (One Record)"
   ]
  },
  {
   "cell_type": "code",
   "execution_count": 23,
   "metadata": {},
   "outputs": [],
   "source": [
    "activity = activities.find_one({ key: {'$ne': None } for key in fields })"
   ]
  },
  {
   "cell_type": "code",
   "execution_count": 24,
   "metadata": {},
   "outputs": [
    {
     "data": {
      "text/plain": [
       "'XM-DAC-701-8-2012003030'"
      ]
     },
     "execution_count": 24,
     "metadata": {},
     "output_type": "execute_result"
    }
   ],
   "source": [
    "activity['iati-identifier']"
   ]
  },
  {
   "cell_type": "code",
   "execution_count": 25,
   "metadata": {},
   "outputs": [
    {
     "data": {
      "text/plain": [
       "{'#text': 'Agricultural water resources',\n",
       " '@code': '31140',\n",
       " '@percentage': '100',\n",
       " '@vocabulary': 'DAC'}"
      ]
     },
     "execution_count": 25,
     "metadata": {},
     "output_type": "execute_result"
    }
   ],
   "source": [
    "# http://iatistandard.org/202/activity-standard/iati-activities/iati-activity/sector/\n",
    "# Vocabulary: http://iatistandard.org/202/codelists/SectorVocabulary/\n",
    "\n",
    "activity['sector']"
   ]
  },
  {
   "cell_type": "code",
   "execution_count": 26,
   "metadata": {},
   "outputs": [
    {
     "data": {
      "text/plain": [
       "{'#text': 'Japan International Cooperation Agency',\n",
       " '@ref': 'XM-DAC-701-8',\n",
       " '@type': '10'}"
      ]
     },
     "execution_count": 26,
     "metadata": {},
     "output_type": "execute_result"
    }
   ],
   "source": [
    "# Ref: http://iatistandard.org/202/activity-standard/iati-activities/iati-activity/participating-org/\n",
    "# Type: http://iatistandard.org/202/codelists/OrganisationType/\n",
    "\n",
    "activity['reporting-org']"
   ]
  },
  {
   "cell_type": "code",
   "execution_count": 27,
   "metadata": {},
   "outputs": [
    {
     "data": {
      "text/plain": [
       "[{'#text': 'PROGRAMA DE DESARROLLO PRODUCTIVO AGRARIO RURAL (AGRORURAL)',\n",
       "  '@role': 'Accountable',\n",
       "  '@type': '10'},\n",
       " {'#text': 'Japan', '@ref': 'JP', '@role': 'Funding', '@type': '10'},\n",
       " {'#text': 'Japan International Cooperation Agency',\n",
       "  '@ref': 'XM-DAC-701-8',\n",
       "  '@role': 'Extending',\n",
       "  '@type': '10'},\n",
       " {'#text': 'PROGRAMA DE DESARROLLO PRODUCTIVO AGRARIO RURAL (AGRORURAL)',\n",
       "  '@role': 'Implementing',\n",
       "  '@type': '10'}]"
      ]
     },
     "execution_count": 27,
     "metadata": {},
     "output_type": "execute_result"
    }
   ],
   "source": [
    "# Ref: http://iatistandard.org/202/activity-standard/iati-activities/iati-activity/participating-org/\n",
    "# Role: http://iatistandard.org/202/codelists/OrganisationRole/\n",
    "# Type: http://iatistandard.org/202/codelists/OrganisationType/\n",
    "\n",
    "activity['participating-org']"
   ]
  },
  {
   "cell_type": "code",
   "execution_count": 28,
   "metadata": {},
   "outputs": [
    {
     "data": {
      "text/plain": [
       "{'#text': 'Implementation', '@code': '2'}"
      ]
     },
     "execution_count": 28,
     "metadata": {},
     "output_type": "execute_result"
    }
   ],
   "source": [
    "# Code: http://iatistandard.org/202/codelists/ActivityStatus/\n",
    "\n",
    "activity['activity-status']"
   ]
  },
  {
   "cell_type": "code",
   "execution_count": 29,
   "metadata": {},
   "outputs": [
    {
     "data": {
      "text/plain": [
       "{'#text': 'PERU', '@code': 'PE'}"
      ]
     },
     "execution_count": 29,
     "metadata": {},
     "output_type": "execute_result"
    }
   ],
   "source": [
    "# Code: http://iatistandard.org/202/codelists/Country/\n",
    "\n",
    "activity['recipient-country']"
   ]
  },
  {
   "cell_type": "code",
   "execution_count": 30,
   "metadata": {},
   "outputs": [
    {
     "data": {
      "text/plain": [
       "{'@generated-datetime': '2015-09-25T09:29:59',\n",
       " '@w210-activity': 'XM-DAC-701-8-2012003030',\n",
       " '@w210-key': 'jica-489_2014',\n",
       " 'transaction-date': {'#text': '2014-12-31', '@iso-date': '2014-12-31'},\n",
       " 'transaction-type': {'#text': 'Disbursement', '@code': 'D'},\n",
       " 'value': {'#text': '113560000',\n",
       "  '@currency': 'JPY',\n",
       "  '@value-date': '2014-12-31'}}"
      ]
     },
     "execution_count": 30,
     "metadata": {},
     "output_type": "execute_result"
    }
   ],
   "source": [
    "# FinanceType: http://iatistandard.org/202/codelists/FinanceType/\n",
    "# TransactionType: http://iatistandard.org/202/codelists/TransactionType/\n",
    "\n",
    "activity['transaction']"
   ]
  },
  {
   "cell_type": "markdown",
   "metadata": {},
   "source": [
    "# Check Data"
   ]
  },
  {
   "cell_type": "code",
   "execution_count": 31,
   "metadata": {},
   "outputs": [],
   "source": [
    "def flatten(item_list):\n",
    "    if type(item_list) != list:\n",
    "        return [item_list]\n",
    "\n",
    "    return_value = []\n",
    "\n",
    "    # Recursively flatten lists of lists\n",
    "\n",
    "    for item in item_list:\n",
    "        if type(item) == list:\n",
    "            return_value += flatten(item)\n",
    "        else:\n",
    "            return_value.append(item)\n",
    "\n",
    "    return return_value"
   ]
  },
  {
   "cell_type": "code",
   "execution_count": 32,
   "metadata": {},
   "outputs": [],
   "source": [
    "def get_text(element, attribute):\n",
    "\n",
    "    if element is None:\n",
    "        return None\n",
    "\n",
    "    if attribute not in element:\n",
    "        return None\n",
    "\n",
    "    try:\n",
    "        value = element[attribute]\n",
    "    except Exception as e:\n",
    "        print(element, attribute)\n",
    "        raise e\n",
    "\n",
    "    if type(value) == dict:\n",
    "        if '#text' in value:\n",
    "            return value['#text']\n",
    "\n",
    "        return None\n",
    "\n",
    "    if type(value) != list:\n",
    "        return value\n",
    "\n",
    "    return [\n",
    "        item['#text'] if type(item) == dict and '#text' in item else\n",
    "            None if type(item) == dict else item\n",
    "        for item in value\n",
    "    ]"
   ]
  },
  {
   "cell_type": "code",
   "execution_count": 33,
   "metadata": {},
   "outputs": [],
   "source": [
    "def get_node_list(parent, field_keys):\n",
    "    value = parent\n",
    "\n",
    "    for key in field_keys:\n",
    "\n",
    "        # If we have a dictionary, we simply access the attribute\n",
    "\n",
    "        if type(value) == dict:\n",
    "            if key not in value:\n",
    "                return []\n",
    "\n",
    "            value = value[key]\n",
    "            continue\n",
    "\n",
    "        # If we have something that is neither a dict nor a list, we\n",
    "        # cannot navigate further down the JSON object, so we were\n",
    "        # unable to find what we needed.\n",
    "\n",
    "        if type(value) != list:\n",
    "            return []\n",
    "\n",
    "        # If we have a list, then we'll check the key in each element\n",
    "        # of the list.\n",
    "\n",
    "        value = [ item[key] for item in value if item is not None and key in item ]\n",
    "\n",
    "    if value is None:\n",
    "        return []\n",
    "\n",
    "    if type(value) != list:\n",
    "        value = [value]\n",
    "\n",
    "    return value"
   ]
  },
  {
   "cell_type": "code",
   "execution_count": 34,
   "metadata": {},
   "outputs": [],
   "source": [
    "def get_value(activity, field_keys):\n",
    "    node_list = get_node_list(activity, field_keys)\n",
    "\n",
    "    return_value = []\n",
    "\n",
    "    for node in node_list:\n",
    "        ref = get_text(node, '@ref')\n",
    "        narrative = get_text(node, 'narrative')\n",
    "\n",
    "        if narrative is not None:\n",
    "            return_value.append({\n",
    "                'ref': ref, 'narrative': narrative\n",
    "            })\n",
    "\n",
    "        narrative = get_text(node, '@narrative')\n",
    "\n",
    "        if narrative is not None:\n",
    "            return_value.append({\n",
    "                'ref': ref, 'narrative': narrative\n",
    "            })\n",
    "\n",
    "    return return_value"
   ]
  },
  {
   "cell_type": "code",
   "execution_count": 35,
   "metadata": {},
   "outputs": [],
   "source": [
    "def get_values(field_path):\n",
    "    field_keys = field_path.split('.')\n",
    "\n",
    "    return_values = []\n",
    "\n",
    "    for activity in activities.find():\n",
    "        new_values = get_value(activity, field_keys)\n",
    "\n",
    "        for value in new_values:\n",
    "            value['file_id'] = activity['@w210-key']\n",
    "\n",
    "        return_values += new_values\n",
    "\n",
    "    return return_values"
   ]
  },
  {
   "cell_type": "code",
   "execution_count": 36,
   "metadata": {},
   "outputs": [],
   "source": [
    "def get_new_version_values(element_name):\n",
    "    return pandas.DataFrame(get_values(element_name))"
   ]
  },
  {
   "cell_type": "markdown",
   "metadata": {},
   "source": [
    "## Reporting Organizations"
   ]
  },
  {
   "cell_type": "code",
   "execution_count": 37,
   "metadata": {},
   "outputs": [],
   "source": [
    "reporters = get_new_version_values('reporting-org')"
   ]
  },
  {
   "cell_type": "code",
   "execution_count": 38,
   "metadata": {},
   "outputs": [
    {
     "data": {
      "text/html": [
       "<div>\n",
       "<style scoped>\n",
       "    .dataframe tbody tr th:only-of-type {\n",
       "        vertical-align: middle;\n",
       "    }\n",
       "\n",
       "    .dataframe tbody tr th {\n",
       "        vertical-align: top;\n",
       "    }\n",
       "\n",
       "    .dataframe thead th {\n",
       "        text-align: right;\n",
       "    }\n",
       "</style>\n",
       "<table border=\"1\" class=\"dataframe\">\n",
       "  <thead>\n",
       "    <tr style=\"text-align: right;\">\n",
       "      <th></th>\n",
       "      <th>file_id</th>\n",
       "      <th>narrative</th>\n",
       "      <th>ref</th>\n",
       "    </tr>\n",
       "  </thead>\n",
       "  <tbody>\n",
       "    <tr>\n",
       "      <th>0</th>\n",
       "      <td>unitedstates-bh</td>\n",
       "      <td>Department of Justice</td>\n",
       "      <td>US-GOV-15</td>\n",
       "    </tr>\n",
       "    <tr>\n",
       "      <th>1</th>\n",
       "      <td>unitedstates-bh</td>\n",
       "      <td>Department of Justice</td>\n",
       "      <td>US-GOV-15</td>\n",
       "    </tr>\n",
       "    <tr>\n",
       "      <th>2</th>\n",
       "      <td>unitedstates-bh</td>\n",
       "      <td>Department of Justice</td>\n",
       "      <td>US-GOV-15</td>\n",
       "    </tr>\n",
       "    <tr>\n",
       "      <th>3</th>\n",
       "      <td>unitedstates-bh</td>\n",
       "      <td>Department of Justice</td>\n",
       "      <td>US-GOV-15</td>\n",
       "    </tr>\n",
       "    <tr>\n",
       "      <th>4</th>\n",
       "      <td>unitedstates-bh</td>\n",
       "      <td>Department of Homeland Security</td>\n",
       "      <td>US-GOV-19</td>\n",
       "    </tr>\n",
       "  </tbody>\n",
       "</table>\n",
       "</div>"
      ],
      "text/plain": [
       "           file_id                        narrative        ref\n",
       "0  unitedstates-bh            Department of Justice  US-GOV-15\n",
       "1  unitedstates-bh            Department of Justice  US-GOV-15\n",
       "2  unitedstates-bh            Department of Justice  US-GOV-15\n",
       "3  unitedstates-bh            Department of Justice  US-GOV-15\n",
       "4  unitedstates-bh  Department of Homeland Security  US-GOV-19"
      ]
     },
     "execution_count": 38,
     "metadata": {},
     "output_type": "execute_result"
    }
   ],
   "source": [
    "reporters.head()"
   ]
  },
  {
   "cell_type": "code",
   "execution_count": 39,
   "metadata": {},
   "outputs": [
    {
     "data": {
      "text/html": [
       "<div>\n",
       "<style scoped>\n",
       "    .dataframe tbody tr th:only-of-type {\n",
       "        vertical-align: middle;\n",
       "    }\n",
       "\n",
       "    .dataframe tbody tr th {\n",
       "        vertical-align: top;\n",
       "    }\n",
       "\n",
       "    .dataframe thead th {\n",
       "        text-align: right;\n",
       "    }\n",
       "</style>\n",
       "<table border=\"1\" class=\"dataframe\">\n",
       "  <thead>\n",
       "    <tr style=\"text-align: right;\">\n",
       "      <th></th>\n",
       "      <th>file_id</th>\n",
       "      <th>narrative</th>\n",
       "      <th>ref</th>\n",
       "    </tr>\n",
       "  </thead>\n",
       "  <tbody>\n",
       "    <tr>\n",
       "      <th>598680</th>\n",
       "      <td>usaid-ua</td>\n",
       "      <td>U.S. Agency for International Development</td>\n",
       "      <td>US-GOV-1</td>\n",
       "    </tr>\n",
       "    <tr>\n",
       "      <th>598681</th>\n",
       "      <td>usaid-ua</td>\n",
       "      <td>U.S. Agency for International Development</td>\n",
       "      <td>US-GOV-1</td>\n",
       "    </tr>\n",
       "    <tr>\n",
       "      <th>598682</th>\n",
       "      <td>usaid-ua</td>\n",
       "      <td>U.S. Agency for International Development</td>\n",
       "      <td>US-GOV-1</td>\n",
       "    </tr>\n",
       "    <tr>\n",
       "      <th>598683</th>\n",
       "      <td>usaid-ua</td>\n",
       "      <td>U.S. Agency for International Development</td>\n",
       "      <td>US-GOV-1</td>\n",
       "    </tr>\n",
       "    <tr>\n",
       "      <th>598684</th>\n",
       "      <td>usaid-ua</td>\n",
       "      <td>U.S. Agency for International Development</td>\n",
       "      <td>US-GOV-1</td>\n",
       "    </tr>\n",
       "  </tbody>\n",
       "</table>\n",
       "</div>"
      ],
      "text/plain": [
       "         file_id                                  narrative       ref\n",
       "598680  usaid-ua  U.S. Agency for International Development  US-GOV-1\n",
       "598681  usaid-ua  U.S. Agency for International Development  US-GOV-1\n",
       "598682  usaid-ua  U.S. Agency for International Development  US-GOV-1\n",
       "598683  usaid-ua  U.S. Agency for International Development  US-GOV-1\n",
       "598684  usaid-ua  U.S. Agency for International Development  US-GOV-1"
      ]
     },
     "execution_count": 39,
     "metadata": {},
     "output_type": "execute_result"
    }
   ],
   "source": [
    "reporters.tail()"
   ]
  },
  {
   "cell_type": "markdown",
   "metadata": {},
   "source": [
    "## Other Identifier"
   ]
  },
  {
   "cell_type": "code",
   "execution_count": 40,
   "metadata": {},
   "outputs": [],
   "source": [
    "others = get_new_version_values('other-identifier.owner-org')"
   ]
  },
  {
   "cell_type": "code",
   "execution_count": 41,
   "metadata": {},
   "outputs": [
    {
     "data": {
      "text/html": [
       "<div>\n",
       "<style scoped>\n",
       "    .dataframe tbody tr th:only-of-type {\n",
       "        vertical-align: middle;\n",
       "    }\n",
       "\n",
       "    .dataframe tbody tr th {\n",
       "        vertical-align: top;\n",
       "    }\n",
       "\n",
       "    .dataframe thead th {\n",
       "        text-align: right;\n",
       "    }\n",
       "</style>\n",
       "<table border=\"1\" class=\"dataframe\">\n",
       "  <thead>\n",
       "    <tr style=\"text-align: right;\">\n",
       "      <th></th>\n",
       "      <th>file_id</th>\n",
       "      <th>narrative</th>\n",
       "      <th>ref</th>\n",
       "    </tr>\n",
       "  </thead>\n",
       "  <tbody>\n",
       "    <tr>\n",
       "      <th>0</th>\n",
       "      <td>maec-za</td>\n",
       "      <td>Ministry of Foreign Affairs and Cooperation, S...</td>\n",
       "      <td>ES-DIR3-E04585801</td>\n",
       "    </tr>\n",
       "    <tr>\n",
       "      <th>1</th>\n",
       "      <td>maec-za</td>\n",
       "      <td>Ministry of Foreign Affairs and Cooperation, S...</td>\n",
       "      <td>ES-DIR3-E04585801</td>\n",
       "    </tr>\n",
       "    <tr>\n",
       "      <th>2</th>\n",
       "      <td>maec-za</td>\n",
       "      <td>Ministry of Foreign Affairs and Cooperation, S...</td>\n",
       "      <td>ES-DIR3-E04585801</td>\n",
       "    </tr>\n",
       "    <tr>\n",
       "      <th>3</th>\n",
       "      <td>maec-za</td>\n",
       "      <td>Ministry of Foreign Affairs and Cooperation, S...</td>\n",
       "      <td>ES-DIR3-E04585801</td>\n",
       "    </tr>\n",
       "    <tr>\n",
       "      <th>4</th>\n",
       "      <td>maec-za</td>\n",
       "      <td>Ministry of Foreign Affairs and Cooperation, S...</td>\n",
       "      <td>ES-DIR3-E04585801</td>\n",
       "    </tr>\n",
       "  </tbody>\n",
       "</table>\n",
       "</div>"
      ],
      "text/plain": [
       "   file_id                                          narrative  \\\n",
       "0  maec-za  Ministry of Foreign Affairs and Cooperation, S...  \n",
       "1  maec-za  Ministry of Foreign Affairs and Cooperation, S...  \n",
       "2  maec-za  Ministry of Foreign Affairs and Cooperation, S...  \n",
       "3  maec-za  Ministry of Foreign Affairs and Cooperation, S...  \n",
       "4  maec-za  Ministry of Foreign Affairs and Cooperation, S...  \n",
       "\n",
       "                 ref \n",
       "0  ES-DIR3-E04585801 \n",
       "1  ES-DIR3-E04585801 \n",
       "2  ES-DIR3-E04585801 \n",
       "3  ES-DIR3-E04585801 \n",
       "4  ES-DIR3-E04585801  "
      ]
     },
     "execution_count": 41,
     "metadata": {},
     "output_type": "execute_result"
    }
   ],
   "source": [
    "others.head()"
   ]
  },
  {
   "cell_type": "code",
   "execution_count": 42,
   "metadata": {},
   "outputs": [
    {
     "data": {
      "text/html": [
       "<div>\n",
       "<style scoped>\n",
       "    .dataframe tbody tr th:only-of-type {\n",
       "        vertical-align: middle;\n",
       "    }\n",
       "\n",
       "    .dataframe tbody tr th {\n",
       "        vertical-align: top;\n",
       "    }\n",
       "\n",
       "    .dataframe thead th {\n",
       "        text-align: right;\n",
       "    }\n",
       "</style>\n",
       "<table border=\"1\" class=\"dataframe\">\n",
       "  <thead>\n",
       "    <tr style=\"text-align: right;\">\n",
       "      <th></th>\n",
       "      <th>file_id</th>\n",
       "      <th>narrative</th>\n",
       "      <th>ref</th>\n",
       "    </tr>\n",
       "  </thead>\n",
       "  <tbody>\n",
       "    <tr>\n",
       "      <th>127028</th>\n",
       "      <td>ocha_fts-sudan_2013</td>\n",
       "      <td>UN OCHA Financial Tracking Service</td>\n",
       "      <td>XM-OCHA-FTS</td>\n",
       "    </tr>\n",
       "    <tr>\n",
       "      <th>127029</th>\n",
       "      <td>ocha_fts-sudan_2013</td>\n",
       "      <td>UN OCHA Financial Tracking Service</td>\n",
       "      <td>XM-OCHA-FTS</td>\n",
       "    </tr>\n",
       "    <tr>\n",
       "      <th>127030</th>\n",
       "      <td>ocha_fts-sudan_2013</td>\n",
       "      <td>UN OCHA Financial Tracking Service</td>\n",
       "      <td>XM-OCHA-FTS</td>\n",
       "    </tr>\n",
       "    <tr>\n",
       "      <th>127031</th>\n",
       "      <td>ocha_fts-sudan_2013</td>\n",
       "      <td>UN OCHA Financial Tracking Service</td>\n",
       "      <td>XM-OCHA-FTS</td>\n",
       "    </tr>\n",
       "    <tr>\n",
       "      <th>127032</th>\n",
       "      <td>ocha_fts-sudan_2013</td>\n",
       "      <td>UN OCHA Financial Tracking Service</td>\n",
       "      <td>XM-OCHA-FTS</td>\n",
       "    </tr>\n",
       "  </tbody>\n",
       "</table>\n",
       "</div>"
      ],
      "text/plain": [
       "                    file_id                           narrative          ref\n",
       "127028  ocha_fts-sudan_2013  UN OCHA Financial Tracking Service  XM-OCHA-FTS\n",
       "127029  ocha_fts-sudan_2013  UN OCHA Financial Tracking Service  XM-OCHA-FTS\n",
       "127030  ocha_fts-sudan_2013  UN OCHA Financial Tracking Service  XM-OCHA-FTS\n",
       "127031  ocha_fts-sudan_2013  UN OCHA Financial Tracking Service  XM-OCHA-FTS\n",
       "127032  ocha_fts-sudan_2013  UN OCHA Financial Tracking Service  XM-OCHA-FTS"
      ]
     },
     "execution_count": 42,
     "metadata": {},
     "output_type": "execute_result"
    }
   ],
   "source": [
    "others.tail()"
   ]
  },
  {
   "cell_type": "markdown",
   "metadata": {},
   "source": [
    "## Participating Organizations"
   ]
  },
  {
   "cell_type": "code",
   "execution_count": 43,
   "metadata": {},
   "outputs": [],
   "source": [
    "participants = get_new_version_values('participating-org')"
   ]
  },
  {
   "cell_type": "code",
   "execution_count": 44,
   "metadata": {},
   "outputs": [
    {
     "data": {
      "text/html": [
       "<div>\n",
       "<style scoped>\n",
       "    .dataframe tbody tr th:only-of-type {\n",
       "        vertical-align: middle;\n",
       "    }\n",
       "\n",
       "    .dataframe tbody tr th {\n",
       "        vertical-align: top;\n",
       "    }\n",
       "\n",
       "    .dataframe thead th {\n",
       "        text-align: right;\n",
       "    }\n",
       "</style>\n",
       "<table border=\"1\" class=\"dataframe\">\n",
       "  <thead>\n",
       "    <tr style=\"text-align: right;\">\n",
       "      <th></th>\n",
       "      <th>file_id</th>\n",
       "      <th>narrative</th>\n",
       "      <th>ref</th>\n",
       "    </tr>\n",
       "  </thead>\n",
       "  <tbody>\n",
       "    <tr>\n",
       "      <th>0</th>\n",
       "      <td>unitedstates-bh</td>\n",
       "      <td>USA</td>\n",
       "      <td>US-USAGOV</td>\n",
       "    </tr>\n",
       "    <tr>\n",
       "      <th>1</th>\n",
       "      <td>unitedstates-bh</td>\n",
       "      <td>Department of Justice</td>\n",
       "      <td>US-GOV-15</td>\n",
       "    </tr>\n",
       "    <tr>\n",
       "      <th>2</th>\n",
       "      <td>unitedstates-bh</td>\n",
       "      <td>U.S. Department of State</td>\n",
       "      <td>US-GOV-11</td>\n",
       "    </tr>\n",
       "    <tr>\n",
       "      <th>3</th>\n",
       "      <td>unitedstates-bh</td>\n",
       "      <td>Department of Justice - Criminal Division - In...</td>\n",
       "      <td>None</td>\n",
       "    </tr>\n",
       "    <tr>\n",
       "      <th>4</th>\n",
       "      <td>unitedstates-bh</td>\n",
       "      <td>USA</td>\n",
       "      <td>US-USAGOV</td>\n",
       "    </tr>\n",
       "  </tbody>\n",
       "</table>\n",
       "</div>"
      ],
      "text/plain": [
       "           file_id                                          narrative  \\\n",
       "0  unitedstates-bh                                                USA  \n",
       "1  unitedstates-bh                              Department of Justice  \n",
       "2  unitedstates-bh                           U.S. Department of State  \n",
       "3  unitedstates-bh  Department of Justice - Criminal Division - In...  \n",
       "4  unitedstates-bh                                                USA  \n",
       "\n",
       "         ref \n",
       "0  US-USAGOV \n",
       "1  US-GOV-15 \n",
       "2  US-GOV-11 \n",
       "3       None \n",
       "4  US-USAGOV  "
      ]
     },
     "execution_count": 44,
     "metadata": {},
     "output_type": "execute_result"
    }
   ],
   "source": [
    "participants.head()"
   ]
  },
  {
   "cell_type": "code",
   "execution_count": 45,
   "metadata": {},
   "outputs": [
    {
     "data": {
      "text/html": [
       "<div>\n",
       "<style scoped>\n",
       "    .dataframe tbody tr th:only-of-type {\n",
       "        vertical-align: middle;\n",
       "    }\n",
       "\n",
       "    .dataframe tbody tr th {\n",
       "        vertical-align: top;\n",
       "    }\n",
       "\n",
       "    .dataframe thead th {\n",
       "        text-align: right;\n",
       "    }\n",
       "</style>\n",
       "<table border=\"1\" class=\"dataframe\">\n",
       "  <thead>\n",
       "    <tr style=\"text-align: right;\">\n",
       "      <th></th>\n",
       "      <th>file_id</th>\n",
       "      <th>narrative</th>\n",
       "      <th>ref</th>\n",
       "    </tr>\n",
       "  </thead>\n",
       "  <tbody>\n",
       "    <tr>\n",
       "      <th>2220206</th>\n",
       "      <td>usaid-ua</td>\n",
       "      <td>Enterprise - Non United States Unknown</td>\n",
       "      <td>None</td>\n",
       "    </tr>\n",
       "    <tr>\n",
       "      <th>2220207</th>\n",
       "      <td>usaid-ua</td>\n",
       "      <td>U.S. Agency for International Development</td>\n",
       "      <td>US-GOV-11</td>\n",
       "    </tr>\n",
       "    <tr>\n",
       "      <th>2220208</th>\n",
       "      <td>usaid-ua</td>\n",
       "      <td>U.S. Agency for International Development</td>\n",
       "      <td>US-GOV-1</td>\n",
       "    </tr>\n",
       "    <tr>\n",
       "      <th>2220209</th>\n",
       "      <td>usaid-ua</td>\n",
       "      <td>U.S. Agency for International Development</td>\n",
       "      <td>US-GOV-1</td>\n",
       "    </tr>\n",
       "    <tr>\n",
       "      <th>2220210</th>\n",
       "      <td>usaid-ua</td>\n",
       "      <td>Enterprise - Non United States Unknown</td>\n",
       "      <td>None</td>\n",
       "    </tr>\n",
       "  </tbody>\n",
       "</table>\n",
       "</div>"
      ],
      "text/plain": [
       "          file_id                                  narrative        ref\n",
       "2220206  usaid-ua     Enterprise - Non United States Unknown       None\n",
       "2220207  usaid-ua  U.S. Agency for International Development  US-GOV-11\n",
       "2220208  usaid-ua  U.S. Agency for International Development   US-GOV-1\n",
       "2220209  usaid-ua  U.S. Agency for International Development   US-GOV-1\n",
       "2220210  usaid-ua     Enterprise - Non United States Unknown       None"
      ]
     },
     "execution_count": 45,
     "metadata": {},
     "output_type": "execute_result"
    }
   ],
   "source": [
    "participants.tail()"
   ]
  },
  {
   "cell_type": "markdown",
   "metadata": {},
   "source": [
    "## Transaction Providers"
   ]
  },
  {
   "cell_type": "code",
   "execution_count": 46,
   "metadata": {},
   "outputs": [],
   "source": [
    "transaction_providers = get_new_version_values('transaction.provider-org')"
   ]
  },
  {
   "cell_type": "code",
   "execution_count": 47,
   "metadata": {},
   "outputs": [
    {
     "data": {
      "text/html": [
       "<div>\n",
       "<style scoped>\n",
       "    .dataframe tbody tr th:only-of-type {\n",
       "        vertical-align: middle;\n",
       "    }\n",
       "\n",
       "    .dataframe tbody tr th {\n",
       "        vertical-align: top;\n",
       "    }\n",
       "\n",
       "    .dataframe thead th {\n",
       "        text-align: right;\n",
       "    }\n",
       "</style>\n",
       "<table border=\"1\" class=\"dataframe\">\n",
       "  <thead>\n",
       "    <tr style=\"text-align: right;\">\n",
       "      <th></th>\n",
       "      <th>file_id</th>\n",
       "      <th>narrative</th>\n",
       "      <th>ref</th>\n",
       "    </tr>\n",
       "  </thead>\n",
       "  <tbody>\n",
       "    <tr>\n",
       "      <th>0</th>\n",
       "      <td>free_press_unlimited-798</td>\n",
       "      <td>Free Press Unlimited</td>\n",
       "      <td>NL-KVK-52957535</td>\n",
       "    </tr>\n",
       "    <tr>\n",
       "      <th>1</th>\n",
       "      <td>free_press_unlimited-798</td>\n",
       "      <td>Free Press Unlimited</td>\n",
       "      <td>NL-KVK-52957535</td>\n",
       "    </tr>\n",
       "    <tr>\n",
       "      <th>2</th>\n",
       "      <td>who-eth</td>\n",
       "      <td>Assessed Contributions</td>\n",
       "      <td></td>\n",
       "    </tr>\n",
       "    <tr>\n",
       "      <th>3</th>\n",
       "      <td>who-eth</td>\n",
       "      <td>Core Voluntary Contributions</td>\n",
       "      <td></td>\n",
       "    </tr>\n",
       "    <tr>\n",
       "      <th>4</th>\n",
       "      <td>who-eth</td>\n",
       "      <td>United States of America</td>\n",
       "      <td></td>\n",
       "    </tr>\n",
       "  </tbody>\n",
       "</table>\n",
       "</div>"
      ],
      "text/plain": [
       "                    file_id                     narrative              ref\n",
       "0  free_press_unlimited-798          Free Press Unlimited  NL-KVK-52957535\n",
       "1  free_press_unlimited-798          Free Press Unlimited  NL-KVK-52957535\n",
       "2                   who-eth        Assessed Contributions                \n",
       "3                   who-eth  Core Voluntary Contributions                \n",
       "4                   who-eth      United States of America                 "
      ]
     },
     "execution_count": 47,
     "metadata": {},
     "output_type": "execute_result"
    }
   ],
   "source": [
    "transaction_providers.head()"
   ]
  },
  {
   "cell_type": "code",
   "execution_count": 48,
   "metadata": {},
   "outputs": [
    {
     "data": {
      "text/html": [
       "<div>\n",
       "<style scoped>\n",
       "    .dataframe tbody tr th:only-of-type {\n",
       "        vertical-align: middle;\n",
       "    }\n",
       "\n",
       "    .dataframe tbody tr th {\n",
       "        vertical-align: top;\n",
       "    }\n",
       "\n",
       "    .dataframe thead th {\n",
       "        text-align: right;\n",
       "    }\n",
       "</style>\n",
       "<table border=\"1\" class=\"dataframe\">\n",
       "  <thead>\n",
       "    <tr style=\"text-align: right;\">\n",
       "      <th></th>\n",
       "      <th>file_id</th>\n",
       "      <th>narrative</th>\n",
       "      <th>ref</th>\n",
       "    </tr>\n",
       "  </thead>\n",
       "  <tbody>\n",
       "    <tr>\n",
       "      <th>811185</th>\n",
       "      <td>unitedstates-ne2</td>\n",
       "      <td>Millennium Challenge Corporation</td>\n",
       "      <td>US-18</td>\n",
       "    </tr>\n",
       "    <tr>\n",
       "      <th>811186</th>\n",
       "      <td>unitedstates-ne2</td>\n",
       "      <td>Millennium Challenge Corporation</td>\n",
       "      <td>US-18</td>\n",
       "    </tr>\n",
       "    <tr>\n",
       "      <th>811187</th>\n",
       "      <td>unitedstates-ne2</td>\n",
       "      <td>Millennium Challenge Corporation</td>\n",
       "      <td>US-18</td>\n",
       "    </tr>\n",
       "    <tr>\n",
       "      <th>811188</th>\n",
       "      <td>unitedstates-ne2</td>\n",
       "      <td>Millennium Challenge Corporation</td>\n",
       "      <td>US-18</td>\n",
       "    </tr>\n",
       "    <tr>\n",
       "      <th>811189</th>\n",
       "      <td>unitedstates-ne2</td>\n",
       "      <td>Millennium Challenge Corporation</td>\n",
       "      <td>US-18</td>\n",
       "    </tr>\n",
       "  </tbody>\n",
       "</table>\n",
       "</div>"
      ],
      "text/plain": [
       "                 file_id                         narrative    ref\n",
       "811185  unitedstates-ne2  Millennium Challenge Corporation  US-18\n",
       "811186  unitedstates-ne2  Millennium Challenge Corporation  US-18\n",
       "811187  unitedstates-ne2  Millennium Challenge Corporation  US-18\n",
       "811188  unitedstates-ne2  Millennium Challenge Corporation  US-18\n",
       "811189  unitedstates-ne2  Millennium Challenge Corporation  US-18"
      ]
     },
     "execution_count": 48,
     "metadata": {},
     "output_type": "execute_result"
    }
   ],
   "source": [
    "transaction_providers.tail()"
   ]
  },
  {
   "cell_type": "markdown",
   "metadata": {},
   "source": [
    "## Transaction Receivers"
   ]
  },
  {
   "cell_type": "code",
   "execution_count": 49,
   "metadata": {},
   "outputs": [],
   "source": [
    "transaction_receivers = get_new_version_values('transaction.receiver-org')"
   ]
  },
  {
   "cell_type": "code",
   "execution_count": 50,
   "metadata": {},
   "outputs": [
    {
     "data": {
      "text/html": [
       "<div>\n",
       "<style scoped>\n",
       "    .dataframe tbody tr th:only-of-type {\n",
       "        vertical-align: middle;\n",
       "    }\n",
       "\n",
       "    .dataframe tbody tr th {\n",
       "        vertical-align: top;\n",
       "    }\n",
       "\n",
       "    .dataframe thead th {\n",
       "        text-align: right;\n",
       "    }\n",
       "</style>\n",
       "<table border=\"1\" class=\"dataframe\">\n",
       "  <thead>\n",
       "    <tr style=\"text-align: right;\">\n",
       "      <th></th>\n",
       "      <th>file_id</th>\n",
       "      <th>narrative</th>\n",
       "      <th>ref</th>\n",
       "    </tr>\n",
       "  </thead>\n",
       "  <tbody>\n",
       "    <tr>\n",
       "      <th>0</th>\n",
       "      <td>free_press_unlimited-798</td>\n",
       "      <td>Free Press Unlimited</td>\n",
       "      <td>NL-KVK-52957535</td>\n",
       "    </tr>\n",
       "    <tr>\n",
       "      <th>1</th>\n",
       "      <td>free_press_unlimited-798</td>\n",
       "      <td>Free Press Unlimited</td>\n",
       "      <td>NL-KVK-52957535</td>\n",
       "    </tr>\n",
       "    <tr>\n",
       "      <th>2</th>\n",
       "      <td>ec-devco-qre</td>\n",
       "      <td>Associazione Culturale Cooperazione Internazio...</td>\n",
       "      <td>None</td>\n",
       "    </tr>\n",
       "    <tr>\n",
       "      <th>3</th>\n",
       "      <td>ec-devco-qre</td>\n",
       "      <td>Associazione Culturale Cooperazione Internazio...</td>\n",
       "      <td>None</td>\n",
       "    </tr>\n",
       "    <tr>\n",
       "      <th>4</th>\n",
       "      <td>ec-devco-qre</td>\n",
       "      <td>Commune De Bordeaux</td>\n",
       "      <td>None</td>\n",
       "    </tr>\n",
       "  </tbody>\n",
       "</table>\n",
       "</div>"
      ],
      "text/plain": [
       "                    file_id  \\\n",
       "0  free_press_unlimited-798  \n",
       "1  free_press_unlimited-798  \n",
       "2              ec-devco-qre  \n",
       "3              ec-devco-qre  \n",
       "4              ec-devco-qre  \n",
       "\n",
       "                                           narrative              ref \n",
       "0                               Free Press Unlimited  NL-KVK-52957535 \n",
       "1                               Free Press Unlimited  NL-KVK-52957535 \n",
       "2  Associazione Culturale Cooperazione Internazio...             None \n",
       "3  Associazione Culturale Cooperazione Internazio...             None \n",
       "4                                Commune De Bordeaux             None  "
      ]
     },
     "execution_count": 50,
     "metadata": {},
     "output_type": "execute_result"
    }
   ],
   "source": [
    "transaction_receivers.head()"
   ]
  },
  {
   "cell_type": "code",
   "execution_count": 51,
   "metadata": {},
   "outputs": [
    {
     "data": {
      "text/html": [
       "<div>\n",
       "<style scoped>\n",
       "    .dataframe tbody tr th:only-of-type {\n",
       "        vertical-align: middle;\n",
       "    }\n",
       "\n",
       "    .dataframe tbody tr th {\n",
       "        vertical-align: top;\n",
       "    }\n",
       "\n",
       "    .dataframe thead th {\n",
       "        text-align: right;\n",
       "    }\n",
       "</style>\n",
       "<table border=\"1\" class=\"dataframe\">\n",
       "  <thead>\n",
       "    <tr style=\"text-align: right;\">\n",
       "      <th></th>\n",
       "      <th>file_id</th>\n",
       "      <th>narrative</th>\n",
       "      <th>ref</th>\n",
       "    </tr>\n",
       "  </thead>\n",
       "  <tbody>\n",
       "    <tr>\n",
       "      <th>1015891</th>\n",
       "      <td>unitedstates-ne2</td>\n",
       "      <td>Niger</td>\n",
       "      <td>None</td>\n",
       "    </tr>\n",
       "    <tr>\n",
       "      <th>1015892</th>\n",
       "      <td>unitedstates-ne2</td>\n",
       "      <td>Niger</td>\n",
       "      <td>None</td>\n",
       "    </tr>\n",
       "    <tr>\n",
       "      <th>1015893</th>\n",
       "      <td>unitedstates-ne2</td>\n",
       "      <td>Niger</td>\n",
       "      <td>None</td>\n",
       "    </tr>\n",
       "    <tr>\n",
       "      <th>1015894</th>\n",
       "      <td>unitedstates-ne2</td>\n",
       "      <td>Niger</td>\n",
       "      <td>None</td>\n",
       "    </tr>\n",
       "    <tr>\n",
       "      <th>1015895</th>\n",
       "      <td>unitedstates-ne2</td>\n",
       "      <td>Niger</td>\n",
       "      <td>None</td>\n",
       "    </tr>\n",
       "  </tbody>\n",
       "</table>\n",
       "</div>"
      ],
      "text/plain": [
       "                  file_id narrative   ref\n",
       "1015891  unitedstates-ne2     Niger  None\n",
       "1015892  unitedstates-ne2     Niger  None\n",
       "1015893  unitedstates-ne2     Niger  None\n",
       "1015894  unitedstates-ne2     Niger  None\n",
       "1015895  unitedstates-ne2     Niger  None"
      ]
     },
     "execution_count": 51,
     "metadata": {},
     "output_type": "execute_result"
    }
   ],
   "source": [
    "transaction_receivers.tail()"
   ]
  },
  {
   "cell_type": "markdown",
   "metadata": {},
   "source": [
    "# Check Ref-Names"
   ]
  },
  {
   "cell_type": "code",
   "execution_count": 52,
   "metadata": {},
   "outputs": [],
   "source": [
    "name_lookup = defaultdict(set)"
   ]
  },
  {
   "cell_type": "code",
   "execution_count": 53,
   "metadata": {},
   "outputs": [],
   "source": [
    "def get_names_from_organization(item, ref):\n",
    "    short_names = []\n",
    "\n",
    "    if '#text' in item:\n",
    "        short_names.extend([item['#text']])\n",
    "   \n",
    "    if 'name' in item:\n",
    "        get_names_from_organization(item['name'], ref)\n",
    "   \n",
    "    if 'narrative' in item:\n",
    "        narrative = item['narrative']\n",
    "\n",
    "        if type(narrative) == dict:\n",
    "            get_names_from_organization(narrative, ref)\n",
    "        elif type(narrative) == list:\n",
    "            for subnarrative in narrative:\n",
    "                get_names_from_organization(subnarrative, ref)\n",
    "        else:\n",
    "            short_names.extend([narrative])\n",
    "\n",
    "    if len(short_names) == 0:\n",
    "        return\n",
    "\n",
    "    if ref not in name_lookup:\n",
    "        name_lookup[ref] = set()\n",
    "\n",
    "    name_lookup[ref] |= set(short_names)"
   ]
  },
  {
   "cell_type": "code",
   "execution_count": 54,
   "metadata": {},
   "outputs": [],
   "source": [
    "for organization in organizations.find():\n",
    "    if 'organisation-identifier' in organization:\n",
    "        ref = organization['organisation-identifier']\n",
    "\n",
    "        if type(ref) == dict:\n",
    "            ref = ref['#text']\n",
    "\n",
    "        get_names_from_organization(organization, ref)\n",
    "\n",
    "    if 'reporting-org' in organization:\n",
    "        reporting_org = organization['reporting-org']\n",
    "\n",
    "        if '@ref' not in reporting_org:\n",
    "            continue\n",
    "\n",
    "        ref = reporting_org['@ref']\n",
    "\n",
    "        if type(reporting_org) == list:\n",
    "            for item in reporting_org:\n",
    "                get_names_from_organization(item, ref)\n",
    "        elif type(reporting_org) == dict:\n",
    "            get_names_from_organization(reporting_org, ref)"
   ]
  },
  {
   "cell_type": "code",
   "execution_count": 55,
   "metadata": {},
   "outputs": [
    {
     "data": {
      "text/plain": [
       "287"
      ]
     },
     "execution_count": 55,
     "metadata": {},
     "output_type": "execute_result"
    }
   ],
   "source": [
    "len(name_lookup)"
   ]
  },
  {
   "cell_type": "code",
   "execution_count": 56,
   "metadata": {},
   "outputs": [],
   "source": [
    "short_names_by_ref = {}\n",
    "short_names_by_ref.update(name_lookup)"
   ]
  },
  {
   "cell_type": "code",
   "execution_count": 57,
   "metadata": {},
   "outputs": [
    {
     "data": {
      "text/plain": [
       "287"
      ]
     },
     "execution_count": 57,
     "metadata": {},
     "output_type": "execute_result"
    }
   ],
   "source": [
    "len(short_names_by_ref)"
   ]
  },
  {
   "cell_type": "markdown",
   "metadata": {},
   "source": [
    "## Check Ref to Name Mapping"
   ]
  },
  {
   "cell_type": "code",
   "execution_count": 58,
   "metadata": {},
   "outputs": [],
   "source": [
    "def get_names_from_activity(df):\n",
    "    for file_id, ref, narrative in zip(df['file_id'], df['ref'], df['narrative']):\n",
    "        if ref is None or narrative is None:\n",
    "            continue\n",
    "\n",
    "        ref = ref.strip()\n",
    "\n",
    "        if len(ref) == 0:\n",
    "            continue\n",
    "\n",
    "        if type(narrative) != list:\n",
    "            narrative = narrative.strip()\n",
    "\n",
    "            if len(narrative) > 0:\n",
    "                name_lookup[ref].add(narrative)\n",
    "\n",
    "            continue\n",
    "\n",
    "        for item in narrative:\n",
    "            if item is None:\n",
    "                continue\n",
    "\n",
    "            item = item.strip()\n",
    "\n",
    "            if len(item) > 0:\n",
    "                name_lookup[ref].add(item)"
   ]
  },
  {
   "cell_type": "code",
   "execution_count": 59,
   "metadata": {},
   "outputs": [],
   "source": [
    "get_names_from_activity(reporters)\n",
    "get_names_from_activity(others)\n",
    "get_names_from_activity(participants)\n",
    "get_names_from_activity(transaction_providers)\n",
    "get_names_from_activity(transaction_receivers)"
   ]
  },
  {
   "cell_type": "code",
   "execution_count": 60,
   "metadata": {},
   "outputs": [
    {
     "data": {
      "text/plain": [
       "10123"
      ]
     },
     "execution_count": 60,
     "metadata": {},
     "output_type": "execute_result"
    }
   ],
   "source": [
    "len(name_lookup)"
   ]
  },
  {
   "cell_type": "code",
   "execution_count": 61,
   "metadata": {},
   "outputs": [],
   "source": [
    "multiple_names = []\n",
    "\n",
    "for ref, names in name_lookup.items():\n",
    "    if len(names) > 1:\n",
    "        multiple_names.append({'ref': ref, 'narrative': names})"
   ]
  },
  {
   "cell_type": "code",
   "execution_count": 62,
   "metadata": {},
   "outputs": [
    {
     "data": {
      "text/plain": [
       "2302"
      ]
     },
     "execution_count": 62,
     "metadata": {},
     "output_type": "execute_result"
    }
   ],
   "source": [
    "len(multiple_names)"
   ]
  },
  {
   "cell_type": "code",
   "execution_count": 63,
   "metadata": {},
   "outputs": [
    {
     "data": {
      "text/html": [
       "<div>\n",
       "<style scoped>\n",
       "    .dataframe tbody tr th:only-of-type {\n",
       "        vertical-align: middle;\n",
       "    }\n",
       "\n",
       "    .dataframe tbody tr th {\n",
       "        vertical-align: top;\n",
       "    }\n",
       "\n",
       "    .dataframe thead th {\n",
       "        text-align: right;\n",
       "    }\n",
       "</style>\n",
       "<table border=\"1\" class=\"dataframe\">\n",
       "  <thead>\n",
       "    <tr style=\"text-align: right;\">\n",
       "      <th></th>\n",
       "      <th>narrative</th>\n",
       "      <th>ref</th>\n",
       "    </tr>\n",
       "  </thead>\n",
       "  <tbody>\n",
       "    <tr>\n",
       "      <th>0</th>\n",
       "      <td>{Stichting Both Ends, STICHTING BOTH ENDS, Sti...</td>\n",
       "      <td>NL-KVK-41210098</td>\n",
       "    </tr>\n",
       "    <tr>\n",
       "      <th>1</th>\n",
       "      <td>{Theatre for a Change Malawi, TfaC MW, Q4 Expe...</td>\n",
       "      <td>MW-NBM-00139</td>\n",
       "    </tr>\n",
       "    <tr>\n",
       "      <th>2</th>\n",
       "      <td>{UNICEF Kinshasa (Inactive), UNICEF UK, UNITED...</td>\n",
       "      <td>41122</td>\n",
       "    </tr>\n",
       "    <tr>\n",
       "      <th>3</th>\n",
       "      <td>{Y3 Q4 disbursement, Income from DFID Y4 Q1, D...</td>\n",
       "      <td>GB-CHC-327519</td>\n",
       "    </tr>\n",
       "    <tr>\n",
       "      <th>4</th>\n",
       "      <td>{Department Of Interior, Department of Interior}</td>\n",
       "      <td>US-GOV-9</td>\n",
       "    </tr>\n",
       "  </tbody>\n",
       "</table>\n",
       "</div>"
      ],
      "text/plain": [
       "                                           narrative              ref\n",
       "0  {Stichting Both Ends, STICHTING BOTH ENDS, Sti...  NL-KVK-41210098\n",
       "1  {Theatre for a Change Malawi, TfaC MW, Q4 Expe...     MW-NBM-00139\n",
       "2  {UNICEF Kinshasa (Inactive), UNICEF UK, UNITED...            41122\n",
       "3  {Y3 Q4 disbursement, Income from DFID Y4 Q1, D...    GB-CHC-327519\n",
       "4   {Department Of Interior, Department of Interior}         US-GOV-9"
      ]
     },
     "execution_count": 63,
     "metadata": {},
     "output_type": "execute_result"
    }
   ],
   "source": [
    "pandas.DataFrame(multiple_names).head()"
   ]
  },
  {
   "cell_type": "markdown",
   "metadata": {},
   "source": [
    "## Check Name to Ref Mapping"
   ]
  },
  {
   "cell_type": "code",
   "execution_count": 64,
   "metadata": {},
   "outputs": [],
   "source": [
    "ref_lookup = defaultdict(set)"
   ]
  },
  {
   "cell_type": "code",
   "execution_count": 65,
   "metadata": {},
   "outputs": [],
   "source": [
    "def get_refs(df):\n",
    "    for file_id, ref, narrative in zip(df['file_id'], df['ref'], df['narrative']):\n",
    "        if ref is None or narrative is None:\n",
    "            continue\n",
    "\n",
    "        ref = ref.strip()\n",
    "\n",
    "        if len(ref) == 0:\n",
    "            continue\n",
    "\n",
    "        if type(narrative) != list:\n",
    "            narrative = narrative.strip()\n",
    "\n",
    "            if len(narrative) > 0:\n",
    "                ref_lookup[narrative].add(ref)\n",
    "\n",
    "            continue\n",
    "\n",
    "        for item in narrative:\n",
    "            if item is None:\n",
    "                continue\n",
    "\n",
    "            item = item.strip()\n",
    "\n",
    "            if len(item) > 0:\n",
    "                ref_lookup[item].add(ref)"
   ]
  },
  {
   "cell_type": "code",
   "execution_count": 66,
   "metadata": {},
   "outputs": [],
   "source": [
    "get_refs(reporters)\n",
    "get_refs(others)\n",
    "get_refs(participants)\n",
    "get_refs(transaction_providers)\n",
    "get_refs(transaction_receivers)"
   ]
  },
  {
   "cell_type": "code",
   "execution_count": 67,
   "metadata": {},
   "outputs": [
    {
     "data": {
      "text/plain": [
       "28588"
      ]
     },
     "execution_count": 67,
     "metadata": {},
     "output_type": "execute_result"
    }
   ],
   "source": [
    "len(ref_lookup)"
   ]
  },
  {
   "cell_type": "code",
   "execution_count": 68,
   "metadata": {},
   "outputs": [],
   "source": [
    "multiple_refs = []\n",
    "\n",
    "for name, refs in ref_lookup.items():\n",
    "    if len(refs) > 1:\n",
    "        multiple_refs.append({'narrative': name, 'ref': refs})"
   ]
  },
  {
   "cell_type": "code",
   "execution_count": 69,
   "metadata": {},
   "outputs": [
    {
     "data": {
      "text/plain": [
       "2463"
      ]
     },
     "execution_count": 69,
     "metadata": {},
     "output_type": "execute_result"
    }
   ],
   "source": [
    "len(multiple_refs)"
   ]
  },
  {
   "cell_type": "code",
   "execution_count": 70,
   "metadata": {},
   "outputs": [
    {
     "data": {
      "text/html": [
       "<div>\n",
       "<style scoped>\n",
       "    .dataframe tbody tr th:only-of-type {\n",
       "        vertical-align: middle;\n",
       "    }\n",
       "\n",
       "    .dataframe tbody tr th {\n",
       "        vertical-align: top;\n",
       "    }\n",
       "\n",
       "    .dataframe thead th {\n",
       "        text-align: right;\n",
       "    }\n",
       "</style>\n",
       "<table border=\"1\" class=\"dataframe\">\n",
       "  <thead>\n",
       "    <tr style=\"text-align: right;\">\n",
       "      <th></th>\n",
       "      <th>narrative</th>\n",
       "      <th>ref</th>\n",
       "    </tr>\n",
       "  </thead>\n",
       "  <tbody>\n",
       "    <tr>\n",
       "      <th>0</th>\n",
       "      <td>Free Press Unlimited</td>\n",
       "      <td>{504222, NL-KVK-52957535}</td>\n",
       "    </tr>\n",
       "    <tr>\n",
       "      <th>1</th>\n",
       "      <td>Transparency International Secretariat</td>\n",
       "      <td>{XM-DAC-21033, 21033}</td>\n",
       "    </tr>\n",
       "    <tr>\n",
       "      <th>2</th>\n",
       "      <td>United Nations Population Fund</td>\n",
       "      <td>{XM-DAC-41119, 42003, XM-OCHA-FTS1171, 42001, ...</td>\n",
       "    </tr>\n",
       "    <tr>\n",
       "      <th>3</th>\n",
       "      <td>World Health Organization</td>\n",
       "      <td>{XM-OCHA-FTS122, 02358, 42001, 10000, XM-DAC-928}</td>\n",
       "    </tr>\n",
       "    <tr>\n",
       "      <th>4</th>\n",
       "      <td>CAFOD</td>\n",
       "      <td>{22000, GB-CHC-285776}</td>\n",
       "    </tr>\n",
       "  </tbody>\n",
       "</table>\n",
       "</div>"
      ],
      "text/plain": [
       "                                narrative  \\\n",
       "0                    Free Press Unlimited  \n",
       "1  Transparency International Secretariat  \n",
       "2          United Nations Population Fund  \n",
       "3               World Health Organization  \n",
       "4                                   CAFOD  \n",
       "\n",
       "                                                 ref \n",
       "0                          {504222, NL-KVK-52957535} \n",
       "1                              {XM-DAC-21033, 21033} \n",
       "2  {XM-DAC-41119, 42003, XM-OCHA-FTS1171, 42001, ... \n",
       "3  {XM-OCHA-FTS122, 02358, 42001, 10000, XM-DAC-928} \n",
       "4                             {22000, GB-CHC-285776}  "
      ]
     },
     "execution_count": 70,
     "metadata": {},
     "output_type": "execute_result"
    }
   ],
   "source": [
    "pandas.DataFrame(multiple_refs).head()"
   ]
  },
  {
   "cell_type": "markdown",
   "metadata": {},
   "source": [
    "## Store as Pickled Files"
   ]
  },
  {
   "cell_type": "code",
   "execution_count": 71,
   "metadata": {},
   "outputs": [],
   "source": [
    "with open('short_names_by_ref.pickle', 'wb') as f:\n",
    "    pickle.dump(short_names_by_ref, f)"
   ]
  },
  {
   "cell_type": "code",
   "execution_count": 72,
   "metadata": {},
   "outputs": [],
   "source": [
    "with open('lookup_by_ref.pickle', 'wb') as f:\n",
    "    pickle.dump(name_lookup, f)"
   ]
  },
  {
   "cell_type": "code",
   "execution_count": 73,
   "metadata": {},
   "outputs": [],
   "source": [
    "with open('lookup_by_name.pickle', 'wb') as f:\n",
    "    pickle.dump(ref_lookup, f)"
   ]
  },
  {
   "cell_type": "markdown",
   "metadata": {},
   "source": [
    "# Backup Files"
   ]
  },
  {
   "cell_type": "code",
   "execution_count": 74,
   "metadata": {},
   "outputs": [],
   "source": [
    "!rm -f lookup.tar.gz\n",
    "!tar -cf lookup.tar iati_urls_by_ref.pickle short_names_by_ref.pickle lookup_by_ref.pickle lookup_by_name.pickle\n",
    "!gzip lookup.tar"
   ]
  },
  {
   "cell_type": "code",
   "execution_count": 75,
   "metadata": {},
   "outputs": [],
   "source": [
    "s3_bucket = 'mdang.w210'"
   ]
  },
  {
   "cell_type": "code",
   "execution_count": 76,
   "metadata": {},
   "outputs": [
    {
     "name": "stdout",
     "output_type": "stream",
     "text": [
      "upload: ./lookup.tar.gz to s3://mdang.w210/lookup.tar.gz\r\n"
     ]
    }
   ],
   "source": [
    "!aws s3 cp lookup.tar.gz s3://{s3_bucket}/ --acl public-read"
   ]
  }
 ],
 "metadata": {
  "kernelspec": {
   "display_name": "Python 3",
   "language": "python",
   "name": "python3"
  },
  "language_info": {
   "codemirror_mode": {
    "name": "ipython",
    "version": 3
   },
   "file_extension": ".py",
   "mimetype": "text/x-python",
   "name": "python",
   "nbconvert_exporter": "python",
   "pygments_lexer": "ipython3",
   "version": "3.6.2"
  }
 },
 "nbformat": 4,
 "nbformat_minor": 1
}
